{
  "nbformat": 4,
  "nbformat_minor": 0,
  "metadata": {
    "colab": {
      "provenance": [],
      "authorship_tag": "ABX9TyMJUmYLq5g/95roG6S7wW9m",
      "include_colab_link": true
    },
    "kernelspec": {
      "name": "python3",
      "display_name": "Python 3"
    },
    "language_info": {
      "name": "python"
    }
  },
  "cells": [
    {
      "cell_type": "markdown",
      "metadata": {
        "id": "view-in-github",
        "colab_type": "text"
      },
      "source": [
        "<a href=\"https://colab.research.google.com/github/ReidelVichot/PUA2022_RVichot/blob/main/Labs/Week4_1.ipynb\" target=\"_parent\"><img src=\"https://colab.research.google.com/assets/colab-badge.svg\" alt=\"Open In Colab\"/></a>"
      ]
    },
    {
      "cell_type": "code",
      "source": [
        "import pandas as pd\n",
        "import numpy as np"
      ],
      "metadata": {
        "id": "rowoM7yvbHqk"
      },
      "execution_count": null,
      "outputs": []
    },
    {
      "cell_type": "code",
      "execution_count": 29,
      "metadata": {
        "id": "yBiU-cgkfPVB"
      },
      "outputs": [],
      "source": [
        "times = pd.read_csv(\"https://raw.githubusercontent.com/fedhere/PUS2022_FBianco/main/classdemo/times.txt\", header=None)\n",
        "\n",
        "std = times.std()\n",
        "mean = times.mean()\n",
        "\n",
        "mu = 34\n",
        "sigma = 2.5"
      ]
    },
    {
      "cell_type": "code",
      "source": [
        "Z = (mu - times.mean())/(sigma / np.sqrt(len(times)))\n",
        "Z"
      ],
      "metadata": {
        "id": "4mP81_IxdFWO",
        "outputId": "640b2c68-661b-44f1-ccfd-b487e299e244",
        "colab": {
          "base_uri": "https://localhost:8080/"
        }
      },
      "execution_count": 31,
      "outputs": [
        {
          "output_type": "execute_result",
          "data": {
            "text/plain": [
              "0   -1.864647\n",
              "dtype: float64"
            ]
          },
          "metadata": {},
          "execution_count": 31
        }
      ]
    }
  ]
}