{
  "nbformat": 4,
  "nbformat_minor": 0,
  "metadata": {
    "colab": {
      "provenance": [],
      "include_colab_link": true
    },
    "kernelspec": {
      "name": "python3",
      "display_name": "Python 3"
    }
  },
  "cells": [
    {
      "cell_type": "markdown",
      "metadata": {
        "id": "view-in-github",
        "colab_type": "text"
      },
      "source": [
        "<a href=\"https://colab.research.google.com/github/ReidelVichot/PUS2022_RVichot/blob/main/HW6/RandomForest_solution_working.ipynb\" target=\"_parent\"><img src=\"https://colab.research.google.com/assets/colab-badge.svg\" alt=\"Open In Colab\"/></a>"
      ]
    },
    {
      "cell_type": "markdown",
      "metadata": {
        "id": "KW9Oy459fxHz"
      },
      "source": [
        "Following the paper \"Examining the feasibility of using open data to benchmark building energy usage in cities: A data science and policy perspective\" [Roth et al 2019](https://www.researchgate.net/publication/337074109_Examining_the_feasibility_of_using_open_data_to_benchmark_building_energy_usage_in_cities_A_data_science_and_policy_perspective), choose 2 cities in the dataset available through the paper's github repository https://github.com/Urban-Informatics-Lab/Open-Data-Benchmarking\n",
        "\n",
        "This paper is an excellent example of reproducible research. \n",
        "\n",
        "I also created an example of using random forest classifier and regressors here https://github.com/fedhere/PUS2022_FBianco/blob/master/classdemo/COVID19LOS_featureExtractionRFexample.ipynb and there are links at the bottom of this notebook to useful functions and examples on the internet of applications of methods you will need to use.\n",
        "\n",
        "1. Read the introduction to the paper and describe here (briefly) the goals of their analysis (and the analysis that you are about to reproduce). Max 200 words.\n",
        "\n",
        "  Studies have shown gaps in buildings’ energy efficiency. Meaning that most efficient energetical technologies are not correctly implemented. This gap probably happens because of market barriers, imperfect information, hidden costs, regulatory failures, and behavioral negligence. \n",
        "  The urgency for action has motivated global initiatives like the United Nations Sustainable Development Goals (SDGs) and the Paris Climate Agreement that aim at reducing energy consumption. Some major cities worldwide committed to making all new buildings from 2030 carbon-neutral and older buildings carbon-neutral by 2050. \n",
        "  Reducing the energy consumption of buildings has important implications for environmental, economic, and social health. The increase in buildings’ energy efficiency can reduce the demand for electricity and, therefore, the amounts of carbon dioxide emitted to the atmosphere. Building energy benchmarking policies is among some of cities' responses to the benefits of implementing energy-efficient policies.  \n",
        "  The paper (Roth et al., 2019) tries to answer the following questions: \n",
        "  *   Can city-wide energy benchmarking be conducted using only open data and how do such models compare to the current practice?\n",
        "  *   What benchmarking data fields are important for cities to collect?\n",
        "  *   What policies and programs improve the efficacy of energy benchmarking programs?\n",
        "\n",
        "\n",
        "2. Choose 2 cities (any 2 cities except Seattle cause I am running some of the Seattle analysis below for guidance)\n",
        "\n",
        "  *   Chicago\n",
        "  *   DC\n",
        "   \n",
        "\n",
        "3. For each of the 2 cities reproduce their analysis by \n",
        "\n",
        "  3.1 gathering the original data from their repository (see below for Seattle example)\n",
        "\n",
        "  3.2 clean the data according to their data preparation scheme, including one-hot-encoding categorical variables, except to impute missing data using KNearestNeighors instead of Gibbs sampling (see below)\n",
        "\n",
        "  3.3 run a Random Forest (RF) Regressor to predict the total energy consumption.\n",
        "\n",
        "  3.4 evaluate the RF model performance by printing the R2 score (the default score in SKLearn RF) for training and test set (discuss)\n",
        "\n",
        "  3.5 plot the features sorted by their importance and identify the most important features. are they consistent between the 2 cities? are they consistent with the paper's result?\n",
        "4 compare the result for the 2 cities (discuss)\n",
        "\n",
        "5. Extra credit: \n",
        "\n",
        "  5.1 modify the target variable to a binary variable choosing the median of the variable values as the the energy threshold and predict whether the value is higher or lower than the threshold\n",
        "  5.2 Run a Random Forest Classifier to predict if an observation is in the upper 50% percentile or lower 50% percentile (above or below the median threshold)\n",
        "  5.3 Measure the performance of the model on training and test data\n",
        "  5.4 Measure the feature importance and assess if the important feature have changed (discuss)"
      ]
    },
    {
      "cell_type": "code",
      "metadata": {
        "id": "EVupHHIYHuUK"
      },
      "source": [
        "import pandas as pd\n",
        "import numpy as np"
      ],
      "execution_count": 60,
      "outputs": []
    },
    {
      "cell_type": "markdown",
      "metadata": {
        "id": "5Wia-RaAXtJC"
      },
      "source": [
        "# choose a city and read in the data"
      ]
    },
    {
      "cell_type": "code",
      "metadata": {
        "id": "hmVzVH0dHwP1"
      },
      "source": [
        "seattle = pd.read_csv(\"https://raw.githubusercontent.com/Urban-Informatics-Lab/Open-Data-Benchmarking/master/Seattle/seattle_final.csv\")\n",
        "dc = pd.read_csv(\"https://github.com/Urban-Informatics-Lab/Open-Data-Benchmarking/raw/master/DC/DC_final.csv\")\n",
        "chicago = pd.read_csv(\"https://github.com/Urban-Informatics-Lab/Open-Data-Benchmarking/raw/master/Chicago/chi_final.csv\")"
      ],
      "execution_count": 75,
      "outputs": []
    },
    {
      "cell_type": "markdown",
      "metadata": {
        "id": "2U-1HZY2Xodw"
      },
      "source": [
        "# inspect the dataframe"
      ]
    },
    {
      "cell_type": "code",
      "source": [
        "print(\"Seattle: there are (rows, columns) = \", (seattle.shape), \"in the dataframe\")\n",
        "print(\"DC: there are (rows, columns) = \", (dc.shape), \"in the dataframe\")\n",
        "print(\"Philadelphia: there are (rows, columns) = \", (chicago.shape), \"in the dataframe\")"
      ],
      "metadata": {
        "colab": {
          "base_uri": "https://localhost:8080/"
        },
        "id": "DRht35FE95Ar",
        "outputId": "8ca90144-e610-4c52-c1be-543636aeaf7a"
      },
      "execution_count": 62,
      "outputs": [
        {
          "output_type": "stream",
          "name": "stdout",
          "text": [
            "Seattle: there are (rows, columns) =  (3376, 46) in the dataframe\n",
            "DC: there are (rows, columns) =  (1455, 23) in the dataframe\n",
            "Philadelphia: there are (rows, columns) =  (2688, 19) in the dataframe\n"
          ]
        }
      ]
    },
    {
      "cell_type": "code",
      "metadata": {
        "id": "aqrv8eULHxte",
        "outputId": "4b9847e9-cdbc-4769-a1f4-b6d7f46d4cbc",
        "colab": {
          "base_uri": "https://localhost:8080/",
          "height": 394
        }
      },
      "source": [
        "seattle.describe()"
      ],
      "execution_count": 63,
      "outputs": [
        {
          "output_type": "execute_result",
          "data": {
            "text/plain": [
              "       OSEBuildingID  DataYear       ZipCode  CouncilDistrictCode  \\\n",
              "count    3376.000000    3376.0   3360.000000          3376.000000   \n",
              "mean    21208.991114    2016.0  98116.949107             4.439277   \n",
              "std     12223.757015       0.0     18.615205             2.120625   \n",
              "min         1.000000    2016.0  98006.000000             1.000000   \n",
              "25%     19990.750000    2016.0  98105.000000             3.000000   \n",
              "50%     23112.000000    2016.0  98115.000000             4.000000   \n",
              "75%     25994.250000    2016.0  98122.000000             7.000000   \n",
              "max     50226.000000    2016.0  98272.000000             7.000000   \n",
              "\n",
              "          Latitude    Longitude    YearBuilt  NumberofBuildings  \\\n",
              "count  3376.000000  3376.000000  3376.000000        3368.000000   \n",
              "mean     47.624033  -122.334795  1968.573164           1.106888   \n",
              "std       0.047758     0.027203    33.088156           2.108402   \n",
              "min      47.499170  -122.414250  1900.000000           0.000000   \n",
              "25%      47.599860  -122.350662  1948.000000           1.000000   \n",
              "50%      47.618675  -122.332495  1975.000000           1.000000   \n",
              "75%      47.657115  -122.319407  1997.000000           1.000000   \n",
              "max      47.733870  -122.220966  2015.000000         111.000000   \n",
              "\n",
              "       NumberofFloors  PropertyGFATotal  ...  SiteEnergyUse(kBtu)  \\\n",
              "count     3376.000000      3.376000e+03  ...         3.371000e+03   \n",
              "mean         4.709123      9.483354e+04  ...         5.403667e+06   \n",
              "std          5.494465      2.188376e+05  ...         2.161063e+07   \n",
              "min          0.000000      1.128500e+04  ...         0.000000e+00   \n",
              "25%          2.000000      2.848700e+04  ...         9.251286e+05   \n",
              "50%          4.000000      4.417500e+04  ...         1.803753e+06   \n",
              "75%          5.000000      9.099200e+04  ...         4.222455e+06   \n",
              "max         99.000000      9.320156e+06  ...         8.739237e+08   \n",
              "\n",
              "       SiteEnergyUseWN(kBtu)  SteamUse(kBtu)  Electricity(kWh)  \\\n",
              "count           3.370000e+03    3.367000e+03      3.367000e+03   \n",
              "mean            5.276726e+06    2.745959e+05      1.086639e+06   \n",
              "std             1.593879e+07    3.912173e+06      4.352478e+06   \n",
              "min             0.000000e+00    0.000000e+00     -3.382680e+04   \n",
              "25%             9.701822e+05    0.000000e+00      1.874229e+05   \n",
              "50%             1.904452e+06    0.000000e+00      3.451299e+05   \n",
              "75%             4.381429e+06    0.000000e+00      8.293178e+05   \n",
              "max             4.716139e+08    1.349435e+08      1.925775e+08   \n",
              "\n",
              "       Electricity(kBtu)  NaturalGas(therms)  NaturalGas(kBtu)  Comments  \\\n",
              "count       3.367000e+03        3.367000e+03      3.367000e+03       0.0   \n",
              "mean        3.707612e+06        1.368505e+04      1.368505e+06       NaN   \n",
              "std         1.485066e+07        6.709781e+04      6.709781e+06       NaN   \n",
              "min        -1.154170e+05        0.000000e+00      0.000000e+00       NaN   \n",
              "25%         6.394870e+05        0.000000e+00      0.000000e+00       NaN   \n",
              "50%         1.177583e+06        3.237538e+03      3.237540e+05       NaN   \n",
              "75%         2.829632e+06        1.189033e+04      1.189034e+06       NaN   \n",
              "max         6.570744e+08        2.979090e+06      2.979090e+08       NaN   \n",
              "\n",
              "       TotalGHGEmissions  GHGEmissionsIntensity  \n",
              "count        3367.000000            3367.000000  \n",
              "mean          119.723971               1.175916  \n",
              "std           538.832227               1.821452  \n",
              "min            -0.800000              -0.020000  \n",
              "25%             9.495000               0.210000  \n",
              "50%            33.920000               0.610000  \n",
              "75%            93.940000               1.370000  \n",
              "max         16870.980000              34.090000  \n",
              "\n",
              "[8 rows x 30 columns]"
            ],
            "text/html": [
              "\n",
              "  <div id=\"df-c3d3977c-2f4d-45e9-8766-e6bc6eedbed5\">\n",
              "    <div class=\"colab-df-container\">\n",
              "      <div>\n",
              "<style scoped>\n",
              "    .dataframe tbody tr th:only-of-type {\n",
              "        vertical-align: middle;\n",
              "    }\n",
              "\n",
              "    .dataframe tbody tr th {\n",
              "        vertical-align: top;\n",
              "    }\n",
              "\n",
              "    .dataframe thead th {\n",
              "        text-align: right;\n",
              "    }\n",
              "</style>\n",
              "<table border=\"1\" class=\"dataframe\">\n",
              "  <thead>\n",
              "    <tr style=\"text-align: right;\">\n",
              "      <th></th>\n",
              "      <th>OSEBuildingID</th>\n",
              "      <th>DataYear</th>\n",
              "      <th>ZipCode</th>\n",
              "      <th>CouncilDistrictCode</th>\n",
              "      <th>Latitude</th>\n",
              "      <th>Longitude</th>\n",
              "      <th>YearBuilt</th>\n",
              "      <th>NumberofBuildings</th>\n",
              "      <th>NumberofFloors</th>\n",
              "      <th>PropertyGFATotal</th>\n",
              "      <th>...</th>\n",
              "      <th>SiteEnergyUse(kBtu)</th>\n",
              "      <th>SiteEnergyUseWN(kBtu)</th>\n",
              "      <th>SteamUse(kBtu)</th>\n",
              "      <th>Electricity(kWh)</th>\n",
              "      <th>Electricity(kBtu)</th>\n",
              "      <th>NaturalGas(therms)</th>\n",
              "      <th>NaturalGas(kBtu)</th>\n",
              "      <th>Comments</th>\n",
              "      <th>TotalGHGEmissions</th>\n",
              "      <th>GHGEmissionsIntensity</th>\n",
              "    </tr>\n",
              "  </thead>\n",
              "  <tbody>\n",
              "    <tr>\n",
              "      <th>count</th>\n",
              "      <td>3376.000000</td>\n",
              "      <td>3376.0</td>\n",
              "      <td>3360.000000</td>\n",
              "      <td>3376.000000</td>\n",
              "      <td>3376.000000</td>\n",
              "      <td>3376.000000</td>\n",
              "      <td>3376.000000</td>\n",
              "      <td>3368.000000</td>\n",
              "      <td>3376.000000</td>\n",
              "      <td>3.376000e+03</td>\n",
              "      <td>...</td>\n",
              "      <td>3.371000e+03</td>\n",
              "      <td>3.370000e+03</td>\n",
              "      <td>3.367000e+03</td>\n",
              "      <td>3.367000e+03</td>\n",
              "      <td>3.367000e+03</td>\n",
              "      <td>3.367000e+03</td>\n",
              "      <td>3.367000e+03</td>\n",
              "      <td>0.0</td>\n",
              "      <td>3367.000000</td>\n",
              "      <td>3367.000000</td>\n",
              "    </tr>\n",
              "    <tr>\n",
              "      <th>mean</th>\n",
              "      <td>21208.991114</td>\n",
              "      <td>2016.0</td>\n",
              "      <td>98116.949107</td>\n",
              "      <td>4.439277</td>\n",
              "      <td>47.624033</td>\n",
              "      <td>-122.334795</td>\n",
              "      <td>1968.573164</td>\n",
              "      <td>1.106888</td>\n",
              "      <td>4.709123</td>\n",
              "      <td>9.483354e+04</td>\n",
              "      <td>...</td>\n",
              "      <td>5.403667e+06</td>\n",
              "      <td>5.276726e+06</td>\n",
              "      <td>2.745959e+05</td>\n",
              "      <td>1.086639e+06</td>\n",
              "      <td>3.707612e+06</td>\n",
              "      <td>1.368505e+04</td>\n",
              "      <td>1.368505e+06</td>\n",
              "      <td>NaN</td>\n",
              "      <td>119.723971</td>\n",
              "      <td>1.175916</td>\n",
              "    </tr>\n",
              "    <tr>\n",
              "      <th>std</th>\n",
              "      <td>12223.757015</td>\n",
              "      <td>0.0</td>\n",
              "      <td>18.615205</td>\n",
              "      <td>2.120625</td>\n",
              "      <td>0.047758</td>\n",
              "      <td>0.027203</td>\n",
              "      <td>33.088156</td>\n",
              "      <td>2.108402</td>\n",
              "      <td>5.494465</td>\n",
              "      <td>2.188376e+05</td>\n",
              "      <td>...</td>\n",
              "      <td>2.161063e+07</td>\n",
              "      <td>1.593879e+07</td>\n",
              "      <td>3.912173e+06</td>\n",
              "      <td>4.352478e+06</td>\n",
              "      <td>1.485066e+07</td>\n",
              "      <td>6.709781e+04</td>\n",
              "      <td>6.709781e+06</td>\n",
              "      <td>NaN</td>\n",
              "      <td>538.832227</td>\n",
              "      <td>1.821452</td>\n",
              "    </tr>\n",
              "    <tr>\n",
              "      <th>min</th>\n",
              "      <td>1.000000</td>\n",
              "      <td>2016.0</td>\n",
              "      <td>98006.000000</td>\n",
              "      <td>1.000000</td>\n",
              "      <td>47.499170</td>\n",
              "      <td>-122.414250</td>\n",
              "      <td>1900.000000</td>\n",
              "      <td>0.000000</td>\n",
              "      <td>0.000000</td>\n",
              "      <td>1.128500e+04</td>\n",
              "      <td>...</td>\n",
              "      <td>0.000000e+00</td>\n",
              "      <td>0.000000e+00</td>\n",
              "      <td>0.000000e+00</td>\n",
              "      <td>-3.382680e+04</td>\n",
              "      <td>-1.154170e+05</td>\n",
              "      <td>0.000000e+00</td>\n",
              "      <td>0.000000e+00</td>\n",
              "      <td>NaN</td>\n",
              "      <td>-0.800000</td>\n",
              "      <td>-0.020000</td>\n",
              "    </tr>\n",
              "    <tr>\n",
              "      <th>25%</th>\n",
              "      <td>19990.750000</td>\n",
              "      <td>2016.0</td>\n",
              "      <td>98105.000000</td>\n",
              "      <td>3.000000</td>\n",
              "      <td>47.599860</td>\n",
              "      <td>-122.350662</td>\n",
              "      <td>1948.000000</td>\n",
              "      <td>1.000000</td>\n",
              "      <td>2.000000</td>\n",
              "      <td>2.848700e+04</td>\n",
              "      <td>...</td>\n",
              "      <td>9.251286e+05</td>\n",
              "      <td>9.701822e+05</td>\n",
              "      <td>0.000000e+00</td>\n",
              "      <td>1.874229e+05</td>\n",
              "      <td>6.394870e+05</td>\n",
              "      <td>0.000000e+00</td>\n",
              "      <td>0.000000e+00</td>\n",
              "      <td>NaN</td>\n",
              "      <td>9.495000</td>\n",
              "      <td>0.210000</td>\n",
              "    </tr>\n",
              "    <tr>\n",
              "      <th>50%</th>\n",
              "      <td>23112.000000</td>\n",
              "      <td>2016.0</td>\n",
              "      <td>98115.000000</td>\n",
              "      <td>4.000000</td>\n",
              "      <td>47.618675</td>\n",
              "      <td>-122.332495</td>\n",
              "      <td>1975.000000</td>\n",
              "      <td>1.000000</td>\n",
              "      <td>4.000000</td>\n",
              "      <td>4.417500e+04</td>\n",
              "      <td>...</td>\n",
              "      <td>1.803753e+06</td>\n",
              "      <td>1.904452e+06</td>\n",
              "      <td>0.000000e+00</td>\n",
              "      <td>3.451299e+05</td>\n",
              "      <td>1.177583e+06</td>\n",
              "      <td>3.237538e+03</td>\n",
              "      <td>3.237540e+05</td>\n",
              "      <td>NaN</td>\n",
              "      <td>33.920000</td>\n",
              "      <td>0.610000</td>\n",
              "    </tr>\n",
              "    <tr>\n",
              "      <th>75%</th>\n",
              "      <td>25994.250000</td>\n",
              "      <td>2016.0</td>\n",
              "      <td>98122.000000</td>\n",
              "      <td>7.000000</td>\n",
              "      <td>47.657115</td>\n",
              "      <td>-122.319407</td>\n",
              "      <td>1997.000000</td>\n",
              "      <td>1.000000</td>\n",
              "      <td>5.000000</td>\n",
              "      <td>9.099200e+04</td>\n",
              "      <td>...</td>\n",
              "      <td>4.222455e+06</td>\n",
              "      <td>4.381429e+06</td>\n",
              "      <td>0.000000e+00</td>\n",
              "      <td>8.293178e+05</td>\n",
              "      <td>2.829632e+06</td>\n",
              "      <td>1.189033e+04</td>\n",
              "      <td>1.189034e+06</td>\n",
              "      <td>NaN</td>\n",
              "      <td>93.940000</td>\n",
              "      <td>1.370000</td>\n",
              "    </tr>\n",
              "    <tr>\n",
              "      <th>max</th>\n",
              "      <td>50226.000000</td>\n",
              "      <td>2016.0</td>\n",
              "      <td>98272.000000</td>\n",
              "      <td>7.000000</td>\n",
              "      <td>47.733870</td>\n",
              "      <td>-122.220966</td>\n",
              "      <td>2015.000000</td>\n",
              "      <td>111.000000</td>\n",
              "      <td>99.000000</td>\n",
              "      <td>9.320156e+06</td>\n",
              "      <td>...</td>\n",
              "      <td>8.739237e+08</td>\n",
              "      <td>4.716139e+08</td>\n",
              "      <td>1.349435e+08</td>\n",
              "      <td>1.925775e+08</td>\n",
              "      <td>6.570744e+08</td>\n",
              "      <td>2.979090e+06</td>\n",
              "      <td>2.979090e+08</td>\n",
              "      <td>NaN</td>\n",
              "      <td>16870.980000</td>\n",
              "      <td>34.090000</td>\n",
              "    </tr>\n",
              "  </tbody>\n",
              "</table>\n",
              "<p>8 rows × 30 columns</p>\n",
              "</div>\n",
              "      <button class=\"colab-df-convert\" onclick=\"convertToInteractive('df-c3d3977c-2f4d-45e9-8766-e6bc6eedbed5')\"\n",
              "              title=\"Convert this dataframe to an interactive table.\"\n",
              "              style=\"display:none;\">\n",
              "        \n",
              "  <svg xmlns=\"http://www.w3.org/2000/svg\" height=\"24px\"viewBox=\"0 0 24 24\"\n",
              "       width=\"24px\">\n",
              "    <path d=\"M0 0h24v24H0V0z\" fill=\"none\"/>\n",
              "    <path d=\"M18.56 5.44l.94 2.06.94-2.06 2.06-.94-2.06-.94-.94-2.06-.94 2.06-2.06.94zm-11 1L8.5 8.5l.94-2.06 2.06-.94-2.06-.94L8.5 2.5l-.94 2.06-2.06.94zm10 10l.94 2.06.94-2.06 2.06-.94-2.06-.94-.94-2.06-.94 2.06-2.06.94z\"/><path d=\"M17.41 7.96l-1.37-1.37c-.4-.4-.92-.59-1.43-.59-.52 0-1.04.2-1.43.59L10.3 9.45l-7.72 7.72c-.78.78-.78 2.05 0 2.83L4 21.41c.39.39.9.59 1.41.59.51 0 1.02-.2 1.41-.59l7.78-7.78 2.81-2.81c.8-.78.8-2.07 0-2.86zM5.41 20L4 18.59l7.72-7.72 1.47 1.35L5.41 20z\"/>\n",
              "  </svg>\n",
              "      </button>\n",
              "      \n",
              "  <style>\n",
              "    .colab-df-container {\n",
              "      display:flex;\n",
              "      flex-wrap:wrap;\n",
              "      gap: 12px;\n",
              "    }\n",
              "\n",
              "    .colab-df-convert {\n",
              "      background-color: #E8F0FE;\n",
              "      border: none;\n",
              "      border-radius: 50%;\n",
              "      cursor: pointer;\n",
              "      display: none;\n",
              "      fill: #1967D2;\n",
              "      height: 32px;\n",
              "      padding: 0 0 0 0;\n",
              "      width: 32px;\n",
              "    }\n",
              "\n",
              "    .colab-df-convert:hover {\n",
              "      background-color: #E2EBFA;\n",
              "      box-shadow: 0px 1px 2px rgba(60, 64, 67, 0.3), 0px 1px 3px 1px rgba(60, 64, 67, 0.15);\n",
              "      fill: #174EA6;\n",
              "    }\n",
              "\n",
              "    [theme=dark] .colab-df-convert {\n",
              "      background-color: #3B4455;\n",
              "      fill: #D2E3FC;\n",
              "    }\n",
              "\n",
              "    [theme=dark] .colab-df-convert:hover {\n",
              "      background-color: #434B5C;\n",
              "      box-shadow: 0px 1px 3px 1px rgba(0, 0, 0, 0.15);\n",
              "      filter: drop-shadow(0px 1px 2px rgba(0, 0, 0, 0.3));\n",
              "      fill: #FFFFFF;\n",
              "    }\n",
              "  </style>\n",
              "\n",
              "      <script>\n",
              "        const buttonEl =\n",
              "          document.querySelector('#df-c3d3977c-2f4d-45e9-8766-e6bc6eedbed5 button.colab-df-convert');\n",
              "        buttonEl.style.display =\n",
              "          google.colab.kernel.accessAllowed ? 'block' : 'none';\n",
              "\n",
              "        async function convertToInteractive(key) {\n",
              "          const element = document.querySelector('#df-c3d3977c-2f4d-45e9-8766-e6bc6eedbed5');\n",
              "          const dataTable =\n",
              "            await google.colab.kernel.invokeFunction('convertToInteractive',\n",
              "                                                     [key], {});\n",
              "          if (!dataTable) return;\n",
              "\n",
              "          const docLinkHtml = 'Like what you see? Visit the ' +\n",
              "            '<a target=\"_blank\" href=https://colab.research.google.com/notebooks/data_table.ipynb>data table notebook</a>'\n",
              "            + ' to learn more about interactive tables.';\n",
              "          element.innerHTML = '';\n",
              "          dataTable['output_type'] = 'display_data';\n",
              "          await google.colab.output.renderOutput(dataTable, element);\n",
              "          const docLink = document.createElement('div');\n",
              "          docLink.innerHTML = docLinkHtml;\n",
              "          element.appendChild(docLink);\n",
              "        }\n",
              "      </script>\n",
              "    </div>\n",
              "  </div>\n",
              "  "
            ]
          },
          "metadata": {},
          "execution_count": 63
        }
      ]
    },
    {
      "cell_type": "code",
      "source": [
        "dc.describe()"
      ],
      "metadata": {
        "id": "HdEQB-w8iMN0",
        "outputId": "ab29a528-2351-4493-8a97-358c63f3c505",
        "colab": {
          "base_uri": "https://localhost:8080/",
          "height": 364
        }
      },
      "execution_count": 64,
      "outputs": [
        {
          "output_type": "execute_result",
          "data": {
            "text/plain": [
              "        Unnamed: 0         ward   year_built  tax_record_floor_area  \\\n",
              "count  1455.000000  1455.000000  1455.000000           1.455000e+03   \n",
              "mean    793.997938     3.472852  1940.804811           2.046748e+05   \n",
              "std     469.582655     2.047691   167.230361           2.451302e+05   \n",
              "min       1.000000     1.000000  1000.000000           9.171000e+03   \n",
              "25%     380.500000     2.000000  1947.000000           7.164000e+04   \n",
              "50%     794.000000     2.000000  1971.000000           1.287720e+05   \n",
              "75%    1176.500000     5.000000  1994.000000           2.585310e+05   \n",
              "max    2181.000000     8.000000  2017.000000           3.997572e+06   \n",
              "\n",
              "       reported_gross_floor_area     water_use  electricity_use  \\\n",
              "count               1.455000e+03  1.455000e+03     1.441000e+03   \n",
              "mean                1.897612e+05  5.109905e+04     2.760114e+06   \n",
              "std                 2.436786e+05  6.163321e+05     4.599984e+06   \n",
              "min                 9.171000e+03  0.000000e+00     1.785000e+02   \n",
              "25%                 7.111750e+04  1.958050e+03     7.435930e+05   \n",
              "50%                 1.215530e+05  4.063800e+03     1.612028e+06   \n",
              "75%                 2.372130e+05  7.008700e+03     3.386553e+06   \n",
              "max                 5.634890e+06  1.929391e+07     1.207430e+08   \n",
              "\n",
              "       natural_gas_use  energy_star_score     site_eui  weather_norm_site_eui  \\\n",
              "count     1.054000e+03        1184.000000  1455.000000            1393.000000   \n",
              "mean      5.853217e+04          62.090372    69.960206              70.745154   \n",
              "std       2.617060e+05          26.792483    30.676317              31.476591   \n",
              "min       0.000000e+00           1.000000     1.100000               1.100000   \n",
              "25%       1.121760e+04          43.750000    51.600000              51.900000   \n",
              "50%       2.770698e+04          70.000000    65.900000              66.600000   \n",
              "75%       5.154631e+04          84.000000    82.850000              84.500000   \n",
              "max       7.269109e+06         100.000000   213.600000             215.500000   \n",
              "\n",
              "        source_eui  weather_norm_source_eui  total_ghg_emissions  \\\n",
              "count  1455.000000              1393.000000          1454.000000   \n",
              "mean    171.274433               171.302872          1318.734388   \n",
              "std      76.707287                76.884877          2458.471157   \n",
              "min       1.200000                 1.200000             3.100000   \n",
              "25%     121.850000               121.600000           400.450000   \n",
              "50%     163.300000               163.400000           757.100000   \n",
              "75%     206.450000               207.400000          1534.450000   \n",
              "max     618.600000               620.600000         64992.500000   \n",
              "\n",
              "       total_ghg_emissions_intensity  total_site_energy_KBTU  \\\n",
              "count                    1454.000000            1.455000e+03   \n",
              "mean                        6.674278            1.344870e+07   \n",
              "std                         3.143349            2.843799e+07   \n",
              "min                         0.100000            5.729350e+04   \n",
              "25%                         4.800000            4.513227e+06   \n",
              "50%                         6.300000            8.156027e+06   \n",
              "75%                         7.800000            1.565570e+07   \n",
              "max                        30.600000            7.832497e+08   \n",
              "\n",
              "       log_total_site_energy_KBTU  \n",
              "count                 1455.000000  \n",
              "mean                    15.905810  \n",
              "std                      0.991320  \n",
              "min                     10.955942  \n",
              "25%                     15.322523  \n",
              "50%                     15.914268  \n",
              "75%                     16.566343  \n",
              "max                     20.478962  "
            ],
            "text/html": [
              "\n",
              "  <div id=\"df-0f687071-cae7-46f3-b01f-99a1c9a71d08\">\n",
              "    <div class=\"colab-df-container\">\n",
              "      <div>\n",
              "<style scoped>\n",
              "    .dataframe tbody tr th:only-of-type {\n",
              "        vertical-align: middle;\n",
              "    }\n",
              "\n",
              "    .dataframe tbody tr th {\n",
              "        vertical-align: top;\n",
              "    }\n",
              "\n",
              "    .dataframe thead th {\n",
              "        text-align: right;\n",
              "    }\n",
              "</style>\n",
              "<table border=\"1\" class=\"dataframe\">\n",
              "  <thead>\n",
              "    <tr style=\"text-align: right;\">\n",
              "      <th></th>\n",
              "      <th>Unnamed: 0</th>\n",
              "      <th>ward</th>\n",
              "      <th>year_built</th>\n",
              "      <th>tax_record_floor_area</th>\n",
              "      <th>reported_gross_floor_area</th>\n",
              "      <th>water_use</th>\n",
              "      <th>electricity_use</th>\n",
              "      <th>natural_gas_use</th>\n",
              "      <th>energy_star_score</th>\n",
              "      <th>site_eui</th>\n",
              "      <th>weather_norm_site_eui</th>\n",
              "      <th>source_eui</th>\n",
              "      <th>weather_norm_source_eui</th>\n",
              "      <th>total_ghg_emissions</th>\n",
              "      <th>total_ghg_emissions_intensity</th>\n",
              "      <th>total_site_energy_KBTU</th>\n",
              "      <th>log_total_site_energy_KBTU</th>\n",
              "    </tr>\n",
              "  </thead>\n",
              "  <tbody>\n",
              "    <tr>\n",
              "      <th>count</th>\n",
              "      <td>1455.000000</td>\n",
              "      <td>1455.000000</td>\n",
              "      <td>1455.000000</td>\n",
              "      <td>1.455000e+03</td>\n",
              "      <td>1.455000e+03</td>\n",
              "      <td>1.455000e+03</td>\n",
              "      <td>1.441000e+03</td>\n",
              "      <td>1.054000e+03</td>\n",
              "      <td>1184.000000</td>\n",
              "      <td>1455.000000</td>\n",
              "      <td>1393.000000</td>\n",
              "      <td>1455.000000</td>\n",
              "      <td>1393.000000</td>\n",
              "      <td>1454.000000</td>\n",
              "      <td>1454.000000</td>\n",
              "      <td>1.455000e+03</td>\n",
              "      <td>1455.000000</td>\n",
              "    </tr>\n",
              "    <tr>\n",
              "      <th>mean</th>\n",
              "      <td>793.997938</td>\n",
              "      <td>3.472852</td>\n",
              "      <td>1940.804811</td>\n",
              "      <td>2.046748e+05</td>\n",
              "      <td>1.897612e+05</td>\n",
              "      <td>5.109905e+04</td>\n",
              "      <td>2.760114e+06</td>\n",
              "      <td>5.853217e+04</td>\n",
              "      <td>62.090372</td>\n",
              "      <td>69.960206</td>\n",
              "      <td>70.745154</td>\n",
              "      <td>171.274433</td>\n",
              "      <td>171.302872</td>\n",
              "      <td>1318.734388</td>\n",
              "      <td>6.674278</td>\n",
              "      <td>1.344870e+07</td>\n",
              "      <td>15.905810</td>\n",
              "    </tr>\n",
              "    <tr>\n",
              "      <th>std</th>\n",
              "      <td>469.582655</td>\n",
              "      <td>2.047691</td>\n",
              "      <td>167.230361</td>\n",
              "      <td>2.451302e+05</td>\n",
              "      <td>2.436786e+05</td>\n",
              "      <td>6.163321e+05</td>\n",
              "      <td>4.599984e+06</td>\n",
              "      <td>2.617060e+05</td>\n",
              "      <td>26.792483</td>\n",
              "      <td>30.676317</td>\n",
              "      <td>31.476591</td>\n",
              "      <td>76.707287</td>\n",
              "      <td>76.884877</td>\n",
              "      <td>2458.471157</td>\n",
              "      <td>3.143349</td>\n",
              "      <td>2.843799e+07</td>\n",
              "      <td>0.991320</td>\n",
              "    </tr>\n",
              "    <tr>\n",
              "      <th>min</th>\n",
              "      <td>1.000000</td>\n",
              "      <td>1.000000</td>\n",
              "      <td>1000.000000</td>\n",
              "      <td>9.171000e+03</td>\n",
              "      <td>9.171000e+03</td>\n",
              "      <td>0.000000e+00</td>\n",
              "      <td>1.785000e+02</td>\n",
              "      <td>0.000000e+00</td>\n",
              "      <td>1.000000</td>\n",
              "      <td>1.100000</td>\n",
              "      <td>1.100000</td>\n",
              "      <td>1.200000</td>\n",
              "      <td>1.200000</td>\n",
              "      <td>3.100000</td>\n",
              "      <td>0.100000</td>\n",
              "      <td>5.729350e+04</td>\n",
              "      <td>10.955942</td>\n",
              "    </tr>\n",
              "    <tr>\n",
              "      <th>25%</th>\n",
              "      <td>380.500000</td>\n",
              "      <td>2.000000</td>\n",
              "      <td>1947.000000</td>\n",
              "      <td>7.164000e+04</td>\n",
              "      <td>7.111750e+04</td>\n",
              "      <td>1.958050e+03</td>\n",
              "      <td>7.435930e+05</td>\n",
              "      <td>1.121760e+04</td>\n",
              "      <td>43.750000</td>\n",
              "      <td>51.600000</td>\n",
              "      <td>51.900000</td>\n",
              "      <td>121.850000</td>\n",
              "      <td>121.600000</td>\n",
              "      <td>400.450000</td>\n",
              "      <td>4.800000</td>\n",
              "      <td>4.513227e+06</td>\n",
              "      <td>15.322523</td>\n",
              "    </tr>\n",
              "    <tr>\n",
              "      <th>50%</th>\n",
              "      <td>794.000000</td>\n",
              "      <td>2.000000</td>\n",
              "      <td>1971.000000</td>\n",
              "      <td>1.287720e+05</td>\n",
              "      <td>1.215530e+05</td>\n",
              "      <td>4.063800e+03</td>\n",
              "      <td>1.612028e+06</td>\n",
              "      <td>2.770698e+04</td>\n",
              "      <td>70.000000</td>\n",
              "      <td>65.900000</td>\n",
              "      <td>66.600000</td>\n",
              "      <td>163.300000</td>\n",
              "      <td>163.400000</td>\n",
              "      <td>757.100000</td>\n",
              "      <td>6.300000</td>\n",
              "      <td>8.156027e+06</td>\n",
              "      <td>15.914268</td>\n",
              "    </tr>\n",
              "    <tr>\n",
              "      <th>75%</th>\n",
              "      <td>1176.500000</td>\n",
              "      <td>5.000000</td>\n",
              "      <td>1994.000000</td>\n",
              "      <td>2.585310e+05</td>\n",
              "      <td>2.372130e+05</td>\n",
              "      <td>7.008700e+03</td>\n",
              "      <td>3.386553e+06</td>\n",
              "      <td>5.154631e+04</td>\n",
              "      <td>84.000000</td>\n",
              "      <td>82.850000</td>\n",
              "      <td>84.500000</td>\n",
              "      <td>206.450000</td>\n",
              "      <td>207.400000</td>\n",
              "      <td>1534.450000</td>\n",
              "      <td>7.800000</td>\n",
              "      <td>1.565570e+07</td>\n",
              "      <td>16.566343</td>\n",
              "    </tr>\n",
              "    <tr>\n",
              "      <th>max</th>\n",
              "      <td>2181.000000</td>\n",
              "      <td>8.000000</td>\n",
              "      <td>2017.000000</td>\n",
              "      <td>3.997572e+06</td>\n",
              "      <td>5.634890e+06</td>\n",
              "      <td>1.929391e+07</td>\n",
              "      <td>1.207430e+08</td>\n",
              "      <td>7.269109e+06</td>\n",
              "      <td>100.000000</td>\n",
              "      <td>213.600000</td>\n",
              "      <td>215.500000</td>\n",
              "      <td>618.600000</td>\n",
              "      <td>620.600000</td>\n",
              "      <td>64992.500000</td>\n",
              "      <td>30.600000</td>\n",
              "      <td>7.832497e+08</td>\n",
              "      <td>20.478962</td>\n",
              "    </tr>\n",
              "  </tbody>\n",
              "</table>\n",
              "</div>\n",
              "      <button class=\"colab-df-convert\" onclick=\"convertToInteractive('df-0f687071-cae7-46f3-b01f-99a1c9a71d08')\"\n",
              "              title=\"Convert this dataframe to an interactive table.\"\n",
              "              style=\"display:none;\">\n",
              "        \n",
              "  <svg xmlns=\"http://www.w3.org/2000/svg\" height=\"24px\"viewBox=\"0 0 24 24\"\n",
              "       width=\"24px\">\n",
              "    <path d=\"M0 0h24v24H0V0z\" fill=\"none\"/>\n",
              "    <path d=\"M18.56 5.44l.94 2.06.94-2.06 2.06-.94-2.06-.94-.94-2.06-.94 2.06-2.06.94zm-11 1L8.5 8.5l.94-2.06 2.06-.94-2.06-.94L8.5 2.5l-.94 2.06-2.06.94zm10 10l.94 2.06.94-2.06 2.06-.94-2.06-.94-.94-2.06-.94 2.06-2.06.94z\"/><path d=\"M17.41 7.96l-1.37-1.37c-.4-.4-.92-.59-1.43-.59-.52 0-1.04.2-1.43.59L10.3 9.45l-7.72 7.72c-.78.78-.78 2.05 0 2.83L4 21.41c.39.39.9.59 1.41.59.51 0 1.02-.2 1.41-.59l7.78-7.78 2.81-2.81c.8-.78.8-2.07 0-2.86zM5.41 20L4 18.59l7.72-7.72 1.47 1.35L5.41 20z\"/>\n",
              "  </svg>\n",
              "      </button>\n",
              "      \n",
              "  <style>\n",
              "    .colab-df-container {\n",
              "      display:flex;\n",
              "      flex-wrap:wrap;\n",
              "      gap: 12px;\n",
              "    }\n",
              "\n",
              "    .colab-df-convert {\n",
              "      background-color: #E8F0FE;\n",
              "      border: none;\n",
              "      border-radius: 50%;\n",
              "      cursor: pointer;\n",
              "      display: none;\n",
              "      fill: #1967D2;\n",
              "      height: 32px;\n",
              "      padding: 0 0 0 0;\n",
              "      width: 32px;\n",
              "    }\n",
              "\n",
              "    .colab-df-convert:hover {\n",
              "      background-color: #E2EBFA;\n",
              "      box-shadow: 0px 1px 2px rgba(60, 64, 67, 0.3), 0px 1px 3px 1px rgba(60, 64, 67, 0.15);\n",
              "      fill: #174EA6;\n",
              "    }\n",
              "\n",
              "    [theme=dark] .colab-df-convert {\n",
              "      background-color: #3B4455;\n",
              "      fill: #D2E3FC;\n",
              "    }\n",
              "\n",
              "    [theme=dark] .colab-df-convert:hover {\n",
              "      background-color: #434B5C;\n",
              "      box-shadow: 0px 1px 3px 1px rgba(0, 0, 0, 0.15);\n",
              "      filter: drop-shadow(0px 1px 2px rgba(0, 0, 0, 0.3));\n",
              "      fill: #FFFFFF;\n",
              "    }\n",
              "  </style>\n",
              "\n",
              "      <script>\n",
              "        const buttonEl =\n",
              "          document.querySelector('#df-0f687071-cae7-46f3-b01f-99a1c9a71d08 button.colab-df-convert');\n",
              "        buttonEl.style.display =\n",
              "          google.colab.kernel.accessAllowed ? 'block' : 'none';\n",
              "\n",
              "        async function convertToInteractive(key) {\n",
              "          const element = document.querySelector('#df-0f687071-cae7-46f3-b01f-99a1c9a71d08');\n",
              "          const dataTable =\n",
              "            await google.colab.kernel.invokeFunction('convertToInteractive',\n",
              "                                                     [key], {});\n",
              "          if (!dataTable) return;\n",
              "\n",
              "          const docLinkHtml = 'Like what you see? Visit the ' +\n",
              "            '<a target=\"_blank\" href=https://colab.research.google.com/notebooks/data_table.ipynb>data table notebook</a>'\n",
              "            + ' to learn more about interactive tables.';\n",
              "          element.innerHTML = '';\n",
              "          dataTable['output_type'] = 'display_data';\n",
              "          await google.colab.output.renderOutput(dataTable, element);\n",
              "          const docLink = document.createElement('div');\n",
              "          docLink.innerHTML = docLinkHtml;\n",
              "          element.appendChild(docLink);\n",
              "        }\n",
              "      </script>\n",
              "    </div>\n",
              "  </div>\n",
              "  "
            ]
          },
          "metadata": {},
          "execution_count": 64
        }
      ]
    },
    {
      "cell_type": "code",
      "source": [
        "chicago.describe()"
      ],
      "metadata": {
        "id": "iY_NPei7iPMu",
        "outputId": "55af48b1-8d3c-427a-b7ac-b80267d7f86c",
        "colab": {
          "base_uri": "https://localhost:8080/",
          "height": 364
        }
      },
      "execution_count": 65,
      "outputs": [
        {
          "output_type": "execute_result",
          "data": {
            "text/plain": [
              "        Unnamed: 0             ID  Gross.Floor.Area...Buildings..sq.ft.  \\\n",
              "count  2688.000000    2688.000000                          2.688000e+03   \n",
              "mean   1344.500000  184502.570312                          2.448678e+05   \n",
              "std     776.103086   59873.199256                          3.964045e+05   \n",
              "min       1.000000  100001.000000                          5.000000e+04   \n",
              "25%     672.750000  120464.000000                          7.500000e+04   \n",
              "50%    1344.500000  173712.500000                          1.237265e+05   \n",
              "75%    2016.250000  251356.500000                          2.521352e+05   \n",
              "max    2688.000000  260184.000000                          9.245333e+06   \n",
              "\n",
              "        Year.Built  X..of.Buildings  ENERGY.STAR.Score  \\\n",
              "count  2688.000000      2688.000000        2688.000000   \n",
              "mean   1962.942336         1.405878          57.507812   \n",
              "std      36.294735         5.201993          29.352026   \n",
              "min    1872.000000         1.000000           1.000000   \n",
              "25%    1928.000000         1.000000          34.000000   \n",
              "50%    1969.000000         1.000000          62.000000   \n",
              "75%    1997.000000         1.000000          83.000000   \n",
              "max    2016.000000       236.000000         100.000000   \n",
              "\n",
              "       Electricity.Use..kBtu.  Natural.Gas.Use..kBtu.  Site.EUI..kBtu.sq.ft.  \\\n",
              "count            2.688000e+03            2.688000e+03            2688.000000   \n",
              "mean             1.076602e+07            1.172915e+07              94.208408   \n",
              "std              2.495836e+07            2.722341e+07             125.939184   \n",
              "min              5.028900e+03            1.284000e+03               0.200000   \n",
              "25%              1.947257e+06            3.182139e+06              61.800000   \n",
              "50%              4.024877e+06            5.561839e+06              79.400000   \n",
              "75%              9.702889e+06            1.168477e+07             101.050000   \n",
              "max              4.857050e+08            5.493302e+08            5637.700000   \n",
              "\n",
              "       Source.EUI..kBtu.sq.ft.  Weather.Normalized.Site.EUI..kBtu.sq.ft.  \\\n",
              "count              2688.000000                               2658.000000   \n",
              "mean                180.017820                                 99.133296   \n",
              "std                 166.056539                                127.267249   \n",
              "min                   0.200000                                  0.300000   \n",
              "25%                 113.875000                                 65.400000   \n",
              "50%                 148.100000                                 84.400000   \n",
              "75%                 196.575000                                107.275000   \n",
              "max                6001.500000                               5637.700000   \n",
              "\n",
              "       Weather.Normalized.Source.EUI..kBtu.sq.ft.  \\\n",
              "count                                 2658.000000   \n",
              "mean                                   184.965500   \n",
              "std                                    166.420203   \n",
              "min                                      0.300000   \n",
              "25%                                    118.625000   \n",
              "50%                                    154.050000   \n",
              "75%                                    201.575000   \n",
              "max                                   6001.500000   \n",
              "\n",
              "       Total.GHG.Emissions..Metric.Tons.CO2e.  GHG.Intensity..kg.CO2e.sq.ft.  \\\n",
              "count                             2673.000000                    2673.000000   \n",
              "mean                              2630.786495                      10.103629   \n",
              "std                               5794.436792                       9.002384   \n",
              "min                                 32.500000                       0.400000   \n",
              "25%                                602.100000                       6.300000   \n",
              "50%                               1099.500000                       8.300000   \n",
              "75%                               2435.700000                      11.100000   \n",
              "max                             127610.000000                     304.600000   \n",
              "\n",
              "       total_site_energy_KBTU  log_total_site_energy_KBTU  \n",
              "count            2.688000e+03                 2688.000000  \n",
              "mean             2.298315e+07                   16.304023  \n",
              "std              4.971672e+07                    1.015335  \n",
              "min              1.580000e+04                    9.667765  \n",
              "25%              5.838643e+06                   15.580009  \n",
              "50%              1.049675e+07                   16.166576  \n",
              "75%              2.202188e+07                   16.907547  \n",
              "max              1.155374e+09                   20.867690  "
            ],
            "text/html": [
              "\n",
              "  <div id=\"df-8817a150-124e-4695-9f51-f1ff83903dc1\">\n",
              "    <div class=\"colab-df-container\">\n",
              "      <div>\n",
              "<style scoped>\n",
              "    .dataframe tbody tr th:only-of-type {\n",
              "        vertical-align: middle;\n",
              "    }\n",
              "\n",
              "    .dataframe tbody tr th {\n",
              "        vertical-align: top;\n",
              "    }\n",
              "\n",
              "    .dataframe thead th {\n",
              "        text-align: right;\n",
              "    }\n",
              "</style>\n",
              "<table border=\"1\" class=\"dataframe\">\n",
              "  <thead>\n",
              "    <tr style=\"text-align: right;\">\n",
              "      <th></th>\n",
              "      <th>Unnamed: 0</th>\n",
              "      <th>ID</th>\n",
              "      <th>Gross.Floor.Area...Buildings..sq.ft.</th>\n",
              "      <th>Year.Built</th>\n",
              "      <th>X..of.Buildings</th>\n",
              "      <th>ENERGY.STAR.Score</th>\n",
              "      <th>Electricity.Use..kBtu.</th>\n",
              "      <th>Natural.Gas.Use..kBtu.</th>\n",
              "      <th>Site.EUI..kBtu.sq.ft.</th>\n",
              "      <th>Source.EUI..kBtu.sq.ft.</th>\n",
              "      <th>Weather.Normalized.Site.EUI..kBtu.sq.ft.</th>\n",
              "      <th>Weather.Normalized.Source.EUI..kBtu.sq.ft.</th>\n",
              "      <th>Total.GHG.Emissions..Metric.Tons.CO2e.</th>\n",
              "      <th>GHG.Intensity..kg.CO2e.sq.ft.</th>\n",
              "      <th>total_site_energy_KBTU</th>\n",
              "      <th>log_total_site_energy_KBTU</th>\n",
              "    </tr>\n",
              "  </thead>\n",
              "  <tbody>\n",
              "    <tr>\n",
              "      <th>count</th>\n",
              "      <td>2688.000000</td>\n",
              "      <td>2688.000000</td>\n",
              "      <td>2.688000e+03</td>\n",
              "      <td>2688.000000</td>\n",
              "      <td>2688.000000</td>\n",
              "      <td>2688.000000</td>\n",
              "      <td>2.688000e+03</td>\n",
              "      <td>2.688000e+03</td>\n",
              "      <td>2688.000000</td>\n",
              "      <td>2688.000000</td>\n",
              "      <td>2658.000000</td>\n",
              "      <td>2658.000000</td>\n",
              "      <td>2673.000000</td>\n",
              "      <td>2673.000000</td>\n",
              "      <td>2.688000e+03</td>\n",
              "      <td>2688.000000</td>\n",
              "    </tr>\n",
              "    <tr>\n",
              "      <th>mean</th>\n",
              "      <td>1344.500000</td>\n",
              "      <td>184502.570312</td>\n",
              "      <td>2.448678e+05</td>\n",
              "      <td>1962.942336</td>\n",
              "      <td>1.405878</td>\n",
              "      <td>57.507812</td>\n",
              "      <td>1.076602e+07</td>\n",
              "      <td>1.172915e+07</td>\n",
              "      <td>94.208408</td>\n",
              "      <td>180.017820</td>\n",
              "      <td>99.133296</td>\n",
              "      <td>184.965500</td>\n",
              "      <td>2630.786495</td>\n",
              "      <td>10.103629</td>\n",
              "      <td>2.298315e+07</td>\n",
              "      <td>16.304023</td>\n",
              "    </tr>\n",
              "    <tr>\n",
              "      <th>std</th>\n",
              "      <td>776.103086</td>\n",
              "      <td>59873.199256</td>\n",
              "      <td>3.964045e+05</td>\n",
              "      <td>36.294735</td>\n",
              "      <td>5.201993</td>\n",
              "      <td>29.352026</td>\n",
              "      <td>2.495836e+07</td>\n",
              "      <td>2.722341e+07</td>\n",
              "      <td>125.939184</td>\n",
              "      <td>166.056539</td>\n",
              "      <td>127.267249</td>\n",
              "      <td>166.420203</td>\n",
              "      <td>5794.436792</td>\n",
              "      <td>9.002384</td>\n",
              "      <td>4.971672e+07</td>\n",
              "      <td>1.015335</td>\n",
              "    </tr>\n",
              "    <tr>\n",
              "      <th>min</th>\n",
              "      <td>1.000000</td>\n",
              "      <td>100001.000000</td>\n",
              "      <td>5.000000e+04</td>\n",
              "      <td>1872.000000</td>\n",
              "      <td>1.000000</td>\n",
              "      <td>1.000000</td>\n",
              "      <td>5.028900e+03</td>\n",
              "      <td>1.284000e+03</td>\n",
              "      <td>0.200000</td>\n",
              "      <td>0.200000</td>\n",
              "      <td>0.300000</td>\n",
              "      <td>0.300000</td>\n",
              "      <td>32.500000</td>\n",
              "      <td>0.400000</td>\n",
              "      <td>1.580000e+04</td>\n",
              "      <td>9.667765</td>\n",
              "    </tr>\n",
              "    <tr>\n",
              "      <th>25%</th>\n",
              "      <td>672.750000</td>\n",
              "      <td>120464.000000</td>\n",
              "      <td>7.500000e+04</td>\n",
              "      <td>1928.000000</td>\n",
              "      <td>1.000000</td>\n",
              "      <td>34.000000</td>\n",
              "      <td>1.947257e+06</td>\n",
              "      <td>3.182139e+06</td>\n",
              "      <td>61.800000</td>\n",
              "      <td>113.875000</td>\n",
              "      <td>65.400000</td>\n",
              "      <td>118.625000</td>\n",
              "      <td>602.100000</td>\n",
              "      <td>6.300000</td>\n",
              "      <td>5.838643e+06</td>\n",
              "      <td>15.580009</td>\n",
              "    </tr>\n",
              "    <tr>\n",
              "      <th>50%</th>\n",
              "      <td>1344.500000</td>\n",
              "      <td>173712.500000</td>\n",
              "      <td>1.237265e+05</td>\n",
              "      <td>1969.000000</td>\n",
              "      <td>1.000000</td>\n",
              "      <td>62.000000</td>\n",
              "      <td>4.024877e+06</td>\n",
              "      <td>5.561839e+06</td>\n",
              "      <td>79.400000</td>\n",
              "      <td>148.100000</td>\n",
              "      <td>84.400000</td>\n",
              "      <td>154.050000</td>\n",
              "      <td>1099.500000</td>\n",
              "      <td>8.300000</td>\n",
              "      <td>1.049675e+07</td>\n",
              "      <td>16.166576</td>\n",
              "    </tr>\n",
              "    <tr>\n",
              "      <th>75%</th>\n",
              "      <td>2016.250000</td>\n",
              "      <td>251356.500000</td>\n",
              "      <td>2.521352e+05</td>\n",
              "      <td>1997.000000</td>\n",
              "      <td>1.000000</td>\n",
              "      <td>83.000000</td>\n",
              "      <td>9.702889e+06</td>\n",
              "      <td>1.168477e+07</td>\n",
              "      <td>101.050000</td>\n",
              "      <td>196.575000</td>\n",
              "      <td>107.275000</td>\n",
              "      <td>201.575000</td>\n",
              "      <td>2435.700000</td>\n",
              "      <td>11.100000</td>\n",
              "      <td>2.202188e+07</td>\n",
              "      <td>16.907547</td>\n",
              "    </tr>\n",
              "    <tr>\n",
              "      <th>max</th>\n",
              "      <td>2688.000000</td>\n",
              "      <td>260184.000000</td>\n",
              "      <td>9.245333e+06</td>\n",
              "      <td>2016.000000</td>\n",
              "      <td>236.000000</td>\n",
              "      <td>100.000000</td>\n",
              "      <td>4.857050e+08</td>\n",
              "      <td>5.493302e+08</td>\n",
              "      <td>5637.700000</td>\n",
              "      <td>6001.500000</td>\n",
              "      <td>5637.700000</td>\n",
              "      <td>6001.500000</td>\n",
              "      <td>127610.000000</td>\n",
              "      <td>304.600000</td>\n",
              "      <td>1.155374e+09</td>\n",
              "      <td>20.867690</td>\n",
              "    </tr>\n",
              "  </tbody>\n",
              "</table>\n",
              "</div>\n",
              "      <button class=\"colab-df-convert\" onclick=\"convertToInteractive('df-8817a150-124e-4695-9f51-f1ff83903dc1')\"\n",
              "              title=\"Convert this dataframe to an interactive table.\"\n",
              "              style=\"display:none;\">\n",
              "        \n",
              "  <svg xmlns=\"http://www.w3.org/2000/svg\" height=\"24px\"viewBox=\"0 0 24 24\"\n",
              "       width=\"24px\">\n",
              "    <path d=\"M0 0h24v24H0V0z\" fill=\"none\"/>\n",
              "    <path d=\"M18.56 5.44l.94 2.06.94-2.06 2.06-.94-2.06-.94-.94-2.06-.94 2.06-2.06.94zm-11 1L8.5 8.5l.94-2.06 2.06-.94-2.06-.94L8.5 2.5l-.94 2.06-2.06.94zm10 10l.94 2.06.94-2.06 2.06-.94-2.06-.94-.94-2.06-.94 2.06-2.06.94z\"/><path d=\"M17.41 7.96l-1.37-1.37c-.4-.4-.92-.59-1.43-.59-.52 0-1.04.2-1.43.59L10.3 9.45l-7.72 7.72c-.78.78-.78 2.05 0 2.83L4 21.41c.39.39.9.59 1.41.59.51 0 1.02-.2 1.41-.59l7.78-7.78 2.81-2.81c.8-.78.8-2.07 0-2.86zM5.41 20L4 18.59l7.72-7.72 1.47 1.35L5.41 20z\"/>\n",
              "  </svg>\n",
              "      </button>\n",
              "      \n",
              "  <style>\n",
              "    .colab-df-container {\n",
              "      display:flex;\n",
              "      flex-wrap:wrap;\n",
              "      gap: 12px;\n",
              "    }\n",
              "\n",
              "    .colab-df-convert {\n",
              "      background-color: #E8F0FE;\n",
              "      border: none;\n",
              "      border-radius: 50%;\n",
              "      cursor: pointer;\n",
              "      display: none;\n",
              "      fill: #1967D2;\n",
              "      height: 32px;\n",
              "      padding: 0 0 0 0;\n",
              "      width: 32px;\n",
              "    }\n",
              "\n",
              "    .colab-df-convert:hover {\n",
              "      background-color: #E2EBFA;\n",
              "      box-shadow: 0px 1px 2px rgba(60, 64, 67, 0.3), 0px 1px 3px 1px rgba(60, 64, 67, 0.15);\n",
              "      fill: #174EA6;\n",
              "    }\n",
              "\n",
              "    [theme=dark] .colab-df-convert {\n",
              "      background-color: #3B4455;\n",
              "      fill: #D2E3FC;\n",
              "    }\n",
              "\n",
              "    [theme=dark] .colab-df-convert:hover {\n",
              "      background-color: #434B5C;\n",
              "      box-shadow: 0px 1px 3px 1px rgba(0, 0, 0, 0.15);\n",
              "      filter: drop-shadow(0px 1px 2px rgba(0, 0, 0, 0.3));\n",
              "      fill: #FFFFFF;\n",
              "    }\n",
              "  </style>\n",
              "\n",
              "      <script>\n",
              "        const buttonEl =\n",
              "          document.querySelector('#df-8817a150-124e-4695-9f51-f1ff83903dc1 button.colab-df-convert');\n",
              "        buttonEl.style.display =\n",
              "          google.colab.kernel.accessAllowed ? 'block' : 'none';\n",
              "\n",
              "        async function convertToInteractive(key) {\n",
              "          const element = document.querySelector('#df-8817a150-124e-4695-9f51-f1ff83903dc1');\n",
              "          const dataTable =\n",
              "            await google.colab.kernel.invokeFunction('convertToInteractive',\n",
              "                                                     [key], {});\n",
              "          if (!dataTable) return;\n",
              "\n",
              "          const docLinkHtml = 'Like what you see? Visit the ' +\n",
              "            '<a target=\"_blank\" href=https://colab.research.google.com/notebooks/data_table.ipynb>data table notebook</a>'\n",
              "            + ' to learn more about interactive tables.';\n",
              "          element.innerHTML = '';\n",
              "          dataTable['output_type'] = 'display_data';\n",
              "          await google.colab.output.renderOutput(dataTable, element);\n",
              "          const docLink = document.createElement('div');\n",
              "          docLink.innerHTML = docLinkHtml;\n",
              "          element.appendChild(docLink);\n",
              "        }\n",
              "      </script>\n",
              "    </div>\n",
              "  </div>\n",
              "  "
            ]
          },
          "metadata": {},
          "execution_count": 65
        }
      ]
    },
    {
      "cell_type": "markdown",
      "metadata": {
        "id": "t2N6DSrXXx5z"
      },
      "source": [
        "# TASK 1 Clean the data \n",
        "follow closely the second paragraph of Section 4 DATA. Name each step you do accordingly to the description in the paragraf\n",
        "https://www.researchgate.net/publication/337074109_Examining_the_feasibility_of_using_open_data_to_benchmark_building_energy_usage_in_cities_A_data_science_and_policy_perspective \n",
        "\n",
        "you can also help yourself inspecting the final datasets posted on the github repo but name each action according to the paper narrative: for example, if you drop \"Building ID\" indicate that this is done as part of \n",
        "_We then cleaned the datasets by removing irrelevant building-identifying features (such as\n",
        "address)_, or if dropping a variable with too many missing values _removing features that had missing values for greater than 40% of the buildings in the dataset._"
      ]
    },
    {
      "cell_type": "code",
      "metadata": {
        "id": "k15rP8aaNXO7"
      },
      "source": [
        "# Seattle\n",
        "# summarize the number of rows with missing values for each column\n",
        "for c in seattle.columns:  \n",
        "  # count number of rows with missing values\n",
        "  n_miss = seattle[c].isnull().sum()\n",
        "  perc = n_miss / seattle.shape[0] * 100\n",
        "  print('%s (%s):  Missing: %d (%.1f%%)' % (c, seattle[c].dtype, \n",
        "                                                  n_miss, perc))  \n",
        "print(\"\\n\")  \n",
        "# DC\n",
        "for c in dc.columns:  \n",
        "  n_miss = dc[c].isnull().sum()\n",
        "  perc = n_miss / dc.shape[0] * 100\n",
        "  print('%s (%s):  Missing: %d (%.1f%%)' % (c, dc[c].dtype, \n",
        "                                                  n_miss, perc))\n",
        "print(\"\\n\")  \n",
        "# chicago\n",
        "for c in chicago.columns:  \n",
        "  n_miss = chicago[c].isnull().sum()\n",
        "  perc = n_miss / chicago.shape[0] * 100\n",
        "  print('%s (%s):  Missing: %d (%.1f%%)' % (c, chicago[c].dtype, \n",
        "                                                  n_miss, perc))"
      ],
      "execution_count": null,
      "outputs": []
    },
    {
      "cell_type": "code",
      "source": [
        "for c in seattle.columns:\n",
        "  # count number of rows with missing values\n",
        "  n_miss = seattle[c].isnull().sum()\n",
        "  perc = n_miss / seattle.shape[0] * 100\n",
        "  if perc > 40:\n",
        "    seattle.drop(c, axis=1, inplace=True)\n",
        "print(\"there are (rows, columns) = \", (seattle.shape), \"in the dataframe\")\n",
        "\n",
        "seattle = seattle[['log_total_site_energy_KBTU',\"building_type\",\n",
        "                   \"property_type_primary\",\"zip\",\"council_district_code\",\n",
        "                   \"neighborhood\",\"year_built\",\"num_buildings\",\"num_floors\",\n",
        "                   \"gross_floor_area_total_SF\",\"gross_floor_area_parking_SF\",\n",
        "                   \"gross_floor_area_building_SF\",\"property_type_first\",\n",
        "                   \"gross_floor_area_property_type_first_SF\"]]"
      ],
      "metadata": {
        "colab": {
          "base_uri": "https://localhost:8080/",
          "height": 397
        },
        "id": "i2zPHoniCAkW",
        "outputId": "54b2efb0-0ea6-4c62-a618-29511bebce39"
      },
      "execution_count": 68,
      "outputs": [
        {
          "output_type": "stream",
          "name": "stdout",
          "text": [
            "there are (rows, columns) =  (3376, 39) in the dataframe\n"
          ]
        },
        {
          "output_type": "error",
          "ename": "KeyError",
          "evalue": "ignored",
          "traceback": [
            "\u001b[0;31m---------------------------------------------------------------------------\u001b[0m",
            "\u001b[0;31mKeyError\u001b[0m                                  Traceback (most recent call last)",
            "\u001b[0;32m<ipython-input-68-ab688e017362>\u001b[0m in \u001b[0;36m<module>\u001b[0;34m\u001b[0m\n\u001b[1;32m     12\u001b[0m                    \u001b[0;34m\"gross_floor_area_total_SF\"\u001b[0m\u001b[0;34m,\u001b[0m\u001b[0;34m\"gross_floor_area_parking_SF\"\u001b[0m\u001b[0;34m,\u001b[0m\u001b[0;34m\u001b[0m\u001b[0;34m\u001b[0m\u001b[0m\n\u001b[1;32m     13\u001b[0m                    \u001b[0;34m\"gross_floor_area_building_SF\"\u001b[0m\u001b[0;34m,\u001b[0m\u001b[0;34m\"property_type_first\"\u001b[0m\u001b[0;34m,\u001b[0m\u001b[0;34m\u001b[0m\u001b[0;34m\u001b[0m\u001b[0m\n\u001b[0;32m---> 14\u001b[0;31m                    \"gross_floor_area_property_type_first_SF\"]]\n\u001b[0m",
            "\u001b[0;32m/usr/local/lib/python3.7/dist-packages/pandas/core/frame.py\u001b[0m in \u001b[0;36m__getitem__\u001b[0;34m(self, key)\u001b[0m\n\u001b[1;32m   3462\u001b[0m             \u001b[0;32mif\u001b[0m \u001b[0mis_iterator\u001b[0m\u001b[0;34m(\u001b[0m\u001b[0mkey\u001b[0m\u001b[0;34m)\u001b[0m\u001b[0;34m:\u001b[0m\u001b[0;34m\u001b[0m\u001b[0;34m\u001b[0m\u001b[0m\n\u001b[1;32m   3463\u001b[0m                 \u001b[0mkey\u001b[0m \u001b[0;34m=\u001b[0m \u001b[0mlist\u001b[0m\u001b[0;34m(\u001b[0m\u001b[0mkey\u001b[0m\u001b[0;34m)\u001b[0m\u001b[0;34m\u001b[0m\u001b[0;34m\u001b[0m\u001b[0m\n\u001b[0;32m-> 3464\u001b[0;31m             \u001b[0mindexer\u001b[0m \u001b[0;34m=\u001b[0m \u001b[0mself\u001b[0m\u001b[0;34m.\u001b[0m\u001b[0mloc\u001b[0m\u001b[0;34m.\u001b[0m\u001b[0m_get_listlike_indexer\u001b[0m\u001b[0;34m(\u001b[0m\u001b[0mkey\u001b[0m\u001b[0;34m,\u001b[0m \u001b[0maxis\u001b[0m\u001b[0;34m=\u001b[0m\u001b[0;36m1\u001b[0m\u001b[0;34m)\u001b[0m\u001b[0;34m[\u001b[0m\u001b[0;36m1\u001b[0m\u001b[0;34m]\u001b[0m\u001b[0;34m\u001b[0m\u001b[0;34m\u001b[0m\u001b[0m\n\u001b[0m\u001b[1;32m   3465\u001b[0m \u001b[0;34m\u001b[0m\u001b[0m\n\u001b[1;32m   3466\u001b[0m         \u001b[0;31m# take() does not accept boolean indexers\u001b[0m\u001b[0;34m\u001b[0m\u001b[0;34m\u001b[0m\u001b[0;34m\u001b[0m\u001b[0m\n",
            "\u001b[0;32m/usr/local/lib/python3.7/dist-packages/pandas/core/indexing.py\u001b[0m in \u001b[0;36m_get_listlike_indexer\u001b[0;34m(self, key, axis)\u001b[0m\n\u001b[1;32m   1312\u001b[0m             \u001b[0mkeyarr\u001b[0m\u001b[0;34m,\u001b[0m \u001b[0mindexer\u001b[0m\u001b[0;34m,\u001b[0m \u001b[0mnew_indexer\u001b[0m \u001b[0;34m=\u001b[0m \u001b[0max\u001b[0m\u001b[0;34m.\u001b[0m\u001b[0m_reindex_non_unique\u001b[0m\u001b[0;34m(\u001b[0m\u001b[0mkeyarr\u001b[0m\u001b[0;34m)\u001b[0m\u001b[0;34m\u001b[0m\u001b[0;34m\u001b[0m\u001b[0m\n\u001b[1;32m   1313\u001b[0m \u001b[0;34m\u001b[0m\u001b[0m\n\u001b[0;32m-> 1314\u001b[0;31m         \u001b[0mself\u001b[0m\u001b[0;34m.\u001b[0m\u001b[0m_validate_read_indexer\u001b[0m\u001b[0;34m(\u001b[0m\u001b[0mkeyarr\u001b[0m\u001b[0;34m,\u001b[0m \u001b[0mindexer\u001b[0m\u001b[0;34m,\u001b[0m \u001b[0maxis\u001b[0m\u001b[0;34m)\u001b[0m\u001b[0;34m\u001b[0m\u001b[0;34m\u001b[0m\u001b[0m\n\u001b[0m\u001b[1;32m   1315\u001b[0m \u001b[0;34m\u001b[0m\u001b[0m\n\u001b[1;32m   1316\u001b[0m         if needs_i8_conversion(ax.dtype) or isinstance(\n",
            "\u001b[0;32m/usr/local/lib/python3.7/dist-packages/pandas/core/indexing.py\u001b[0m in \u001b[0;36m_validate_read_indexer\u001b[0;34m(self, key, indexer, axis)\u001b[0m\n\u001b[1;32m   1372\u001b[0m                 \u001b[0;32mif\u001b[0m \u001b[0muse_interval_msg\u001b[0m\u001b[0;34m:\u001b[0m\u001b[0;34m\u001b[0m\u001b[0;34m\u001b[0m\u001b[0m\n\u001b[1;32m   1373\u001b[0m                     \u001b[0mkey\u001b[0m \u001b[0;34m=\u001b[0m \u001b[0mlist\u001b[0m\u001b[0;34m(\u001b[0m\u001b[0mkey\u001b[0m\u001b[0;34m)\u001b[0m\u001b[0;34m\u001b[0m\u001b[0;34m\u001b[0m\u001b[0m\n\u001b[0;32m-> 1374\u001b[0;31m                 \u001b[0;32mraise\u001b[0m \u001b[0mKeyError\u001b[0m\u001b[0;34m(\u001b[0m\u001b[0;34mf\"None of [{key}] are in the [{axis_name}]\"\u001b[0m\u001b[0;34m)\u001b[0m\u001b[0;34m\u001b[0m\u001b[0;34m\u001b[0m\u001b[0m\n\u001b[0m\u001b[1;32m   1375\u001b[0m \u001b[0;34m\u001b[0m\u001b[0m\n\u001b[1;32m   1376\u001b[0m             \u001b[0mnot_found\u001b[0m \u001b[0;34m=\u001b[0m \u001b[0mlist\u001b[0m\u001b[0;34m(\u001b[0m\u001b[0mensure_index\u001b[0m\u001b[0;34m(\u001b[0m\u001b[0mkey\u001b[0m\u001b[0;34m)\u001b[0m\u001b[0;34m[\u001b[0m\u001b[0mmissing_mask\u001b[0m\u001b[0;34m.\u001b[0m\u001b[0mnonzero\u001b[0m\u001b[0;34m(\u001b[0m\u001b[0;34m)\u001b[0m\u001b[0;34m[\u001b[0m\u001b[0;36m0\u001b[0m\u001b[0;34m]\u001b[0m\u001b[0;34m]\u001b[0m\u001b[0;34m.\u001b[0m\u001b[0munique\u001b[0m\u001b[0;34m(\u001b[0m\u001b[0;34m)\u001b[0m\u001b[0;34m)\u001b[0m\u001b[0;34m\u001b[0m\u001b[0;34m\u001b[0m\u001b[0m\n",
            "\u001b[0;31mKeyError\u001b[0m: \"None of [Index(['log_total_site_energy_KBTU', 'building_type', 'property_type_primary',\\n       'zip', 'council_district_code', 'neighborhood', 'year_built',\\n       'num_buildings', 'num_floors', 'gross_floor_area_total_SF',\\n       'gross_floor_area_parking_SF', 'gross_floor_area_building_SF',\\n       'property_type_first', 'gross_floor_area_property_type_first_SF'],\\n      dtype='object')] are in the [columns]\""
          ]
        }
      ]
    },
    {
      "cell_type": "code",
      "source": [
        "'''\n",
        "import pandas as pd\n",
        "\n",
        "dc = pd.read_csv(\"https://github.com/Urban-Informatics-Lab/Open-Data-Benchmarking/raw/master/DC/DC_final.csv\")\n",
        "\n",
        "columns = [\"report_status\",\"ward\",\"postal_code\",\"year_built\",\"primary_ptype_self\",\"primary_ptype_epa\",\"tax_record_floor_area\",\"reported_gross_floor_area\",\"water_use\",\"metered_areas_energy\",\"metered_areas_water\"]\n",
        "dc[columns]\n",
        "y_DC=DC['log_total_site_energy_KBTU']\n",
        "\n",
        "\n",
        "chicago_features=c(\"num_buildings\",\"year_built\",\"property_type_primary_epa\",\"floor_area_total_SF\",\"h2o_use_allsources_KGAL\",\"SALE_PR\",\"SALE_TY\",\"MV\",\"TX_LND\",\"TX_BLDG\",\"XMPT_LND\",\"XMPT_BLDG\",\"CAT_CD\",\"ZONE\",\"FRT\",\"DPT\",\"TOT_AREA\",\"TOP\",\"GRG_TYP\",\"GRG_SP\",\"OFF_ST\",\"VIEW_\",\"STORIES\",\"EXT_COND\",\"NO_RM\",\"NO_BD\",\"NO_BATH\",\"BASMT_SQFT\",\"FIRE\",\"INT_COND\",\"TOT_LIV_AREA\")\n",
        "chicago_outputs=c(\"electricity_use_KBTU\",\"energy_star_score\",\"site_eui_KBTUSF\",\"source_eui_KBTUSF\",\"total_ghg_emissions_MTCO2e\",\"total_site_energy_KBTU\",\"log_total_site_energy_KBTU\")\n",
        "#split into features and outputs\n",
        "'''"
      ],
      "metadata": {
        "id": "GeJ4U-4yoFhh"
      },
      "execution_count": null,
      "outputs": []
    },
    {
      "cell_type": "code",
      "source": [
        "for c in dc.columns:\n",
        "  # count number of rows with missing values\n",
        "  n_miss = dc[c].isnull().sum()\n",
        "  perc = n_miss / dc.shape[0] * 100\n",
        "  if perc > 40:\n",
        "    dc.drop(c, axis=1, inplace=True)\n",
        "# add anything else you want to do \n",
        "# our decisions and codes may differe here so if your results is not exactly like mine that is ok\n",
        "# replace ... with your code\n",
        "# dropping unnecessary identification columns\n",
        "dc = dc[[\"report_status\",\"ward\",\"postal_code\",\"year_built\",\"primary_ptype_self\",\n",
        "          \"primary_ptype_epa\",\"tax_record_floor_area\",\"reported_gross_floor_area\",\n",
        "          \"water_use\",\"metered_areas_energy\",\"metered_areas_water\", 'log_total_site_energy_KBTU']]\n",
        "print(\"DC: there are (rows, columns) = \", (dc.shape), \"in the dataframe\")\n",
        "\n",
        "for c in chicago.columns:\n",
        "  n_miss = chicago[c].isnull().sum()\n",
        "  perc = n_miss / chicago.shape[0] * 100\n",
        "  if perc > 40:\n",
        "    chicago.drop(c, axis=1, inplace=True)\n",
        "chicago = chicago[[\"Primary.Property.Type\",\"Gross.Floor.Area...Buildings..sq.ft.\",\n",
        "                   \"Year.Built\", \"X..of.Buildings\",'log_total_site_energy_KBTU']]\n",
        "print(\"Chicago: there are (rows, columns) = \", (chicago.shape), \"in the dataframe\")\n"
      ],
      "metadata": {
        "id": "W9XqE-7-sVoi"
      },
      "execution_count": null,
      "outputs": []
    },
    {
      "cell_type": "markdown",
      "metadata": {
        "id": "XVD2IKLsZI2x"
      },
      "source": [
        "# TASK 2: transform input feature as needed\n",
        "for example replace features with log features. Guide yourself with the text, the final dataset names, and also the code here https://github.com/Urban-Informatics-Lab/Open-Data-Benchmarking/blob/master/Lasso_RandomForest.Rmd"
      ]
    },
    {
      "cell_type": "code",
      "source": [
        "for c in seattle.columns:\n",
        "  \n",
        "  # count number of rows with missing values\n",
        "  n_miss = seattle[c].isnull().sum()\n",
        "  perc = n_miss / seattle.shape[0] * 100\n",
        "  print('%s (%s):  Missing: %d (%.1f%%)' % (c, seattle[c].dtype, \n",
        "                                                  n_miss, perc))\n",
        "  \n",
        "for c in dc.columns:\n",
        "  \n",
        "  # count number of rows with missing values\n",
        "  n_miss = dc[c].isnull().sum()\n",
        "  perc = n_miss / dc.shape[0] * 100\n",
        "  print('%s (%s):  Missing: %d (%.1f%%)' % (c, dc[c].dtype, \n",
        "                                                  n_miss, perc))\n",
        "  \n",
        "for c in chicago.columns:\n",
        "  \n",
        "  # count number of rows with missing values\n",
        "  n_miss = chicago[c].isnull().sum()\n",
        "  perc = n_miss / chicago.shape[0] * 100\n",
        "  print('%s (%s):  Missing: %d (%.1f%%)' % (c, chicago[c].dtype, \n",
        "                                                  n_miss, perc))\n",
        "  "
      ],
      "metadata": {
        "id": "SPWnfbcJC9v0"
      },
      "execution_count": null,
      "outputs": []
    },
    {
      "cell_type": "code",
      "metadata": {
        "id": "SWyHLyhCLYIm"
      },
      "source": [
        "print(seattle.describe()) #what shoudl you look at in the result below?\n",
        "print(dc.describe())\n",
        "print(chicago.describe())\n",
        "#the overall description of the dataset"
      ],
      "execution_count": null,
      "outputs": []
    },
    {
      "cell_type": "code",
      "source": [
        "seattle.info() #why is this helpful to print?\n",
        "# data type of each feature"
      ],
      "metadata": {
        "id": "qFWWCuN755gc"
      },
      "execution_count": null,
      "outputs": []
    },
    {
      "cell_type": "code",
      "source": [
        "dc.info() "
      ],
      "metadata": {
        "id": "wGV_Ac8-9PUY"
      },
      "execution_count": null,
      "outputs": []
    },
    {
      "cell_type": "code",
      "source": [
        "chicago.info()"
      ],
      "metadata": {
        "id": "MPfDhEta9PLA"
      },
      "execution_count": null,
      "outputs": []
    },
    {
      "cell_type": "markdown",
      "source": [
        "## Throw away data where the **target** variable is missing\n",
        "\n",
        "I will remove each row where I do not have the target variable. To do that I use `df.dropna()` and the subset argument of `df.dropna()` set to the name of the variable. The `how` should be set to \"any\" cause you want to drop the row where any values in the subset is NaN (this is a subset of one column, so it is obvious, but imagine if you were passing more than one column to the call `dropna()`"
      ],
      "metadata": {
        "id": "LjzW2m2I-dvq"
      }
    },
    {
      "cell_type": "code",
      "source": [
        "seattle[\"SiteEnergyUse(kBtu)\"].isna().sum()"
      ],
      "metadata": {
        "id": "aDMtT0kq_rUx"
      },
      "execution_count": null,
      "outputs": []
    },
    {
      "cell_type": "code",
      "source": [
        "dc[\"log_total_site_energy_KBTU\"].isna().sum()"
      ],
      "metadata": {
        "id": "jG9y1F0-_ZkK"
      },
      "execution_count": null,
      "outputs": []
    },
    {
      "cell_type": "code",
      "source": [
        "chicago['log_total_site_energy_KBTU'].isna().sum()"
      ],
      "metadata": {
        "id": "uhekeeeh_icZ"
      },
      "execution_count": null,
      "outputs": []
    },
    {
      "cell_type": "code",
      "source": [
        "original_len = seattle.shape[0]\n",
        "seattle.dropna(subset=['SiteEnergyUse(kBtu)'], inplace = True) #... # replace ... with your code\n",
        "\n",
        "print(\"I lost {:.2f}% of seattle data\".format((1 - (seattle.shape[0] / original_len)) * 100))\n",
        "\n",
        "original_len = dc.shape[0]\n",
        "dc.dropna(subset=['log_total_site_energy_KBTU'], inplace = True) #... # replace ... with your code\n",
        "\n",
        "print(\"I lost {:.2f}% of dc data\".format((1 - (dc.shape[0] / original_len)) * 100))\n",
        "\n",
        "original_len = chicago.shape[0]\n",
        "chicago.dropna(subset=['log_total_site_energy_KBTU'], inplace = True) #... # replace ... with your code\n",
        "\n",
        "print(\"I lost {:.2f}% of chicago data\".format((1 - (chicago.shape[0] / original_len)) * 100))\n"
      ],
      "metadata": {
        "id": "MQC0OsUq-i0Q"
      },
      "execution_count": null,
      "outputs": []
    },
    {
      "cell_type": "code",
      "metadata": {
        "id": "7uQG7QcFPJUA"
      },
      "source": [
        "# isolate the target variable first (endogenous)\n",
        "y_seattle = seattle['SiteEnergyUse(kBtu)'].values\n",
        "y_dc = dc['log_total_site_energy_KBTU'].values\n",
        "y_chicago = chicago['log_total_site_energy_KBTU'].values\n",
        "\n",
        "# and the input variables (exogenous)\n",
        "X_seattle = seattle.drop('SiteEnergyUse(kBtu)', axis=1)\n",
        "X_dc = dc.drop('log_total_site_energy_KBTU', axis=1)\n",
        "X_chicago = chicago.drop('log_total_site_energy_KBTU', axis=1)\n",
        "\n"
      ],
      "execution_count": null,
      "outputs": []
    },
    {
      "cell_type": "markdown",
      "metadata": {
        "id": "iNbDz-98ZvkM"
      },
      "source": [
        "### separate categorical and numerical values\n",
        "you will proceed to missing data imputation differently in the 2 cases"
      ]
    },
    {
      "cell_type": "code",
      "source": [
        "# I am giving you the solution but please take note of how one does this!\n",
        "X_seattle_numeric_data = X_seattle.select_dtypes(include=[np.number])\n",
        "X_seattle_categorical_data = X_seattle.select_dtypes(exclude=[np.number])\n",
        "X_dc_numeric_data = X_dc.select_dtypes(include=[np.number])\n",
        "X_dc_categorical_data = X_dc.select_dtypes(exclude=[np.number])\n",
        "X_chicago_numeric_data = X_chicago.select_dtypes(include=[np.number])\n",
        "X_chicago_categorical_data = X_chicago.select_dtypes(exclude=[np.number])"
      ],
      "metadata": {
        "id": "-XpDBDTI-gE_"
      },
      "execution_count": null,
      "outputs": []
    },
    {
      "cell_type": "code",
      "source": [
        "X_seattle_numeric_data.shape"
      ],
      "metadata": {
        "id": "fTjcQ4Id_IWB"
      },
      "execution_count": null,
      "outputs": []
    },
    {
      "cell_type": "code",
      "source": [
        "X_dc_numeric_data.shape"
      ],
      "metadata": {
        "id": "FIriUMe3MjaG"
      },
      "execution_count": null,
      "outputs": []
    },
    {
      "cell_type": "code",
      "source": [
        "X_chicago_numeric_data.shape"
      ],
      "metadata": {
        "id": "YW3hJn-QMi9K"
      },
      "execution_count": null,
      "outputs": []
    },
    {
      "cell_type": "code",
      "source": [
        "X_seattle_numeric_data.head() ## is there anything suspicious? anything thas is in fact **not** a numerical variable? that will depend on how you did in TASK 1"
      ],
      "metadata": {
        "id": "_3qPUKno_aXS"
      },
      "execution_count": null,
      "outputs": []
    },
    {
      "cell_type": "code",
      "source": [
        "X_dc_numeric_data.head()"
      ],
      "metadata": {
        "id": "e1VA07A3MkgL"
      },
      "execution_count": null,
      "outputs": []
    },
    {
      "cell_type": "code",
      "source": [
        "X_chicago_numeric_data.head()"
      ],
      "metadata": {
        "id": "oCDHwDu_MkLk"
      },
      "execution_count": null,
      "outputs": []
    },
    {
      "cell_type": "code",
      "source": [
        "X_seattle_categorical_data.shape"
      ],
      "metadata": {
        "id": "4T_3UDYv_Nft"
      },
      "execution_count": null,
      "outputs": []
    },
    {
      "cell_type": "code",
      "source": [
        "X_dc_categorical_data.shape"
      ],
      "metadata": {
        "id": "MddHN_AvMldm"
      },
      "execution_count": null,
      "outputs": []
    },
    {
      "cell_type": "code",
      "source": [
        "X_chicago_categorical_data.shape"
      ],
      "metadata": {
        "id": "xwNANi_kMlVf"
      },
      "execution_count": null,
      "outputs": []
    },
    {
      "cell_type": "markdown",
      "source": [
        "## TASK 2.1: make a scatter plot to assess covariance of numerical variables"
      ],
      "metadata": {
        "id": "l5MLHK6N8Ywm"
      }
    },
    {
      "cell_type": "markdown",
      "source": [
        "### IMPORTANT!! \n",
        "\n",
        "there are going to be some **very** collinear variable - zoom in and chek them out - what are they? You will need to remove variables that are _identical_, because you obviously do not want to imput the data twice in the model - it will not improve the model and it will impact the feature importance analysis.\n",
        "\n",
        "What else looks like it should be removed? \n",
        "\n",
        "**Reason about it and explain your choices in the caption of the figure**\n",
        "\n"
      ],
      "metadata": {
        "id": "ZtXoL_JgF04s"
      }
    },
    {
      "cell_type": "code",
      "source": [
        "# THIS TAKES A LOOOONG TIME! ~10 MINUTES ON COLAB FOR ME\n",
        "import seaborn as sns\n",
        "sns.pairplot(X_seattle_numeric_data)\n",
        "# DELETE OUTPUT!"
      ],
      "metadata": {
        "id": "zsWGebVX80OQ"
      },
      "execution_count": null,
      "outputs": []
    },
    {
      "cell_type": "code",
      "source": [
        "X_seattle_numeric_data.head()"
      ],
      "metadata": {
        "id": "OxeNOnAFWTJb"
      },
      "execution_count": null,
      "outputs": []
    },
    {
      "cell_type": "code",
      "source": [
        "# which rows should you drop?\n",
        "X_seattle_numeric_data.drop([\"Latitude\",\t\"Longitude\"], axis = 1)\n"
      ],
      "metadata": {
        "id": "zH6H4PV1GeqB"
      },
      "execution_count": null,
      "outputs": []
    },
    {
      "cell_type": "code",
      "source": [
        "X_seattle_numeric_data.describe()"
      ],
      "metadata": {
        "id": "oCLGV84IICwN"
      },
      "execution_count": null,
      "outputs": []
    },
    {
      "cell_type": "code",
      "source": [
        "# this does not have to be identical to my output as you may have dropped different variables\n",
        "print(\"there are (rows, columns) = \", X_seattle_numeric_data.shape, \"in the numerical variables\")"
      ],
      "metadata": {
        "id": "cbChlcXUG2rI"
      },
      "execution_count": null,
      "outputs": []
    },
    {
      "cell_type": "markdown",
      "source": [
        "As they do in the original research https://github.com/Urban-Informatics-Lab/Open-Data-Benchmarking/blob/master/Lasso_RandomForest.Rmd we should transform some variables into their log values \n",
        "\n",
        "their original code (which is in R not in python!) is\n",
        "```\n",
        "x_seattle$log_total_area=log(x_seattle$gross_floor_area_total_SF)\n",
        "x_seattle$log_parking_area=log(x_seattle$gross_floor_area_parking_SF)\n",
        "x_seattle$log_bldg_area=log(x_seattle$gross_floor_area_building_SF)\n",
        "x_seattle$log_area_1=log(x_seattle$gross_floor_area_property_type_first_SF)\n",
        "\n",
        "```\n",
        "the names are a bit different\n"
      ],
      "metadata": {
        "id": "hVYsiqOK8SJp"
      }
    },
    {
      "cell_type": "code",
      "source": [
        "# note: recheck missing values \n",
        "# this is important: after I apply the log function to some variables cause log(0) = -infinity\n",
        "print(\"there are {} missing or infinity values in the numerical data\".format(X_seattle_numeric_data.isnull().sum().sum()))"
      ],
      "metadata": {
        "colab": {
          "base_uri": "https://localhost:8080/"
        },
        "id": "_1Zul4fDAiip",
        "outputId": "f0ae6389-6d7e-4f97-f774-441722af4124"
      },
      "execution_count": 78,
      "outputs": [
        {
          "output_type": "stream",
          "name": "stdout",
          "text": [
            "there are 912 missing or infinity values in the numerical data\n"
          ]
        }
      ]
    },
    {
      "cell_type": "code",
      "source": [
        "# translated to python\n",
        "X_seattle_numeric_data[\"PropertyGFATotal\"] = np.log10(X_seattle_numeric_data[\"PropertyGFATotal\"])\n",
        "... #replace ... with your code"
      ],
      "metadata": {
        "id": "ctHl1vEQAG8Z"
      },
      "execution_count": null,
      "outputs": []
    },
    {
      "cell_type": "code",
      "source": [
        "print(\"number of infinite values:\", (np.isinf(X_numeric_data)).sum().sum())"
      ],
      "metadata": {
        "id": "RkNEiGU5vzxz"
      },
      "execution_count": null,
      "outputs": []
    },
    {
      "cell_type": "markdown",
      "metadata": {
        "id": "Da-93SxbMFCX"
      },
      "source": [
        "check what happened to missing values: they may have grown! because  log(0) = -infinity - fix infinities replacing them with NaN \n",
        "\n",
        "(in in https://github.com/Urban-Informatics-Lab/Open-Data-Benchmarking/blob/master/Lasso_RandomForest.Rmd they had replaced them with 0 but I object to that)"
      ]
    },
    {
      "cell_type": "code",
      "source": [
        "# this has to return 0 now\n",
        "X_numeric_data.replace(-np.inf, np.nan, inplace=True)\n",
        "print(\"number of infinite values:\", (np.isinf(X_numeric_data)).sum().sum())"
      ],
      "metadata": {
        "id": "qRz_WdUVutWc"
      },
      "execution_count": null,
      "outputs": []
    },
    {
      "cell_type": "code",
      "source": [
        "print(\"the numerical data contains (rows, columns) = \", X_numeric_data.shape)\n",
        "print(\"there are {} missing values in the numerical data\".format(X_numeric_data.isnull().sum().sum()))"
      ],
      "metadata": {
        "id": "hBYQpTJrBZK4"
      },
      "execution_count": null,
      "outputs": []
    },
    {
      "cell_type": "markdown",
      "source": [
        "\n",
        "you can use `KNNImputer` on the numerical variables, but KNNImputer would fail on categorical variables so you are left with NaNs on categorical variables, which you then need to drop before you run the Random Forest\n",
        "\n",
        "\n",
        "You can impute separately the numerical and categorical variables, the numerical ones with KNNImputer and the categorical ones with SimpleImputer"
      ],
      "metadata": {
        "id": "QbpwzPij5A8z"
      }
    },
    {
      "cell_type": "markdown",
      "metadata": {
        "id": "dfQnS9eVZ7A4"
      },
      "source": [
        "## TASK 2.2 use Nearest Neighbor Imputer to impute missing values in numerical features\n",
        "\n",
        "here we are deviating from the paper. NN imputation is simpler and more common, I think it may be more useful to you in general"
      ]
    },
    {
      "cell_type": "code",
      "metadata": {
        "id": "gNLiSt1fOCz4"
      },
      "source": [
        "from sklearn.impute import KNNImputer\n",
        "\n",
        "imputer = KNNImputer(... #replace ... with your code\n",
        "Xn = ...\n",
        "Xn"
      ],
      "execution_count": null,
      "outputs": []
    },
    {
      "cell_type": "markdown",
      "metadata": {
        "id": "mW5GNpU0aFIO"
      },
      "source": [
        "## TASK 2.3 Impute missing categorial variables \n",
        "you will have to remove Nan values and replace them. \n",
        "\n",
        "You can use `sklearn.impute.SimpleImputer using strategy=\"most_frequent\"` on all variables, but you will have a naif solution for numerical imputations\n",
        "\n",
        "I prefer to replace them with \"None\" or a similar string, for which you can use the fillna method: ```df.fillna(\"None\")``` and leave it at that or with a little more effort you can input values based on nearest neighbors or some other inputation scheme. any choice goes so long as it is well described and justified with words."
      ]
    },
    {
      "cell_type": "code",
      "source": [
        "### here you replace NaN in categorical with one of the options above\n",
        "# your code here\n",
        "... #replace ... with your code"
      ],
      "metadata": {
        "id": "D0Hp7QNiwxU5"
      },
      "execution_count": null,
      "outputs": []
    },
    {
      "cell_type": "markdown",
      "source": [
        "# TASK 3 One Hot Encode the Categorical Variables\n",
        "\n",
        "Hint: Once you have done the fit and the transformation, which gives you the transformed data according to the new encoding, what you get is normally a sparse matrix. In principle there is an argument `sparse` to `OneHotEncoder` which should prevent this and give you a dense matrix, which is much easier to handle (consider asking me or looking up what is a sparse matrix!). That attribute did not work for me so once I applied the new encoding I converted the result to a dense matrix as \n",
        "`Xc = Xc.todense()`\n",
        "\n",
        "Finally, you will need to use a specific method to get the new names of the variables. Its a method of your model (which I called ohe below) and you can find it in this page here https://scikit-learn.org/stable/modules/generated/sklearn.preprocessing.OneHotEncoder.html"
      ],
      "metadata": {
        "id": "7ryRb65ux_rX"
      }
    },
    {
      "cell_type": "code",
      "source": [
        "X_categorical_data.describe()"
      ],
      "metadata": {
        "id": "TdW9a2K7zzey"
      },
      "execution_count": null,
      "outputs": []
    },
    {
      "cell_type": "code",
      "metadata": {
        "id": "BJoES_oBQBIl"
      },
      "source": [
        "from sklearn.preprocessing import OneHotEncoder\n",
        "# DELETE\n",
        "#your code here\n",
        "\n",
        "ohe = OneHotEncoder(... #replace ... with your code\n",
        "...\n",
        "Xc.shape"
      ],
      "execution_count": null,
      "outputs": []
    },
    {
      "cell_type": "code",
      "source": [
        "# there is a speific method of ohe that allows you to get the names of the features after the encoding is done\n",
        "feature_name_cat = ohe...... #replace ... with your code"
      ],
      "metadata": {
        "id": "IuLhVV3SBlPb"
      },
      "execution_count": null,
      "outputs": []
    },
    {
      "cell_type": "markdown",
      "metadata": {
        "id": "3Wd7WBC6fSSI"
      },
      "source": [
        "# Task 4 recombine your numerical and categorical imput features and split your data into training and testing"
      ]
    },
    {
      "cell_type": "code",
      "metadata": {
        "id": "eq9FKlTgOsvX"
      },
      "source": [
        "# this dont need to be the same for you\n",
        "Xn.shape"
      ],
      "execution_count": null,
      "outputs": []
    },
    {
      "cell_type": "code",
      "metadata": {
        "id": "ob2Nd1_pTeAx"
      },
      "source": [
        "# this dont need to be the same for you\n",
        "Xc.shape"
      ],
      "execution_count": null,
      "outputs": []
    },
    {
      "cell_type": "code",
      "metadata": {
        "id": "0taJGPcRTfLN"
      },
      "source": [
        "X = np.hstack([Xn, Xc])\n",
        "X.shape"
      ],
      "execution_count": null,
      "outputs": []
    },
    {
      "cell_type": "code",
      "source": [
        "print(\"The dataset has {} features (!!!)\".format(X.shape[1]))"
      ],
      "metadata": {
        "id": "Q-1tDyqg2HCC"
      },
      "execution_count": null,
      "outputs": []
    },
    {
      "cell_type": "code",
      "metadata": {
        "id": "WCUUattUUfqR"
      },
      "source": [
        "# make a train and test dataset\n",
        "from sklearn.model_selection import train_test_split\n",
        "\n",
        "X_train, X_test, y_train, y_test = ..... #replace ... with your code"
      ],
      "execution_count": null,
      "outputs": []
    },
    {
      "cell_type": "markdown",
      "metadata": {
        "id": "ao-6jRG0fdNT"
      },
      "source": [
        "# TASK 5 run a random forest REGRESSION model\n",
        "\n",
        "report the score on the tranining and test data and identify the most important features\n",
        "\n",
        "(hint: if you see \"ValueError: Input contains NaN, infinity or a value too large for dtype('float64').\" check \n",
        "1. np.isnan(Xn).sum().sum() and np.isnan(Xc).sum().sum() both return 0\n",
        "2. np.isinf(Xn).sum().sum() returns 0\n",
        "3. all the feature that had very large numbers (> 1e5) have been converted to the log of their values"
      ]
    },
    {
      "cell_type": "code",
      "metadata": {
        "id": "kEiFt_htTjNF"
      },
      "source": [
        "from sklearn.ensemble import RandomForestRegressor\n",
        "rf = RandomForestRegressor(... #replace ... with your code"
      ],
      "execution_count": null,
      "outputs": []
    },
    {
      "cell_type": "code",
      "metadata": {
        "id": "ymTuhJURT8hC"
      },
      "source": [
        "print (\"the model test accuracy is {:.2}\".format(rf.score(X_test, y_test)))"
      ],
      "execution_count": null,
      "outputs": []
    },
    {
      "cell_type": "code",
      "metadata": {
        "id": "jX2RquwBUT0a"
      },
      "source": [
        "#this is how you see the importance of the features\n",
        "rf.feature_importances_[:10]"
      ],
      "execution_count": null,
      "outputs": []
    },
    {
      "cell_type": "code",
      "metadata": {
        "id": "465vWw5gWGA3"
      },
      "source": [
        "\n",
        "feature_names = .... #replace ... with your code\n",
        "len(feature_names)"
      ],
      "execution_count": null,
      "outputs": []
    },
    {
      "cell_type": "code",
      "metadata": {
        "id": "jO9F9bMRUYgU"
      },
      "source": [
        "# plot the top ~50 features\n",
        "import pylab as plt\n",
        "\n",
        "sorted_idx = ... #replace ... with your code \n",
        "\n",
        "y_ticks = np.arange(0, len(feature_names))\n",
        "fig, ax = plt.subplots(figsize=(10,20))\n",
        "ax.barh(y_ticks, tree_feature_importances[sorted_idx])\n",
        "ax.set_yticklabels(feature_names[sorted_idx])\n",
        "ax.set_yticks(y_ticks)\n",
        "ax.set_title(\"Random Forest Feature Importances (MDI)\")\n",
        "fig.tight_layout()\n",
        "ax.set_ylim(550, len(feature_names))\n",
        "plt.show()\n",
        "\n",
        "#your plot may be different from mine"
      ],
      "execution_count": null,
      "outputs": []
    },
    {
      "cell_type": "code",
      "source": [
        "# CAPTION HERE! How is your model, How is your feature importance results? what can you notice? is it interesting? is it insightful??"
      ],
      "metadata": {
        "id": "Fv7SfQcRDZSP"
      },
      "execution_count": null,
      "outputs": []
    },
    {
      "cell_type": "markdown",
      "source": [
        "# TASK 6 do it for another city! note: the variable names wont be the same\n"
      ],
      "metadata": {
        "id": "FCZTCrn5OtCl"
      }
    },
    {
      "cell_type": "markdown",
      "metadata": {
        "id": "XZxr_mNXV5QB"
      },
      "source": [
        "# useful links and methods and functions I used: \n",
        "\n",
        "```df.dropna()``` to remove observation with missing variables\n",
        "\n",
        "```df.drop(columns, axis=1)``` to remove features (columns)\n",
        "\n",
        "\n",
        "```np.log10()``` and ```np.isinf()``` to convert to log space and find infinite values  \n",
        "\n",
        "`np.hstack([X1, X2])` to concatenate two arrays\n"
      ]
    },
    {
      "cell_type": "markdown",
      "metadata": {
        "id": "glzZInBSoLjW"
      },
      "source": [
        "one hot encoder https://scikit-learn.org/stable/modules/generated/sklearn.preprocessing.OneHotEncoder.html and https://stackabuse.com/one-hot-encoding-in-python-with-pandas-and-scikit-learn/\n"
      ]
    },
    {
      "cell_type": "markdown",
      "metadata": {
        "id": "c9_0ZFaGqRj1"
      },
      "source": [
        "KNN imputer https://scikit-learn.org/stable/modules/generated/sklearn.impute.KNNImputer.html , https://www.analyticsvidhya.com/blog/2020/07/knnimputer-a-robust-way-to-impute-missing-values-using-scikit-learn/, and \n",
        "https://machinelearningmastery.com/knn-imputation-for-missing-values-in-machine-learning/  "
      ]
    },
    {
      "cell_type": "code",
      "metadata": {
        "id": "bKLcYpBcqggC"
      },
      "source": [],
      "execution_count": null,
      "outputs": []
    }
  ]
}