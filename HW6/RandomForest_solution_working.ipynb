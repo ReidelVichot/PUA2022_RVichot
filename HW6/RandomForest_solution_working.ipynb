{
  "nbformat": 4,
  "nbformat_minor": 0,
  "metadata": {
    "colab": {
      "provenance": [],
      "include_colab_link": true
    },
    "kernelspec": {
      "name": "python3",
      "display_name": "Python 3"
    }
  },
  "cells": [
    {
      "cell_type": "markdown",
      "metadata": {
        "id": "view-in-github",
        "colab_type": "text"
      },
      "source": [
        "<a href=\"https://colab.research.google.com/github/ReidelVichot/PUS2022_RVichot/blob/main/HW6/RandomForest_solution_working.ipynb\" target=\"_parent\"><img src=\"https://colab.research.google.com/assets/colab-badge.svg\" alt=\"Open In Colab\"/></a>"
      ]
    },
    {
      "cell_type": "markdown",
      "metadata": {
        "id": "KW9Oy459fxHz"
      },
      "source": [
        "Following the paper \"Examining the feasibility of using open data to benchmark building energy usage in cities: A data science and policy perspective\" [Roth et al 2019](https://www.researchgate.net/publication/337074109_Examining_the_feasibility_of_using_open_data_to_benchmark_building_energy_usage_in_cities_A_data_science_and_policy_perspective), choose 2 cities in the dataset available through the paper's github repository https://github.com/Urban-Informatics-Lab/Open-Data-Benchmarking\n",
        "\n",
        "This paper is an excellent example of reproducible research. \n",
        "\n",
        "I also created an example of using random forest classifier and regressors here https://github.com/fedhere/PUS2022_FBianco/blob/master/classdemo/COVID19LOS_featureExtractionRFexample.ipynb and there are links at the bottom of this notebook to useful functions and examples on the internet of applications of methods you will need to use.\n",
        "\n",
        "1. Read the introduction to the paper and describe here (briefly) the goals of their analysis (and the analysis that you are about to reproduce). Max 200 words.\n",
        "\n",
        "  Studies have shown gaps in buildings’ energy efficiency. Meaning that most efficient energetical technologies are not correctly implemented. This gap probably happens because of market barriers, imperfect information, hidden costs, regulatory failures, and behavioral negligence. \n",
        "  The urgency for action has motivated global initiatives like the United Nations Sustainable Development Goals (SDGs) and the Paris Climate Agreement that aim at reducing energy consumption. Some major cities worldwide committed to making all new buildings from 2030 carbon-neutral and older buildings carbon-neutral by 2050. \n",
        "  Reducing the energy consumption of buildings has important implications for environmental, economic, and social health. The increase in buildings’ energy efficiency can reduce the demand for electricity and, therefore, the amounts of carbon dioxide emitted to the atmosphere. Building energy benchmarking policies is among some of cities' responses to the benefits of implementing energy-efficient policies.  \n",
        "  The paper (Roth et al., 2019) tries to answer the following questions: \n",
        "  *   Can city-wide energy benchmarking be conducted using only open data and how do such models compare to the current practice?\n",
        "  *   What benchmarking data fields are important for cities to collect?\n",
        "  *   What policies and programs improve the efficacy of energy benchmarking programs?\n",
        "\n",
        "\n",
        "2. Choose 2 cities (any 2 cities except Seattle cause I am running some of the Seattle analysis below for guidance)\n",
        "\n",
        "  *   Chicago\n",
        "  *   DC\n",
        "   \n",
        "\n",
        "3. For each of the 2 cities reproduce their analysis by \n",
        "\n",
        "  3.1 gathering the original data from their repository (see below for Seattle example)\n",
        "\n",
        "  3.2 clean the data according to their data preparation scheme, including one-hot-encoding categorical variables, except to impute missing data using KNearestNeighors instead of Gibbs sampling (see below)\n",
        "\n",
        "  3.3 run a Random Forest (RF) Regressor to predict the total energy consumption.\n",
        "\n",
        "  3.4 evaluate the RF model performance by printing the R2 score (the default score in SKLearn RF) for training and test set (discuss)\n",
        "\n",
        "  3.5 plot the features sorted by their importance and identify the most important features. are they consistent between the 2 cities? are they consistent with the paper's result?\n",
        "4 compare the result for the 2 cities (discuss)\n",
        "\n",
        "5. Extra credit: \n",
        "\n",
        "  5.1 modify the target variable to a binary variable choosing the median of the variable values as the the energy threshold and predict whether the value is higher or lower than the threshold\n",
        "  5.2 Run a Random Forest Classifier to predict if an observation is in the upper 50% percentile or lower 50% percentile (above or below the median threshold)\n",
        "  5.3 Measure the performance of the model on training and test data\n",
        "  5.4 Measure the feature importance and assess if the important feature have changed (discuss)"
      ]
    },
    {
      "cell_type": "code",
      "metadata": {
        "id": "EVupHHIYHuUK"
      },
      "source": [
        "import pandas as pd\n",
        "import numpy as np"
      ],
      "execution_count": 80,
      "outputs": []
    },
    {
      "cell_type": "markdown",
      "metadata": {
        "id": "5Wia-RaAXtJC"
      },
      "source": [
        "# choose a city and read in the data"
      ]
    },
    {
      "cell_type": "code",
      "metadata": {
        "id": "hmVzVH0dHwP1"
      },
      "source": [
        "seattle = pd.read_csv(\"https://raw.githubusercontent.com/Urban-Informatics-Lab/Open-Data-Benchmarking/master/Seattle/seattle_final.csv\")\n",
        "dc = pd.read_csv(\"https://github.com/Urban-Informatics-Lab/Open-Data-Benchmarking/raw/master/DC/DC_final.csv\")\n",
        "chicago = pd.read_csv(\"https://github.com/Urban-Informatics-Lab/Open-Data-Benchmarking/raw/master/Chicago/chi_final.csv\")"
      ],
      "execution_count": 81,
      "outputs": []
    },
    {
      "cell_type": "markdown",
      "metadata": {
        "id": "2U-1HZY2Xodw"
      },
      "source": [
        "# inspect the dataframe"
      ]
    },
    {
      "cell_type": "code",
      "source": [
        "print(\"Seattle: there are (rows, columns) = \", (seattle.shape), \"in the dataframe\")\n",
        "print(\"DC: there are (rows, columns) = \", (dc.shape), \"in the dataframe\")\n",
        "print(\"Philadelphia: there are (rows, columns) = \", (chicago.shape), \"in the dataframe\")"
      ],
      "metadata": {
        "colab": {
          "base_uri": "https://localhost:8080/"
        },
        "id": "DRht35FE95Ar",
        "outputId": "d10bd699-64ad-4f6e-dc49-944e452ced63"
      },
      "execution_count": 82,
      "outputs": [
        {
          "output_type": "stream",
          "name": "stdout",
          "text": [
            "Seattle: there are (rows, columns) =  (3237, 32) in the dataframe\n",
            "DC: there are (rows, columns) =  (1455, 23) in the dataframe\n",
            "Philadelphia: there are (rows, columns) =  (2688, 19) in the dataframe\n"
          ]
        }
      ]
    },
    {
      "cell_type": "code",
      "metadata": {
        "id": "aqrv8eULHxte",
        "outputId": "12e6f291-7b90-400f-86a3-9c85dbc0907b",
        "colab": {
          "base_uri": "https://localhost:8080/",
          "height": 394
        }
      },
      "source": [
        "seattle.describe()"
      ],
      "execution_count": 83,
      "outputs": [
        {
          "output_type": "execute_result",
          "data": {
            "text/plain": [
              "        building_id           zip  council_district_code   year_built  \\\n",
              "count   3237.000000   3237.000000            3237.000000  3237.000000   \n",
              "mean   21388.686438  98116.974050               4.435897  1968.331480   \n",
              "std    11991.526930     18.683624               2.121025    33.253769   \n",
              "min        1.000000  98006.000000               1.000000  1900.000000   \n",
              "25%    20082.000000  98105.000000               3.000000  1948.000000   \n",
              "50%    23181.000000  98115.000000               4.000000  1974.000000   \n",
              "75%    26007.000000  98122.000000               7.000000  1997.000000   \n",
              "max    50226.000000  98272.000000               7.000000  2015.000000   \n",
              "\n",
              "       num_buildings   num_floors  gross_floor_area_total_SF  \\\n",
              "count    3237.000000  3237.000000               3.237000e+03   \n",
              "mean        1.104109     4.776336               9.379247e+04   \n",
              "std         2.137712     5.554374               2.199404e+05   \n",
              "min         0.000000     0.000000               1.128500e+04   \n",
              "25%         1.000000     2.000000               2.830900e+04   \n",
              "50%         1.000000     4.000000               4.379400e+04   \n",
              "75%         1.000000     5.000000               8.954900e+04   \n",
              "max       111.000000    99.000000               9.320156e+06   \n",
              "\n",
              "       gross_floor_area_parking_SF  gross_floor_area_building_SF  \\\n",
              "count                  3237.000000                  3.237000e+03   \n",
              "mean                   7863.288230                  8.592918e+04   \n",
              "std                   32413.106507                  2.087950e+05   \n",
              "min                       0.000000                  1.128500e+04   \n",
              "25%                       0.000000                  2.758000e+04   \n",
              "50%                       0.000000                  4.290500e+04   \n",
              "75%                       0.000000                  8.311800e+04   \n",
              "max                  512608.000000                  9.320156e+06   \n",
              "\n",
              "       gross_floor_area_property_type_first_SF  ...  total_site_energy_KBTU  \\\n",
              "count                             3.237000e+03  ...            3.237000e+03   \n",
              "mean                              7.802448e+04  ...            4.465401e+06   \n",
              "std                               2.018149e+05  ...            1.809590e+07   \n",
              "min                               5.656000e+03  ...            4.429350e+04   \n",
              "25%                               2.498800e+04  ...            9.197463e+05   \n",
              "50%                               3.952000e+04  ...            1.742351e+06   \n",
              "75%                               7.517400e+04  ...            3.773034e+06   \n",
              "max                               9.320156e+06  ...            8.739237e+08   \n",
              "\n",
              "       weather_norm_total_site_energy_KBTU  steam_use_KBTU  electricity_KWH  \\\n",
              "count                         3.236000e+03    3.237000e+03     3.237000e+03   \n",
              "mean                          4.332963e+06    2.250012e+05     9.252171e+05   \n",
              "std                           9.887960e+06    3.295630e+06     3.880850e+06   \n",
              "min                           0.000000e+00    0.000000e+00    -3.382680e+04   \n",
              "25%                           9.619787e+05    0.000000e+00     1.858312e+05   \n",
              "50%                           1.837465e+06    0.000000e+00     3.322042e+05   \n",
              "75%                           3.977584e+06    0.000000e+00     7.596037e+05   \n",
              "max                           2.959299e+08    1.349435e+08     1.925775e+08   \n",
              "\n",
              "       electricity_KBTU  natural_gas_THERMS  natural_gas_KBTU  \\\n",
              "count      3.233000e+03         3237.000000      3.233000e+03   \n",
              "mean       3.159568e+06        10318.984880      1.033099e+06   \n",
              "std        1.324942e+07        27002.442002      2.701696e+06   \n",
              "min       -1.154170e+05            0.000000      0.000000e+00   \n",
              "25%        6.340560e+05            0.000000      0.000000e+00   \n",
              "50%        1.133481e+06         2948.820068      2.961260e+05   \n",
              "75%        2.591895e+06        10993.830080      1.102497e+06   \n",
              "max        6.570744e+08       679905.375000      6.799054e+07   \n",
              "\n",
              "       total_ghg_emissions_MTCO2e  ghg_intensity_KGCO2e  \\\n",
              "count                 3233.000000           3233.000000   \n",
              "mean                    94.283334              0.979162   \n",
              "std                    366.275248              1.159277   \n",
              "min                     -0.800000             -0.020000   \n",
              "25%                      9.250000              0.210000   \n",
              "50%                     31.790000              0.590000   \n",
              "75%                     83.860000              1.270000   \n",
              "max                  12307.160000             16.910000   \n",
              "\n",
              "       log_total_site_energy_KBTU  \n",
              "count                 3237.000000  \n",
              "mean                    14.515624  \n",
              "std                      1.087077  \n",
              "min                     10.698593  \n",
              "25%                     13.731853  \n",
              "50%                     14.370746  \n",
              "75%                     15.143390  \n",
              "max                     20.588504  \n",
              "\n",
              "[8 rows x 25 columns]"
            ],
            "text/html": [
              "\n",
              "  <div id=\"df-bffbf98d-66c2-4fe5-8111-e8092b1bfd62\">\n",
              "    <div class=\"colab-df-container\">\n",
              "      <div>\n",
              "<style scoped>\n",
              "    .dataframe tbody tr th:only-of-type {\n",
              "        vertical-align: middle;\n",
              "    }\n",
              "\n",
              "    .dataframe tbody tr th {\n",
              "        vertical-align: top;\n",
              "    }\n",
              "\n",
              "    .dataframe thead th {\n",
              "        text-align: right;\n",
              "    }\n",
              "</style>\n",
              "<table border=\"1\" class=\"dataframe\">\n",
              "  <thead>\n",
              "    <tr style=\"text-align: right;\">\n",
              "      <th></th>\n",
              "      <th>building_id</th>\n",
              "      <th>zip</th>\n",
              "      <th>council_district_code</th>\n",
              "      <th>year_built</th>\n",
              "      <th>num_buildings</th>\n",
              "      <th>num_floors</th>\n",
              "      <th>gross_floor_area_total_SF</th>\n",
              "      <th>gross_floor_area_parking_SF</th>\n",
              "      <th>gross_floor_area_building_SF</th>\n",
              "      <th>gross_floor_area_property_type_first_SF</th>\n",
              "      <th>...</th>\n",
              "      <th>total_site_energy_KBTU</th>\n",
              "      <th>weather_norm_total_site_energy_KBTU</th>\n",
              "      <th>steam_use_KBTU</th>\n",
              "      <th>electricity_KWH</th>\n",
              "      <th>electricity_KBTU</th>\n",
              "      <th>natural_gas_THERMS</th>\n",
              "      <th>natural_gas_KBTU</th>\n",
              "      <th>total_ghg_emissions_MTCO2e</th>\n",
              "      <th>ghg_intensity_KGCO2e</th>\n",
              "      <th>log_total_site_energy_KBTU</th>\n",
              "    </tr>\n",
              "  </thead>\n",
              "  <tbody>\n",
              "    <tr>\n",
              "      <th>count</th>\n",
              "      <td>3237.000000</td>\n",
              "      <td>3237.000000</td>\n",
              "      <td>3237.000000</td>\n",
              "      <td>3237.000000</td>\n",
              "      <td>3237.000000</td>\n",
              "      <td>3237.000000</td>\n",
              "      <td>3.237000e+03</td>\n",
              "      <td>3237.000000</td>\n",
              "      <td>3.237000e+03</td>\n",
              "      <td>3.237000e+03</td>\n",
              "      <td>...</td>\n",
              "      <td>3.237000e+03</td>\n",
              "      <td>3.236000e+03</td>\n",
              "      <td>3.237000e+03</td>\n",
              "      <td>3.237000e+03</td>\n",
              "      <td>3.233000e+03</td>\n",
              "      <td>3237.000000</td>\n",
              "      <td>3.233000e+03</td>\n",
              "      <td>3233.000000</td>\n",
              "      <td>3233.000000</td>\n",
              "      <td>3237.000000</td>\n",
              "    </tr>\n",
              "    <tr>\n",
              "      <th>mean</th>\n",
              "      <td>21388.686438</td>\n",
              "      <td>98116.974050</td>\n",
              "      <td>4.435897</td>\n",
              "      <td>1968.331480</td>\n",
              "      <td>1.104109</td>\n",
              "      <td>4.776336</td>\n",
              "      <td>9.379247e+04</td>\n",
              "      <td>7863.288230</td>\n",
              "      <td>8.592918e+04</td>\n",
              "      <td>7.802448e+04</td>\n",
              "      <td>...</td>\n",
              "      <td>4.465401e+06</td>\n",
              "      <td>4.332963e+06</td>\n",
              "      <td>2.250012e+05</td>\n",
              "      <td>9.252171e+05</td>\n",
              "      <td>3.159568e+06</td>\n",
              "      <td>10318.984880</td>\n",
              "      <td>1.033099e+06</td>\n",
              "      <td>94.283334</td>\n",
              "      <td>0.979162</td>\n",
              "      <td>14.515624</td>\n",
              "    </tr>\n",
              "    <tr>\n",
              "      <th>std</th>\n",
              "      <td>11991.526930</td>\n",
              "      <td>18.683624</td>\n",
              "      <td>2.121025</td>\n",
              "      <td>33.253769</td>\n",
              "      <td>2.137712</td>\n",
              "      <td>5.554374</td>\n",
              "      <td>2.199404e+05</td>\n",
              "      <td>32413.106507</td>\n",
              "      <td>2.087950e+05</td>\n",
              "      <td>2.018149e+05</td>\n",
              "      <td>...</td>\n",
              "      <td>1.809590e+07</td>\n",
              "      <td>9.887960e+06</td>\n",
              "      <td>3.295630e+06</td>\n",
              "      <td>3.880850e+06</td>\n",
              "      <td>1.324942e+07</td>\n",
              "      <td>27002.442002</td>\n",
              "      <td>2.701696e+06</td>\n",
              "      <td>366.275248</td>\n",
              "      <td>1.159277</td>\n",
              "      <td>1.087077</td>\n",
              "    </tr>\n",
              "    <tr>\n",
              "      <th>min</th>\n",
              "      <td>1.000000</td>\n",
              "      <td>98006.000000</td>\n",
              "      <td>1.000000</td>\n",
              "      <td>1900.000000</td>\n",
              "      <td>0.000000</td>\n",
              "      <td>0.000000</td>\n",
              "      <td>1.128500e+04</td>\n",
              "      <td>0.000000</td>\n",
              "      <td>1.128500e+04</td>\n",
              "      <td>5.656000e+03</td>\n",
              "      <td>...</td>\n",
              "      <td>4.429350e+04</td>\n",
              "      <td>0.000000e+00</td>\n",
              "      <td>0.000000e+00</td>\n",
              "      <td>-3.382680e+04</td>\n",
              "      <td>-1.154170e+05</td>\n",
              "      <td>0.000000</td>\n",
              "      <td>0.000000e+00</td>\n",
              "      <td>-0.800000</td>\n",
              "      <td>-0.020000</td>\n",
              "      <td>10.698593</td>\n",
              "    </tr>\n",
              "    <tr>\n",
              "      <th>25%</th>\n",
              "      <td>20082.000000</td>\n",
              "      <td>98105.000000</td>\n",
              "      <td>3.000000</td>\n",
              "      <td>1948.000000</td>\n",
              "      <td>1.000000</td>\n",
              "      <td>2.000000</td>\n",
              "      <td>2.830900e+04</td>\n",
              "      <td>0.000000</td>\n",
              "      <td>2.758000e+04</td>\n",
              "      <td>2.498800e+04</td>\n",
              "      <td>...</td>\n",
              "      <td>9.197463e+05</td>\n",
              "      <td>9.619787e+05</td>\n",
              "      <td>0.000000e+00</td>\n",
              "      <td>1.858312e+05</td>\n",
              "      <td>6.340560e+05</td>\n",
              "      <td>0.000000</td>\n",
              "      <td>0.000000e+00</td>\n",
              "      <td>9.250000</td>\n",
              "      <td>0.210000</td>\n",
              "      <td>13.731853</td>\n",
              "    </tr>\n",
              "    <tr>\n",
              "      <th>50%</th>\n",
              "      <td>23181.000000</td>\n",
              "      <td>98115.000000</td>\n",
              "      <td>4.000000</td>\n",
              "      <td>1974.000000</td>\n",
              "      <td>1.000000</td>\n",
              "      <td>4.000000</td>\n",
              "      <td>4.379400e+04</td>\n",
              "      <td>0.000000</td>\n",
              "      <td>4.290500e+04</td>\n",
              "      <td>3.952000e+04</td>\n",
              "      <td>...</td>\n",
              "      <td>1.742351e+06</td>\n",
              "      <td>1.837465e+06</td>\n",
              "      <td>0.000000e+00</td>\n",
              "      <td>3.322042e+05</td>\n",
              "      <td>1.133481e+06</td>\n",
              "      <td>2948.820068</td>\n",
              "      <td>2.961260e+05</td>\n",
              "      <td>31.790000</td>\n",
              "      <td>0.590000</td>\n",
              "      <td>14.370746</td>\n",
              "    </tr>\n",
              "    <tr>\n",
              "      <th>75%</th>\n",
              "      <td>26007.000000</td>\n",
              "      <td>98122.000000</td>\n",
              "      <td>7.000000</td>\n",
              "      <td>1997.000000</td>\n",
              "      <td>1.000000</td>\n",
              "      <td>5.000000</td>\n",
              "      <td>8.954900e+04</td>\n",
              "      <td>0.000000</td>\n",
              "      <td>8.311800e+04</td>\n",
              "      <td>7.517400e+04</td>\n",
              "      <td>...</td>\n",
              "      <td>3.773034e+06</td>\n",
              "      <td>3.977584e+06</td>\n",
              "      <td>0.000000e+00</td>\n",
              "      <td>7.596037e+05</td>\n",
              "      <td>2.591895e+06</td>\n",
              "      <td>10993.830080</td>\n",
              "      <td>1.102497e+06</td>\n",
              "      <td>83.860000</td>\n",
              "      <td>1.270000</td>\n",
              "      <td>15.143390</td>\n",
              "    </tr>\n",
              "    <tr>\n",
              "      <th>max</th>\n",
              "      <td>50226.000000</td>\n",
              "      <td>98272.000000</td>\n",
              "      <td>7.000000</td>\n",
              "      <td>2015.000000</td>\n",
              "      <td>111.000000</td>\n",
              "      <td>99.000000</td>\n",
              "      <td>9.320156e+06</td>\n",
              "      <td>512608.000000</td>\n",
              "      <td>9.320156e+06</td>\n",
              "      <td>9.320156e+06</td>\n",
              "      <td>...</td>\n",
              "      <td>8.739237e+08</td>\n",
              "      <td>2.959299e+08</td>\n",
              "      <td>1.349435e+08</td>\n",
              "      <td>1.925775e+08</td>\n",
              "      <td>6.570744e+08</td>\n",
              "      <td>679905.375000</td>\n",
              "      <td>6.799054e+07</td>\n",
              "      <td>12307.160000</td>\n",
              "      <td>16.910000</td>\n",
              "      <td>20.588504</td>\n",
              "    </tr>\n",
              "  </tbody>\n",
              "</table>\n",
              "<p>8 rows × 25 columns</p>\n",
              "</div>\n",
              "      <button class=\"colab-df-convert\" onclick=\"convertToInteractive('df-bffbf98d-66c2-4fe5-8111-e8092b1bfd62')\"\n",
              "              title=\"Convert this dataframe to an interactive table.\"\n",
              "              style=\"display:none;\">\n",
              "        \n",
              "  <svg xmlns=\"http://www.w3.org/2000/svg\" height=\"24px\"viewBox=\"0 0 24 24\"\n",
              "       width=\"24px\">\n",
              "    <path d=\"M0 0h24v24H0V0z\" fill=\"none\"/>\n",
              "    <path d=\"M18.56 5.44l.94 2.06.94-2.06 2.06-.94-2.06-.94-.94-2.06-.94 2.06-2.06.94zm-11 1L8.5 8.5l.94-2.06 2.06-.94-2.06-.94L8.5 2.5l-.94 2.06-2.06.94zm10 10l.94 2.06.94-2.06 2.06-.94-2.06-.94-.94-2.06-.94 2.06-2.06.94z\"/><path d=\"M17.41 7.96l-1.37-1.37c-.4-.4-.92-.59-1.43-.59-.52 0-1.04.2-1.43.59L10.3 9.45l-7.72 7.72c-.78.78-.78 2.05 0 2.83L4 21.41c.39.39.9.59 1.41.59.51 0 1.02-.2 1.41-.59l7.78-7.78 2.81-2.81c.8-.78.8-2.07 0-2.86zM5.41 20L4 18.59l7.72-7.72 1.47 1.35L5.41 20z\"/>\n",
              "  </svg>\n",
              "      </button>\n",
              "      \n",
              "  <style>\n",
              "    .colab-df-container {\n",
              "      display:flex;\n",
              "      flex-wrap:wrap;\n",
              "      gap: 12px;\n",
              "    }\n",
              "\n",
              "    .colab-df-convert {\n",
              "      background-color: #E8F0FE;\n",
              "      border: none;\n",
              "      border-radius: 50%;\n",
              "      cursor: pointer;\n",
              "      display: none;\n",
              "      fill: #1967D2;\n",
              "      height: 32px;\n",
              "      padding: 0 0 0 0;\n",
              "      width: 32px;\n",
              "    }\n",
              "\n",
              "    .colab-df-convert:hover {\n",
              "      background-color: #E2EBFA;\n",
              "      box-shadow: 0px 1px 2px rgba(60, 64, 67, 0.3), 0px 1px 3px 1px rgba(60, 64, 67, 0.15);\n",
              "      fill: #174EA6;\n",
              "    }\n",
              "\n",
              "    [theme=dark] .colab-df-convert {\n",
              "      background-color: #3B4455;\n",
              "      fill: #D2E3FC;\n",
              "    }\n",
              "\n",
              "    [theme=dark] .colab-df-convert:hover {\n",
              "      background-color: #434B5C;\n",
              "      box-shadow: 0px 1px 3px 1px rgba(0, 0, 0, 0.15);\n",
              "      filter: drop-shadow(0px 1px 2px rgba(0, 0, 0, 0.3));\n",
              "      fill: #FFFFFF;\n",
              "    }\n",
              "  </style>\n",
              "\n",
              "      <script>\n",
              "        const buttonEl =\n",
              "          document.querySelector('#df-bffbf98d-66c2-4fe5-8111-e8092b1bfd62 button.colab-df-convert');\n",
              "        buttonEl.style.display =\n",
              "          google.colab.kernel.accessAllowed ? 'block' : 'none';\n",
              "\n",
              "        async function convertToInteractive(key) {\n",
              "          const element = document.querySelector('#df-bffbf98d-66c2-4fe5-8111-e8092b1bfd62');\n",
              "          const dataTable =\n",
              "            await google.colab.kernel.invokeFunction('convertToInteractive',\n",
              "                                                     [key], {});\n",
              "          if (!dataTable) return;\n",
              "\n",
              "          const docLinkHtml = 'Like what you see? Visit the ' +\n",
              "            '<a target=\"_blank\" href=https://colab.research.google.com/notebooks/data_table.ipynb>data table notebook</a>'\n",
              "            + ' to learn more about interactive tables.';\n",
              "          element.innerHTML = '';\n",
              "          dataTable['output_type'] = 'display_data';\n",
              "          await google.colab.output.renderOutput(dataTable, element);\n",
              "          const docLink = document.createElement('div');\n",
              "          docLink.innerHTML = docLinkHtml;\n",
              "          element.appendChild(docLink);\n",
              "        }\n",
              "      </script>\n",
              "    </div>\n",
              "  </div>\n",
              "  "
            ]
          },
          "metadata": {},
          "execution_count": 83
        }
      ]
    },
    {
      "cell_type": "code",
      "source": [
        "dc.describe()"
      ],
      "metadata": {
        "colab": {
          "base_uri": "https://localhost:8080/",
          "height": 364
        },
        "id": "HdEQB-w8iMN0",
        "outputId": "817733ef-e04d-439b-f91e-0fc18b88ebeb"
      },
      "execution_count": 84,
      "outputs": [
        {
          "output_type": "execute_result",
          "data": {
            "text/plain": [
              "        Unnamed: 0         ward   year_built  tax_record_floor_area  \\\n",
              "count  1455.000000  1455.000000  1455.000000           1.455000e+03   \n",
              "mean    793.997938     3.472852  1940.804811           2.046748e+05   \n",
              "std     469.582655     2.047691   167.230361           2.451302e+05   \n",
              "min       1.000000     1.000000  1000.000000           9.171000e+03   \n",
              "25%     380.500000     2.000000  1947.000000           7.164000e+04   \n",
              "50%     794.000000     2.000000  1971.000000           1.287720e+05   \n",
              "75%    1176.500000     5.000000  1994.000000           2.585310e+05   \n",
              "max    2181.000000     8.000000  2017.000000           3.997572e+06   \n",
              "\n",
              "       reported_gross_floor_area     water_use  electricity_use  \\\n",
              "count               1.455000e+03  1.455000e+03     1.441000e+03   \n",
              "mean                1.897612e+05  5.109905e+04     2.760114e+06   \n",
              "std                 2.436786e+05  6.163321e+05     4.599984e+06   \n",
              "min                 9.171000e+03  0.000000e+00     1.785000e+02   \n",
              "25%                 7.111750e+04  1.958050e+03     7.435930e+05   \n",
              "50%                 1.215530e+05  4.063800e+03     1.612028e+06   \n",
              "75%                 2.372130e+05  7.008700e+03     3.386553e+06   \n",
              "max                 5.634890e+06  1.929391e+07     1.207430e+08   \n",
              "\n",
              "       natural_gas_use  energy_star_score     site_eui  weather_norm_site_eui  \\\n",
              "count     1.054000e+03        1184.000000  1455.000000            1393.000000   \n",
              "mean      5.853217e+04          62.090372    69.960206              70.745154   \n",
              "std       2.617060e+05          26.792483    30.676317              31.476591   \n",
              "min       0.000000e+00           1.000000     1.100000               1.100000   \n",
              "25%       1.121760e+04          43.750000    51.600000              51.900000   \n",
              "50%       2.770698e+04          70.000000    65.900000              66.600000   \n",
              "75%       5.154631e+04          84.000000    82.850000              84.500000   \n",
              "max       7.269109e+06         100.000000   213.600000             215.500000   \n",
              "\n",
              "        source_eui  weather_norm_source_eui  total_ghg_emissions  \\\n",
              "count  1455.000000              1393.000000          1454.000000   \n",
              "mean    171.274433               171.302872          1318.734388   \n",
              "std      76.707287                76.884877          2458.471157   \n",
              "min       1.200000                 1.200000             3.100000   \n",
              "25%     121.850000               121.600000           400.450000   \n",
              "50%     163.300000               163.400000           757.100000   \n",
              "75%     206.450000               207.400000          1534.450000   \n",
              "max     618.600000               620.600000         64992.500000   \n",
              "\n",
              "       total_ghg_emissions_intensity  total_site_energy_KBTU  \\\n",
              "count                    1454.000000            1.455000e+03   \n",
              "mean                        6.674278            1.344870e+07   \n",
              "std                         3.143349            2.843799e+07   \n",
              "min                         0.100000            5.729350e+04   \n",
              "25%                         4.800000            4.513227e+06   \n",
              "50%                         6.300000            8.156027e+06   \n",
              "75%                         7.800000            1.565570e+07   \n",
              "max                        30.600000            7.832497e+08   \n",
              "\n",
              "       log_total_site_energy_KBTU  \n",
              "count                 1455.000000  \n",
              "mean                    15.905810  \n",
              "std                      0.991320  \n",
              "min                     10.955942  \n",
              "25%                     15.322523  \n",
              "50%                     15.914268  \n",
              "75%                     16.566343  \n",
              "max                     20.478962  "
            ],
            "text/html": [
              "\n",
              "  <div id=\"df-170144da-6cb0-42f3-ac75-2b909e03975e\">\n",
              "    <div class=\"colab-df-container\">\n",
              "      <div>\n",
              "<style scoped>\n",
              "    .dataframe tbody tr th:only-of-type {\n",
              "        vertical-align: middle;\n",
              "    }\n",
              "\n",
              "    .dataframe tbody tr th {\n",
              "        vertical-align: top;\n",
              "    }\n",
              "\n",
              "    .dataframe thead th {\n",
              "        text-align: right;\n",
              "    }\n",
              "</style>\n",
              "<table border=\"1\" class=\"dataframe\">\n",
              "  <thead>\n",
              "    <tr style=\"text-align: right;\">\n",
              "      <th></th>\n",
              "      <th>Unnamed: 0</th>\n",
              "      <th>ward</th>\n",
              "      <th>year_built</th>\n",
              "      <th>tax_record_floor_area</th>\n",
              "      <th>reported_gross_floor_area</th>\n",
              "      <th>water_use</th>\n",
              "      <th>electricity_use</th>\n",
              "      <th>natural_gas_use</th>\n",
              "      <th>energy_star_score</th>\n",
              "      <th>site_eui</th>\n",
              "      <th>weather_norm_site_eui</th>\n",
              "      <th>source_eui</th>\n",
              "      <th>weather_norm_source_eui</th>\n",
              "      <th>total_ghg_emissions</th>\n",
              "      <th>total_ghg_emissions_intensity</th>\n",
              "      <th>total_site_energy_KBTU</th>\n",
              "      <th>log_total_site_energy_KBTU</th>\n",
              "    </tr>\n",
              "  </thead>\n",
              "  <tbody>\n",
              "    <tr>\n",
              "      <th>count</th>\n",
              "      <td>1455.000000</td>\n",
              "      <td>1455.000000</td>\n",
              "      <td>1455.000000</td>\n",
              "      <td>1.455000e+03</td>\n",
              "      <td>1.455000e+03</td>\n",
              "      <td>1.455000e+03</td>\n",
              "      <td>1.441000e+03</td>\n",
              "      <td>1.054000e+03</td>\n",
              "      <td>1184.000000</td>\n",
              "      <td>1455.000000</td>\n",
              "      <td>1393.000000</td>\n",
              "      <td>1455.000000</td>\n",
              "      <td>1393.000000</td>\n",
              "      <td>1454.000000</td>\n",
              "      <td>1454.000000</td>\n",
              "      <td>1.455000e+03</td>\n",
              "      <td>1455.000000</td>\n",
              "    </tr>\n",
              "    <tr>\n",
              "      <th>mean</th>\n",
              "      <td>793.997938</td>\n",
              "      <td>3.472852</td>\n",
              "      <td>1940.804811</td>\n",
              "      <td>2.046748e+05</td>\n",
              "      <td>1.897612e+05</td>\n",
              "      <td>5.109905e+04</td>\n",
              "      <td>2.760114e+06</td>\n",
              "      <td>5.853217e+04</td>\n",
              "      <td>62.090372</td>\n",
              "      <td>69.960206</td>\n",
              "      <td>70.745154</td>\n",
              "      <td>171.274433</td>\n",
              "      <td>171.302872</td>\n",
              "      <td>1318.734388</td>\n",
              "      <td>6.674278</td>\n",
              "      <td>1.344870e+07</td>\n",
              "      <td>15.905810</td>\n",
              "    </tr>\n",
              "    <tr>\n",
              "      <th>std</th>\n",
              "      <td>469.582655</td>\n",
              "      <td>2.047691</td>\n",
              "      <td>167.230361</td>\n",
              "      <td>2.451302e+05</td>\n",
              "      <td>2.436786e+05</td>\n",
              "      <td>6.163321e+05</td>\n",
              "      <td>4.599984e+06</td>\n",
              "      <td>2.617060e+05</td>\n",
              "      <td>26.792483</td>\n",
              "      <td>30.676317</td>\n",
              "      <td>31.476591</td>\n",
              "      <td>76.707287</td>\n",
              "      <td>76.884877</td>\n",
              "      <td>2458.471157</td>\n",
              "      <td>3.143349</td>\n",
              "      <td>2.843799e+07</td>\n",
              "      <td>0.991320</td>\n",
              "    </tr>\n",
              "    <tr>\n",
              "      <th>min</th>\n",
              "      <td>1.000000</td>\n",
              "      <td>1.000000</td>\n",
              "      <td>1000.000000</td>\n",
              "      <td>9.171000e+03</td>\n",
              "      <td>9.171000e+03</td>\n",
              "      <td>0.000000e+00</td>\n",
              "      <td>1.785000e+02</td>\n",
              "      <td>0.000000e+00</td>\n",
              "      <td>1.000000</td>\n",
              "      <td>1.100000</td>\n",
              "      <td>1.100000</td>\n",
              "      <td>1.200000</td>\n",
              "      <td>1.200000</td>\n",
              "      <td>3.100000</td>\n",
              "      <td>0.100000</td>\n",
              "      <td>5.729350e+04</td>\n",
              "      <td>10.955942</td>\n",
              "    </tr>\n",
              "    <tr>\n",
              "      <th>25%</th>\n",
              "      <td>380.500000</td>\n",
              "      <td>2.000000</td>\n",
              "      <td>1947.000000</td>\n",
              "      <td>7.164000e+04</td>\n",
              "      <td>7.111750e+04</td>\n",
              "      <td>1.958050e+03</td>\n",
              "      <td>7.435930e+05</td>\n",
              "      <td>1.121760e+04</td>\n",
              "      <td>43.750000</td>\n",
              "      <td>51.600000</td>\n",
              "      <td>51.900000</td>\n",
              "      <td>121.850000</td>\n",
              "      <td>121.600000</td>\n",
              "      <td>400.450000</td>\n",
              "      <td>4.800000</td>\n",
              "      <td>4.513227e+06</td>\n",
              "      <td>15.322523</td>\n",
              "    </tr>\n",
              "    <tr>\n",
              "      <th>50%</th>\n",
              "      <td>794.000000</td>\n",
              "      <td>2.000000</td>\n",
              "      <td>1971.000000</td>\n",
              "      <td>1.287720e+05</td>\n",
              "      <td>1.215530e+05</td>\n",
              "      <td>4.063800e+03</td>\n",
              "      <td>1.612028e+06</td>\n",
              "      <td>2.770698e+04</td>\n",
              "      <td>70.000000</td>\n",
              "      <td>65.900000</td>\n",
              "      <td>66.600000</td>\n",
              "      <td>163.300000</td>\n",
              "      <td>163.400000</td>\n",
              "      <td>757.100000</td>\n",
              "      <td>6.300000</td>\n",
              "      <td>8.156027e+06</td>\n",
              "      <td>15.914268</td>\n",
              "    </tr>\n",
              "    <tr>\n",
              "      <th>75%</th>\n",
              "      <td>1176.500000</td>\n",
              "      <td>5.000000</td>\n",
              "      <td>1994.000000</td>\n",
              "      <td>2.585310e+05</td>\n",
              "      <td>2.372130e+05</td>\n",
              "      <td>7.008700e+03</td>\n",
              "      <td>3.386553e+06</td>\n",
              "      <td>5.154631e+04</td>\n",
              "      <td>84.000000</td>\n",
              "      <td>82.850000</td>\n",
              "      <td>84.500000</td>\n",
              "      <td>206.450000</td>\n",
              "      <td>207.400000</td>\n",
              "      <td>1534.450000</td>\n",
              "      <td>7.800000</td>\n",
              "      <td>1.565570e+07</td>\n",
              "      <td>16.566343</td>\n",
              "    </tr>\n",
              "    <tr>\n",
              "      <th>max</th>\n",
              "      <td>2181.000000</td>\n",
              "      <td>8.000000</td>\n",
              "      <td>2017.000000</td>\n",
              "      <td>3.997572e+06</td>\n",
              "      <td>5.634890e+06</td>\n",
              "      <td>1.929391e+07</td>\n",
              "      <td>1.207430e+08</td>\n",
              "      <td>7.269109e+06</td>\n",
              "      <td>100.000000</td>\n",
              "      <td>213.600000</td>\n",
              "      <td>215.500000</td>\n",
              "      <td>618.600000</td>\n",
              "      <td>620.600000</td>\n",
              "      <td>64992.500000</td>\n",
              "      <td>30.600000</td>\n",
              "      <td>7.832497e+08</td>\n",
              "      <td>20.478962</td>\n",
              "    </tr>\n",
              "  </tbody>\n",
              "</table>\n",
              "</div>\n",
              "      <button class=\"colab-df-convert\" onclick=\"convertToInteractive('df-170144da-6cb0-42f3-ac75-2b909e03975e')\"\n",
              "              title=\"Convert this dataframe to an interactive table.\"\n",
              "              style=\"display:none;\">\n",
              "        \n",
              "  <svg xmlns=\"http://www.w3.org/2000/svg\" height=\"24px\"viewBox=\"0 0 24 24\"\n",
              "       width=\"24px\">\n",
              "    <path d=\"M0 0h24v24H0V0z\" fill=\"none\"/>\n",
              "    <path d=\"M18.56 5.44l.94 2.06.94-2.06 2.06-.94-2.06-.94-.94-2.06-.94 2.06-2.06.94zm-11 1L8.5 8.5l.94-2.06 2.06-.94-2.06-.94L8.5 2.5l-.94 2.06-2.06.94zm10 10l.94 2.06.94-2.06 2.06-.94-2.06-.94-.94-2.06-.94 2.06-2.06.94z\"/><path d=\"M17.41 7.96l-1.37-1.37c-.4-.4-.92-.59-1.43-.59-.52 0-1.04.2-1.43.59L10.3 9.45l-7.72 7.72c-.78.78-.78 2.05 0 2.83L4 21.41c.39.39.9.59 1.41.59.51 0 1.02-.2 1.41-.59l7.78-7.78 2.81-2.81c.8-.78.8-2.07 0-2.86zM5.41 20L4 18.59l7.72-7.72 1.47 1.35L5.41 20z\"/>\n",
              "  </svg>\n",
              "      </button>\n",
              "      \n",
              "  <style>\n",
              "    .colab-df-container {\n",
              "      display:flex;\n",
              "      flex-wrap:wrap;\n",
              "      gap: 12px;\n",
              "    }\n",
              "\n",
              "    .colab-df-convert {\n",
              "      background-color: #E8F0FE;\n",
              "      border: none;\n",
              "      border-radius: 50%;\n",
              "      cursor: pointer;\n",
              "      display: none;\n",
              "      fill: #1967D2;\n",
              "      height: 32px;\n",
              "      padding: 0 0 0 0;\n",
              "      width: 32px;\n",
              "    }\n",
              "\n",
              "    .colab-df-convert:hover {\n",
              "      background-color: #E2EBFA;\n",
              "      box-shadow: 0px 1px 2px rgba(60, 64, 67, 0.3), 0px 1px 3px 1px rgba(60, 64, 67, 0.15);\n",
              "      fill: #174EA6;\n",
              "    }\n",
              "\n",
              "    [theme=dark] .colab-df-convert {\n",
              "      background-color: #3B4455;\n",
              "      fill: #D2E3FC;\n",
              "    }\n",
              "\n",
              "    [theme=dark] .colab-df-convert:hover {\n",
              "      background-color: #434B5C;\n",
              "      box-shadow: 0px 1px 3px 1px rgba(0, 0, 0, 0.15);\n",
              "      filter: drop-shadow(0px 1px 2px rgba(0, 0, 0, 0.3));\n",
              "      fill: #FFFFFF;\n",
              "    }\n",
              "  </style>\n",
              "\n",
              "      <script>\n",
              "        const buttonEl =\n",
              "          document.querySelector('#df-170144da-6cb0-42f3-ac75-2b909e03975e button.colab-df-convert');\n",
              "        buttonEl.style.display =\n",
              "          google.colab.kernel.accessAllowed ? 'block' : 'none';\n",
              "\n",
              "        async function convertToInteractive(key) {\n",
              "          const element = document.querySelector('#df-170144da-6cb0-42f3-ac75-2b909e03975e');\n",
              "          const dataTable =\n",
              "            await google.colab.kernel.invokeFunction('convertToInteractive',\n",
              "                                                     [key], {});\n",
              "          if (!dataTable) return;\n",
              "\n",
              "          const docLinkHtml = 'Like what you see? Visit the ' +\n",
              "            '<a target=\"_blank\" href=https://colab.research.google.com/notebooks/data_table.ipynb>data table notebook</a>'\n",
              "            + ' to learn more about interactive tables.';\n",
              "          element.innerHTML = '';\n",
              "          dataTable['output_type'] = 'display_data';\n",
              "          await google.colab.output.renderOutput(dataTable, element);\n",
              "          const docLink = document.createElement('div');\n",
              "          docLink.innerHTML = docLinkHtml;\n",
              "          element.appendChild(docLink);\n",
              "        }\n",
              "      </script>\n",
              "    </div>\n",
              "  </div>\n",
              "  "
            ]
          },
          "metadata": {},
          "execution_count": 84
        }
      ]
    },
    {
      "cell_type": "code",
      "source": [
        "chicago.describe()"
      ],
      "metadata": {
        "colab": {
          "base_uri": "https://localhost:8080/",
          "height": 364
        },
        "id": "iY_NPei7iPMu",
        "outputId": "59769f8b-011a-4c3c-c8c2-450312a84dd8"
      },
      "execution_count": 85,
      "outputs": [
        {
          "output_type": "execute_result",
          "data": {
            "text/plain": [
              "        Unnamed: 0             ID  Gross.Floor.Area...Buildings..sq.ft.  \\\n",
              "count  2688.000000    2688.000000                          2.688000e+03   \n",
              "mean   1344.500000  184502.570312                          2.448678e+05   \n",
              "std     776.103086   59873.199256                          3.964045e+05   \n",
              "min       1.000000  100001.000000                          5.000000e+04   \n",
              "25%     672.750000  120464.000000                          7.500000e+04   \n",
              "50%    1344.500000  173712.500000                          1.237265e+05   \n",
              "75%    2016.250000  251356.500000                          2.521352e+05   \n",
              "max    2688.000000  260184.000000                          9.245333e+06   \n",
              "\n",
              "        Year.Built  X..of.Buildings  ENERGY.STAR.Score  \\\n",
              "count  2688.000000      2688.000000        2688.000000   \n",
              "mean   1962.942336         1.405878          57.507812   \n",
              "std      36.294735         5.201993          29.352026   \n",
              "min    1872.000000         1.000000           1.000000   \n",
              "25%    1928.000000         1.000000          34.000000   \n",
              "50%    1969.000000         1.000000          62.000000   \n",
              "75%    1997.000000         1.000000          83.000000   \n",
              "max    2016.000000       236.000000         100.000000   \n",
              "\n",
              "       Electricity.Use..kBtu.  Natural.Gas.Use..kBtu.  Site.EUI..kBtu.sq.ft.  \\\n",
              "count            2.688000e+03            2.688000e+03            2688.000000   \n",
              "mean             1.076602e+07            1.172915e+07              94.208408   \n",
              "std              2.495836e+07            2.722341e+07             125.939184   \n",
              "min              5.028900e+03            1.284000e+03               0.200000   \n",
              "25%              1.947257e+06            3.182139e+06              61.800000   \n",
              "50%              4.024877e+06            5.561839e+06              79.400000   \n",
              "75%              9.702889e+06            1.168477e+07             101.050000   \n",
              "max              4.857050e+08            5.493302e+08            5637.700000   \n",
              "\n",
              "       Source.EUI..kBtu.sq.ft.  Weather.Normalized.Site.EUI..kBtu.sq.ft.  \\\n",
              "count              2688.000000                               2658.000000   \n",
              "mean                180.017820                                 99.133296   \n",
              "std                 166.056539                                127.267249   \n",
              "min                   0.200000                                  0.300000   \n",
              "25%                 113.875000                                 65.400000   \n",
              "50%                 148.100000                                 84.400000   \n",
              "75%                 196.575000                                107.275000   \n",
              "max                6001.500000                               5637.700000   \n",
              "\n",
              "       Weather.Normalized.Source.EUI..kBtu.sq.ft.  \\\n",
              "count                                 2658.000000   \n",
              "mean                                   184.965500   \n",
              "std                                    166.420203   \n",
              "min                                      0.300000   \n",
              "25%                                    118.625000   \n",
              "50%                                    154.050000   \n",
              "75%                                    201.575000   \n",
              "max                                   6001.500000   \n",
              "\n",
              "       Total.GHG.Emissions..Metric.Tons.CO2e.  GHG.Intensity..kg.CO2e.sq.ft.  \\\n",
              "count                             2673.000000                    2673.000000   \n",
              "mean                              2630.786495                      10.103629   \n",
              "std                               5794.436792                       9.002384   \n",
              "min                                 32.500000                       0.400000   \n",
              "25%                                602.100000                       6.300000   \n",
              "50%                               1099.500000                       8.300000   \n",
              "75%                               2435.700000                      11.100000   \n",
              "max                             127610.000000                     304.600000   \n",
              "\n",
              "       total_site_energy_KBTU  log_total_site_energy_KBTU  \n",
              "count            2.688000e+03                 2688.000000  \n",
              "mean             2.298315e+07                   16.304023  \n",
              "std              4.971672e+07                    1.015335  \n",
              "min              1.580000e+04                    9.667765  \n",
              "25%              5.838643e+06                   15.580009  \n",
              "50%              1.049675e+07                   16.166576  \n",
              "75%              2.202188e+07                   16.907547  \n",
              "max              1.155374e+09                   20.867690  "
            ],
            "text/html": [
              "\n",
              "  <div id=\"df-cb0b1275-f92d-4b96-a177-5e6c9390fcd2\">\n",
              "    <div class=\"colab-df-container\">\n",
              "      <div>\n",
              "<style scoped>\n",
              "    .dataframe tbody tr th:only-of-type {\n",
              "        vertical-align: middle;\n",
              "    }\n",
              "\n",
              "    .dataframe tbody tr th {\n",
              "        vertical-align: top;\n",
              "    }\n",
              "\n",
              "    .dataframe thead th {\n",
              "        text-align: right;\n",
              "    }\n",
              "</style>\n",
              "<table border=\"1\" class=\"dataframe\">\n",
              "  <thead>\n",
              "    <tr style=\"text-align: right;\">\n",
              "      <th></th>\n",
              "      <th>Unnamed: 0</th>\n",
              "      <th>ID</th>\n",
              "      <th>Gross.Floor.Area...Buildings..sq.ft.</th>\n",
              "      <th>Year.Built</th>\n",
              "      <th>X..of.Buildings</th>\n",
              "      <th>ENERGY.STAR.Score</th>\n",
              "      <th>Electricity.Use..kBtu.</th>\n",
              "      <th>Natural.Gas.Use..kBtu.</th>\n",
              "      <th>Site.EUI..kBtu.sq.ft.</th>\n",
              "      <th>Source.EUI..kBtu.sq.ft.</th>\n",
              "      <th>Weather.Normalized.Site.EUI..kBtu.sq.ft.</th>\n",
              "      <th>Weather.Normalized.Source.EUI..kBtu.sq.ft.</th>\n",
              "      <th>Total.GHG.Emissions..Metric.Tons.CO2e.</th>\n",
              "      <th>GHG.Intensity..kg.CO2e.sq.ft.</th>\n",
              "      <th>total_site_energy_KBTU</th>\n",
              "      <th>log_total_site_energy_KBTU</th>\n",
              "    </tr>\n",
              "  </thead>\n",
              "  <tbody>\n",
              "    <tr>\n",
              "      <th>count</th>\n",
              "      <td>2688.000000</td>\n",
              "      <td>2688.000000</td>\n",
              "      <td>2.688000e+03</td>\n",
              "      <td>2688.000000</td>\n",
              "      <td>2688.000000</td>\n",
              "      <td>2688.000000</td>\n",
              "      <td>2.688000e+03</td>\n",
              "      <td>2.688000e+03</td>\n",
              "      <td>2688.000000</td>\n",
              "      <td>2688.000000</td>\n",
              "      <td>2658.000000</td>\n",
              "      <td>2658.000000</td>\n",
              "      <td>2673.000000</td>\n",
              "      <td>2673.000000</td>\n",
              "      <td>2.688000e+03</td>\n",
              "      <td>2688.000000</td>\n",
              "    </tr>\n",
              "    <tr>\n",
              "      <th>mean</th>\n",
              "      <td>1344.500000</td>\n",
              "      <td>184502.570312</td>\n",
              "      <td>2.448678e+05</td>\n",
              "      <td>1962.942336</td>\n",
              "      <td>1.405878</td>\n",
              "      <td>57.507812</td>\n",
              "      <td>1.076602e+07</td>\n",
              "      <td>1.172915e+07</td>\n",
              "      <td>94.208408</td>\n",
              "      <td>180.017820</td>\n",
              "      <td>99.133296</td>\n",
              "      <td>184.965500</td>\n",
              "      <td>2630.786495</td>\n",
              "      <td>10.103629</td>\n",
              "      <td>2.298315e+07</td>\n",
              "      <td>16.304023</td>\n",
              "    </tr>\n",
              "    <tr>\n",
              "      <th>std</th>\n",
              "      <td>776.103086</td>\n",
              "      <td>59873.199256</td>\n",
              "      <td>3.964045e+05</td>\n",
              "      <td>36.294735</td>\n",
              "      <td>5.201993</td>\n",
              "      <td>29.352026</td>\n",
              "      <td>2.495836e+07</td>\n",
              "      <td>2.722341e+07</td>\n",
              "      <td>125.939184</td>\n",
              "      <td>166.056539</td>\n",
              "      <td>127.267249</td>\n",
              "      <td>166.420203</td>\n",
              "      <td>5794.436792</td>\n",
              "      <td>9.002384</td>\n",
              "      <td>4.971672e+07</td>\n",
              "      <td>1.015335</td>\n",
              "    </tr>\n",
              "    <tr>\n",
              "      <th>min</th>\n",
              "      <td>1.000000</td>\n",
              "      <td>100001.000000</td>\n",
              "      <td>5.000000e+04</td>\n",
              "      <td>1872.000000</td>\n",
              "      <td>1.000000</td>\n",
              "      <td>1.000000</td>\n",
              "      <td>5.028900e+03</td>\n",
              "      <td>1.284000e+03</td>\n",
              "      <td>0.200000</td>\n",
              "      <td>0.200000</td>\n",
              "      <td>0.300000</td>\n",
              "      <td>0.300000</td>\n",
              "      <td>32.500000</td>\n",
              "      <td>0.400000</td>\n",
              "      <td>1.580000e+04</td>\n",
              "      <td>9.667765</td>\n",
              "    </tr>\n",
              "    <tr>\n",
              "      <th>25%</th>\n",
              "      <td>672.750000</td>\n",
              "      <td>120464.000000</td>\n",
              "      <td>7.500000e+04</td>\n",
              "      <td>1928.000000</td>\n",
              "      <td>1.000000</td>\n",
              "      <td>34.000000</td>\n",
              "      <td>1.947257e+06</td>\n",
              "      <td>3.182139e+06</td>\n",
              "      <td>61.800000</td>\n",
              "      <td>113.875000</td>\n",
              "      <td>65.400000</td>\n",
              "      <td>118.625000</td>\n",
              "      <td>602.100000</td>\n",
              "      <td>6.300000</td>\n",
              "      <td>5.838643e+06</td>\n",
              "      <td>15.580009</td>\n",
              "    </tr>\n",
              "    <tr>\n",
              "      <th>50%</th>\n",
              "      <td>1344.500000</td>\n",
              "      <td>173712.500000</td>\n",
              "      <td>1.237265e+05</td>\n",
              "      <td>1969.000000</td>\n",
              "      <td>1.000000</td>\n",
              "      <td>62.000000</td>\n",
              "      <td>4.024877e+06</td>\n",
              "      <td>5.561839e+06</td>\n",
              "      <td>79.400000</td>\n",
              "      <td>148.100000</td>\n",
              "      <td>84.400000</td>\n",
              "      <td>154.050000</td>\n",
              "      <td>1099.500000</td>\n",
              "      <td>8.300000</td>\n",
              "      <td>1.049675e+07</td>\n",
              "      <td>16.166576</td>\n",
              "    </tr>\n",
              "    <tr>\n",
              "      <th>75%</th>\n",
              "      <td>2016.250000</td>\n",
              "      <td>251356.500000</td>\n",
              "      <td>2.521352e+05</td>\n",
              "      <td>1997.000000</td>\n",
              "      <td>1.000000</td>\n",
              "      <td>83.000000</td>\n",
              "      <td>9.702889e+06</td>\n",
              "      <td>1.168477e+07</td>\n",
              "      <td>101.050000</td>\n",
              "      <td>196.575000</td>\n",
              "      <td>107.275000</td>\n",
              "      <td>201.575000</td>\n",
              "      <td>2435.700000</td>\n",
              "      <td>11.100000</td>\n",
              "      <td>2.202188e+07</td>\n",
              "      <td>16.907547</td>\n",
              "    </tr>\n",
              "    <tr>\n",
              "      <th>max</th>\n",
              "      <td>2688.000000</td>\n",
              "      <td>260184.000000</td>\n",
              "      <td>9.245333e+06</td>\n",
              "      <td>2016.000000</td>\n",
              "      <td>236.000000</td>\n",
              "      <td>100.000000</td>\n",
              "      <td>4.857050e+08</td>\n",
              "      <td>5.493302e+08</td>\n",
              "      <td>5637.700000</td>\n",
              "      <td>6001.500000</td>\n",
              "      <td>5637.700000</td>\n",
              "      <td>6001.500000</td>\n",
              "      <td>127610.000000</td>\n",
              "      <td>304.600000</td>\n",
              "      <td>1.155374e+09</td>\n",
              "      <td>20.867690</td>\n",
              "    </tr>\n",
              "  </tbody>\n",
              "</table>\n",
              "</div>\n",
              "      <button class=\"colab-df-convert\" onclick=\"convertToInteractive('df-cb0b1275-f92d-4b96-a177-5e6c9390fcd2')\"\n",
              "              title=\"Convert this dataframe to an interactive table.\"\n",
              "              style=\"display:none;\">\n",
              "        \n",
              "  <svg xmlns=\"http://www.w3.org/2000/svg\" height=\"24px\"viewBox=\"0 0 24 24\"\n",
              "       width=\"24px\">\n",
              "    <path d=\"M0 0h24v24H0V0z\" fill=\"none\"/>\n",
              "    <path d=\"M18.56 5.44l.94 2.06.94-2.06 2.06-.94-2.06-.94-.94-2.06-.94 2.06-2.06.94zm-11 1L8.5 8.5l.94-2.06 2.06-.94-2.06-.94L8.5 2.5l-.94 2.06-2.06.94zm10 10l.94 2.06.94-2.06 2.06-.94-2.06-.94-.94-2.06-.94 2.06-2.06.94z\"/><path d=\"M17.41 7.96l-1.37-1.37c-.4-.4-.92-.59-1.43-.59-.52 0-1.04.2-1.43.59L10.3 9.45l-7.72 7.72c-.78.78-.78 2.05 0 2.83L4 21.41c.39.39.9.59 1.41.59.51 0 1.02-.2 1.41-.59l7.78-7.78 2.81-2.81c.8-.78.8-2.07 0-2.86zM5.41 20L4 18.59l7.72-7.72 1.47 1.35L5.41 20z\"/>\n",
              "  </svg>\n",
              "      </button>\n",
              "      \n",
              "  <style>\n",
              "    .colab-df-container {\n",
              "      display:flex;\n",
              "      flex-wrap:wrap;\n",
              "      gap: 12px;\n",
              "    }\n",
              "\n",
              "    .colab-df-convert {\n",
              "      background-color: #E8F0FE;\n",
              "      border: none;\n",
              "      border-radius: 50%;\n",
              "      cursor: pointer;\n",
              "      display: none;\n",
              "      fill: #1967D2;\n",
              "      height: 32px;\n",
              "      padding: 0 0 0 0;\n",
              "      width: 32px;\n",
              "    }\n",
              "\n",
              "    .colab-df-convert:hover {\n",
              "      background-color: #E2EBFA;\n",
              "      box-shadow: 0px 1px 2px rgba(60, 64, 67, 0.3), 0px 1px 3px 1px rgba(60, 64, 67, 0.15);\n",
              "      fill: #174EA6;\n",
              "    }\n",
              "\n",
              "    [theme=dark] .colab-df-convert {\n",
              "      background-color: #3B4455;\n",
              "      fill: #D2E3FC;\n",
              "    }\n",
              "\n",
              "    [theme=dark] .colab-df-convert:hover {\n",
              "      background-color: #434B5C;\n",
              "      box-shadow: 0px 1px 3px 1px rgba(0, 0, 0, 0.15);\n",
              "      filter: drop-shadow(0px 1px 2px rgba(0, 0, 0, 0.3));\n",
              "      fill: #FFFFFF;\n",
              "    }\n",
              "  </style>\n",
              "\n",
              "      <script>\n",
              "        const buttonEl =\n",
              "          document.querySelector('#df-cb0b1275-f92d-4b96-a177-5e6c9390fcd2 button.colab-df-convert');\n",
              "        buttonEl.style.display =\n",
              "          google.colab.kernel.accessAllowed ? 'block' : 'none';\n",
              "\n",
              "        async function convertToInteractive(key) {\n",
              "          const element = document.querySelector('#df-cb0b1275-f92d-4b96-a177-5e6c9390fcd2');\n",
              "          const dataTable =\n",
              "            await google.colab.kernel.invokeFunction('convertToInteractive',\n",
              "                                                     [key], {});\n",
              "          if (!dataTable) return;\n",
              "\n",
              "          const docLinkHtml = 'Like what you see? Visit the ' +\n",
              "            '<a target=\"_blank\" href=https://colab.research.google.com/notebooks/data_table.ipynb>data table notebook</a>'\n",
              "            + ' to learn more about interactive tables.';\n",
              "          element.innerHTML = '';\n",
              "          dataTable['output_type'] = 'display_data';\n",
              "          await google.colab.output.renderOutput(dataTable, element);\n",
              "          const docLink = document.createElement('div');\n",
              "          docLink.innerHTML = docLinkHtml;\n",
              "          element.appendChild(docLink);\n",
              "        }\n",
              "      </script>\n",
              "    </div>\n",
              "  </div>\n",
              "  "
            ]
          },
          "metadata": {},
          "execution_count": 85
        }
      ]
    },
    {
      "cell_type": "markdown",
      "metadata": {
        "id": "t2N6DSrXXx5z"
      },
      "source": [
        "# TASK 1 Clean the data \n",
        "follow closely the second paragraph of Section 4 DATA. Name each step you do accordingly to the description in the paragraf\n",
        "https://www.researchgate.net/publication/337074109_Examining_the_feasibility_of_using_open_data_to_benchmark_building_energy_usage_in_cities_A_data_science_and_policy_perspective \n",
        "\n",
        "you can also help yourself inspecting the final datasets posted on the github repo but name each action according to the paper narrative: for example, if you drop \"Building ID\" indicate that this is done as part of \n",
        "_We then cleaned the datasets by removing irrelevant building-identifying features (such as\n",
        "address)_, or if dropping a variable with too many missing values _removing features that had missing values for greater than 40% of the buildings in the dataset._"
      ]
    },
    {
      "cell_type": "code",
      "metadata": {
        "id": "k15rP8aaNXO7"
      },
      "source": [
        "# Seattle\n",
        "# summarize the number of rows with missing values for each column\n",
        "for c in seattle.columns:  \n",
        "  # count number of rows with missing values\n",
        "  n_miss = seattle[c].isnull().sum()\n",
        "  perc = n_miss / seattle.shape[0] * 100\n",
        "  print('%s (%s):  Missing: %d (%.1f%%)' % (c, seattle[c].dtype, \n",
        "                                                  n_miss, perc))  \n",
        "print(\"\\n\")  \n",
        "# DC\n",
        "for c in dc.columns:  \n",
        "  n_miss = dc[c].isnull().sum()\n",
        "  perc = n_miss / dc.shape[0] * 100\n",
        "  print('%s (%s):  Missing: %d (%.1f%%)' % (c, dc[c].dtype, \n",
        "                                                  n_miss, perc))\n",
        "print(\"\\n\")  \n",
        "# chicago\n",
        "for c in chicago.columns:  \n",
        "  n_miss = chicago[c].isnull().sum()\n",
        "  perc = n_miss / chicago.shape[0] * 100\n",
        "  print('%s (%s):  Missing: %d (%.1f%%)' % (c, chicago[c].dtype, \n",
        "                                                  n_miss, perc))"
      ],
      "execution_count": null,
      "outputs": []
    },
    {
      "cell_type": "code",
      "source": [
        "for c in seattle.columns:\n",
        "  # count number of rows with missing values\n",
        "  n_miss = seattle[c].isnull().sum()\n",
        "  perc = n_miss / seattle.shape[0] * 100\n",
        "  if perc > 40:\n",
        "    seattle.drop(c, axis=1, inplace=True)\n",
        "print(\"there are (rows, columns) = \", (seattle.shape), \"in the dataframe\")\n",
        "\n",
        "seattle = seattle[['log_total_site_energy_KBTU',\"building_type\",\n",
        "                   \"property_type_primary\",\"zip\",\"council_district_code\",\n",
        "                   \"neighborhood\",\"year_built\",\"num_buildings\",\"num_floors\",\n",
        "                   \"gross_floor_area_total_SF\",\"gross_floor_area_parking_SF\",\n",
        "                   \"gross_floor_area_building_SF\",\"property_type_first\",\n",
        "                   \"gross_floor_area_property_type_first_SF\"]]"
      ],
      "metadata": {
        "colab": {
          "base_uri": "https://localhost:8080/"
        },
        "id": "i2zPHoniCAkW",
        "outputId": "611437a9-7723-4e1c-e7f9-809531132a40"
      },
      "execution_count": 87,
      "outputs": [
        {
          "output_type": "stream",
          "name": "stdout",
          "text": [
            "there are (rows, columns) =  (3237, 30) in the dataframe\n"
          ]
        }
      ]
    },
    {
      "cell_type": "code",
      "source": [
        "'''\n",
        "import pandas as pd\n",
        "\n",
        "dc = pd.read_csv(\"https://github.com/Urban-Informatics-Lab/Open-Data-Benchmarking/raw/master/DC/DC_final.csv\")\n",
        "\n",
        "columns = [\"report_status\",\"ward\",\"postal_code\",\"year_built\",\"primary_ptype_self\",\"primary_ptype_epa\",\"tax_record_floor_area\",\"reported_gross_floor_area\",\"water_use\",\"metered_areas_energy\",\"metered_areas_water\"]\n",
        "dc[columns]\n",
        "y_DC=DC['log_total_site_energy_KBTU']\n",
        "\n",
        "\n",
        "chicago_features=c(\"num_buildings\",\"year_built\",\"property_type_primary_epa\",\"floor_area_total_SF\",\"h2o_use_allsources_KGAL\",\"SALE_PR\",\"SALE_TY\",\"MV\",\"TX_LND\",\"TX_BLDG\",\"XMPT_LND\",\"XMPT_BLDG\",\"CAT_CD\",\"ZONE\",\"FRT\",\"DPT\",\"TOT_AREA\",\"TOP\",\"GRG_TYP\",\"GRG_SP\",\"OFF_ST\",\"VIEW_\",\"STORIES\",\"EXT_COND\",\"NO_RM\",\"NO_BD\",\"NO_BATH\",\"BASMT_SQFT\",\"FIRE\",\"INT_COND\",\"TOT_LIV_AREA\")\n",
        "chicago_outputs=c(\"electricity_use_KBTU\",\"energy_star_score\",\"site_eui_KBTUSF\",\"source_eui_KBTUSF\",\"total_ghg_emissions_MTCO2e\",\"total_site_energy_KBTU\",\"log_total_site_energy_KBTU\")\n",
        "#split into features and outputs\n",
        "'''"
      ],
      "metadata": {
        "colab": {
          "base_uri": "https://localhost:8080/",
          "height": 122
        },
        "id": "GeJ4U-4yoFhh",
        "outputId": "ef507c17-35bd-4096-a2e7-67c499a6b5f6"
      },
      "execution_count": 88,
      "outputs": [
        {
          "output_type": "execute_result",
          "data": {
            "text/plain": [
              "'\\nimport pandas as pd\\n\\ndc = pd.read_csv(\"https://github.com/Urban-Informatics-Lab/Open-Data-Benchmarking/raw/master/DC/DC_final.csv\")\\n\\ncolumns = [\"report_status\",\"ward\",\"postal_code\",\"year_built\",\"primary_ptype_self\",\"primary_ptype_epa\",\"tax_record_floor_area\",\"reported_gross_floor_area\",\"water_use\",\"metered_areas_energy\",\"metered_areas_water\"]\\ndc[columns]\\ny_DC=DC[\\'log_total_site_energy_KBTU\\']\\n\\n\\nchicago_features=c(\"num_buildings\",\"year_built\",\"property_type_primary_epa\",\"floor_area_total_SF\",\"h2o_use_allsources_KGAL\",\"SALE_PR\",\"SALE_TY\",\"MV\",\"TX_LND\",\"TX_BLDG\",\"XMPT_LND\",\"XMPT_BLDG\",\"CAT_CD\",\"ZONE\",\"FRT\",\"DPT\",\"TOT_AREA\",\"TOP\",\"GRG_TYP\",\"GRG_SP\",\"OFF_ST\",\"VIEW_\",\"STORIES\",\"EXT_COND\",\"NO_RM\",\"NO_BD\",\"NO_BATH\",\"BASMT_SQFT\",\"FIRE\",\"INT_COND\",\"TOT_LIV_AREA\")\\nchicago_outputs=c(\"electricity_use_KBTU\",\"energy_star_score\",\"site_eui_KBTUSF\",\"source_eui_KBTUSF\",\"total_ghg_emissions_MTCO2e\",\"total_site_energy_KBTU\",\"log_total_site_energy_KBTU\")\\n#split into features and outputs\\n'"
            ],
            "application/vnd.google.colaboratory.intrinsic+json": {
              "type": "string"
            }
          },
          "metadata": {},
          "execution_count": 88
        }
      ]
    },
    {
      "cell_type": "code",
      "source": [
        "for c in dc.columns:\n",
        "  # count number of rows with missing values\n",
        "  n_miss = dc[c].isnull().sum()\n",
        "  perc = n_miss / dc.shape[0] * 100\n",
        "  if perc > 40:\n",
        "    dc.drop(c, axis=1, inplace=True)\n",
        "# add anything else you want to do \n",
        "# our decisions and codes may differe here so if your results is not exactly like mine that is ok\n",
        "# replace ... with your code\n",
        "# dropping unnecessary identification columns\n",
        "dc = dc[[\"report_status\",\"ward\",\"postal_code\",\"year_built\",\"primary_ptype_self\",\n",
        "          \"primary_ptype_epa\",\"tax_record_floor_area\",\"reported_gross_floor_area\",\n",
        "          \"water_use\",\"metered_areas_energy\",\"metered_areas_water\", 'log_total_site_energy_KBTU']]\n",
        "print(\"DC: there are (rows, columns) = \", (dc.shape), \"in the dataframe\")\n",
        "\n",
        "for c in chicago.columns:\n",
        "  n_miss = chicago[c].isnull().sum()\n",
        "  perc = n_miss / chicago.shape[0] * 100\n",
        "  if perc > 40:\n",
        "    chicago.drop(c, axis=1, inplace=True)\n",
        "chicago = chicago[[\"Primary.Property.Type\",\"Gross.Floor.Area...Buildings..sq.ft.\",\n",
        "                   \"Year.Built\", \"X..of.Buildings\",'log_total_site_energy_KBTU']]\n",
        "print(\"Chicago: there are (rows, columns) = \", (chicago.shape), \"in the dataframe\")\n"
      ],
      "metadata": {
        "colab": {
          "base_uri": "https://localhost:8080/"
        },
        "id": "W9XqE-7-sVoi",
        "outputId": "9e6d8027-466e-4137-9286-1f4f4a1ee175"
      },
      "execution_count": 89,
      "outputs": [
        {
          "output_type": "stream",
          "name": "stdout",
          "text": [
            "DC: there are (rows, columns) =  (1455, 12) in the dataframe\n",
            "Chicago: there are (rows, columns) =  (2688, 5) in the dataframe\n"
          ]
        }
      ]
    },
    {
      "cell_type": "markdown",
      "metadata": {
        "id": "XVD2IKLsZI2x"
      },
      "source": [
        "# TASK 2: transform input feature as needed\n",
        "for example replace features with log features. Guide yourself with the text, the final dataset names, and also the code here https://github.com/Urban-Informatics-Lab/Open-Data-Benchmarking/blob/master/Lasso_RandomForest.Rmd"
      ]
    },
    {
      "cell_type": "code",
      "source": [
        "for c in seattle.columns:\n",
        "  \n",
        "  # count number of rows with missing values\n",
        "  n_miss = seattle[c].isnull().sum()\n",
        "  perc = n_miss / seattle.shape[0] * 100\n",
        "  print('%s (%s):  Missing: %d (%.1f%%)' % (c, seattle[c].dtype, \n",
        "                                                  n_miss, perc))\n",
        "  \n",
        "for c in dc.columns:\n",
        "  \n",
        "  # count number of rows with missing values\n",
        "  n_miss = dc[c].isnull().sum()\n",
        "  perc = n_miss / dc.shape[0] * 100\n",
        "  print('%s (%s):  Missing: %d (%.1f%%)' % (c, dc[c].dtype, \n",
        "                                                  n_miss, perc))\n",
        "  \n",
        "for c in chicago.columns:\n",
        "  \n",
        "  # count number of rows with missing values\n",
        "  n_miss = chicago[c].isnull().sum()\n",
        "  perc = n_miss / chicago.shape[0] * 100\n",
        "  print('%s (%s):  Missing: %d (%.1f%%)' % (c, chicago[c].dtype, \n",
        "                                                  n_miss, perc))\n",
        "  "
      ],
      "metadata": {
        "colab": {
          "base_uri": "https://localhost:8080/"
        },
        "id": "SPWnfbcJC9v0",
        "outputId": "7236d01c-249c-4cf8-e45d-02e2716d8c11"
      },
      "execution_count": 90,
      "outputs": [
        {
          "output_type": "stream",
          "name": "stdout",
          "text": [
            "log_total_site_energy_KBTU (float64):  Missing: 0 (0.0%)\n",
            "building_type (object):  Missing: 0 (0.0%)\n",
            "property_type_primary (object):  Missing: 0 (0.0%)\n",
            "zip (int64):  Missing: 0 (0.0%)\n",
            "council_district_code (int64):  Missing: 0 (0.0%)\n",
            "neighborhood (object):  Missing: 0 (0.0%)\n",
            "year_built (int64):  Missing: 0 (0.0%)\n",
            "num_buildings (int64):  Missing: 0 (0.0%)\n",
            "num_floors (int64):  Missing: 0 (0.0%)\n",
            "gross_floor_area_total_SF (float64):  Missing: 0 (0.0%)\n",
            "gross_floor_area_parking_SF (int64):  Missing: 0 (0.0%)\n",
            "gross_floor_area_building_SF (float64):  Missing: 0 (0.0%)\n",
            "property_type_first (object):  Missing: 15 (0.5%)\n",
            "gross_floor_area_property_type_first_SF (float64):  Missing: 0 (0.0%)\n",
            "report_status (object):  Missing: 0 (0.0%)\n",
            "ward (int64):  Missing: 0 (0.0%)\n",
            "postal_code (object):  Missing: 0 (0.0%)\n",
            "year_built (int64):  Missing: 0 (0.0%)\n",
            "primary_ptype_self (object):  Missing: 0 (0.0%)\n",
            "primary_ptype_epa (object):  Missing: 0 (0.0%)\n",
            "tax_record_floor_area (float64):  Missing: 0 (0.0%)\n",
            "reported_gross_floor_area (float64):  Missing: 0 (0.0%)\n",
            "water_use (float64):  Missing: 0 (0.0%)\n",
            "metered_areas_energy (object):  Missing: 0 (0.0%)\n",
            "metered_areas_water (object):  Missing: 0 (0.0%)\n",
            "log_total_site_energy_KBTU (float64):  Missing: 0 (0.0%)\n",
            "Primary.Property.Type (object):  Missing: 0 (0.0%)\n",
            "Gross.Floor.Area...Buildings..sq.ft. (float64):  Missing: 0 (0.0%)\n",
            "Year.Built (int64):  Missing: 0 (0.0%)\n",
            "X..of.Buildings (int64):  Missing: 0 (0.0%)\n",
            "log_total_site_energy_KBTU (float64):  Missing: 0 (0.0%)\n"
          ]
        }
      ]
    },
    {
      "cell_type": "code",
      "metadata": {
        "id": "SWyHLyhCLYIm",
        "colab": {
          "base_uri": "https://localhost:8080/"
        },
        "outputId": "de3d3b62-18fd-4150-ec0c-7045d8c888ef"
      },
      "source": [
        "print(seattle.describe()) #what shoudl you look at in the result below?\n",
        "print(dc.describe())\n",
        "print(chicago.describe())\n",
        "#the overall description of the dataset"
      ],
      "execution_count": 91,
      "outputs": [
        {
          "output_type": "stream",
          "name": "stdout",
          "text": [
            "       log_total_site_energy_KBTU           zip  council_district_code  \\\n",
            "count                 3237.000000   3237.000000            3237.000000   \n",
            "mean                    14.515624  98116.974050               4.435897   \n",
            "std                      1.087077     18.683624               2.121025   \n",
            "min                     10.698593  98006.000000               1.000000   \n",
            "25%                     13.731853  98105.000000               3.000000   \n",
            "50%                     14.370746  98115.000000               4.000000   \n",
            "75%                     15.143390  98122.000000               7.000000   \n",
            "max                     20.588504  98272.000000               7.000000   \n",
            "\n",
            "        year_built  num_buildings   num_floors  gross_floor_area_total_SF  \\\n",
            "count  3237.000000    3237.000000  3237.000000               3.237000e+03   \n",
            "mean   1968.331480       1.104109     4.776336               9.379247e+04   \n",
            "std      33.253769       2.137712     5.554374               2.199404e+05   \n",
            "min    1900.000000       0.000000     0.000000               1.128500e+04   \n",
            "25%    1948.000000       1.000000     2.000000               2.830900e+04   \n",
            "50%    1974.000000       1.000000     4.000000               4.379400e+04   \n",
            "75%    1997.000000       1.000000     5.000000               8.954900e+04   \n",
            "max    2015.000000     111.000000    99.000000               9.320156e+06   \n",
            "\n",
            "       gross_floor_area_parking_SF  gross_floor_area_building_SF  \\\n",
            "count                  3237.000000                  3.237000e+03   \n",
            "mean                   7863.288230                  8.592918e+04   \n",
            "std                   32413.106507                  2.087950e+05   \n",
            "min                       0.000000                  1.128500e+04   \n",
            "25%                       0.000000                  2.758000e+04   \n",
            "50%                       0.000000                  4.290500e+04   \n",
            "75%                       0.000000                  8.311800e+04   \n",
            "max                  512608.000000                  9.320156e+06   \n",
            "\n",
            "       gross_floor_area_property_type_first_SF  \n",
            "count                             3.237000e+03  \n",
            "mean                              7.802448e+04  \n",
            "std                               2.018149e+05  \n",
            "min                               5.656000e+03  \n",
            "25%                               2.498800e+04  \n",
            "50%                               3.952000e+04  \n",
            "75%                               7.517400e+04  \n",
            "max                               9.320156e+06  \n",
            "              ward   year_built  tax_record_floor_area  \\\n",
            "count  1455.000000  1455.000000           1.455000e+03   \n",
            "mean      3.472852  1940.804811           2.046748e+05   \n",
            "std       2.047691   167.230361           2.451302e+05   \n",
            "min       1.000000  1000.000000           9.171000e+03   \n",
            "25%       2.000000  1947.000000           7.164000e+04   \n",
            "50%       2.000000  1971.000000           1.287720e+05   \n",
            "75%       5.000000  1994.000000           2.585310e+05   \n",
            "max       8.000000  2017.000000           3.997572e+06   \n",
            "\n",
            "       reported_gross_floor_area     water_use  log_total_site_energy_KBTU  \n",
            "count               1.455000e+03  1.455000e+03                 1455.000000  \n",
            "mean                1.897612e+05  5.109905e+04                   15.905810  \n",
            "std                 2.436786e+05  6.163321e+05                    0.991320  \n",
            "min                 9.171000e+03  0.000000e+00                   10.955942  \n",
            "25%                 7.111750e+04  1.958050e+03                   15.322523  \n",
            "50%                 1.215530e+05  4.063800e+03                   15.914268  \n",
            "75%                 2.372130e+05  7.008700e+03                   16.566343  \n",
            "max                 5.634890e+06  1.929391e+07                   20.478962  \n",
            "       Gross.Floor.Area...Buildings..sq.ft.   Year.Built  X..of.Buildings  \\\n",
            "count                          2.688000e+03  2688.000000      2688.000000   \n",
            "mean                           2.448678e+05  1962.942336         1.405878   \n",
            "std                            3.964045e+05    36.294735         5.201993   \n",
            "min                            5.000000e+04  1872.000000         1.000000   \n",
            "25%                            7.500000e+04  1928.000000         1.000000   \n",
            "50%                            1.237265e+05  1969.000000         1.000000   \n",
            "75%                            2.521352e+05  1997.000000         1.000000   \n",
            "max                            9.245333e+06  2016.000000       236.000000   \n",
            "\n",
            "       log_total_site_energy_KBTU  \n",
            "count                 2688.000000  \n",
            "mean                    16.304023  \n",
            "std                      1.015335  \n",
            "min                      9.667765  \n",
            "25%                     15.580009  \n",
            "50%                     16.166576  \n",
            "75%                     16.907547  \n",
            "max                     20.867690  \n"
          ]
        }
      ]
    },
    {
      "cell_type": "code",
      "source": [
        "seattle.info() #why is this helpful to print?\n",
        "# data type of each feature"
      ],
      "metadata": {
        "id": "qFWWCuN755gc",
        "colab": {
          "base_uri": "https://localhost:8080/"
        },
        "outputId": "676de33b-284f-4293-aa35-2dfb0a9732eb"
      },
      "execution_count": 92,
      "outputs": [
        {
          "output_type": "stream",
          "name": "stdout",
          "text": [
            "<class 'pandas.core.frame.DataFrame'>\n",
            "RangeIndex: 3237 entries, 0 to 3236\n",
            "Data columns (total 14 columns):\n",
            " #   Column                                   Non-Null Count  Dtype  \n",
            "---  ------                                   --------------  -----  \n",
            " 0   log_total_site_energy_KBTU               3237 non-null   float64\n",
            " 1   building_type                            3237 non-null   object \n",
            " 2   property_type_primary                    3237 non-null   object \n",
            " 3   zip                                      3237 non-null   int64  \n",
            " 4   council_district_code                    3237 non-null   int64  \n",
            " 5   neighborhood                             3237 non-null   object \n",
            " 6   year_built                               3237 non-null   int64  \n",
            " 7   num_buildings                            3237 non-null   int64  \n",
            " 8   num_floors                               3237 non-null   int64  \n",
            " 9   gross_floor_area_total_SF                3237 non-null   float64\n",
            " 10  gross_floor_area_parking_SF              3237 non-null   int64  \n",
            " 11  gross_floor_area_building_SF             3237 non-null   float64\n",
            " 12  property_type_first                      3222 non-null   object \n",
            " 13  gross_floor_area_property_type_first_SF  3237 non-null   float64\n",
            "dtypes: float64(4), int64(6), object(4)\n",
            "memory usage: 354.2+ KB\n"
          ]
        }
      ]
    },
    {
      "cell_type": "code",
      "source": [
        "dc.info() "
      ],
      "metadata": {
        "colab": {
          "base_uri": "https://localhost:8080/"
        },
        "id": "wGV_Ac8-9PUY",
        "outputId": "727938be-13fa-458b-9ba1-f3576d6aee4d"
      },
      "execution_count": 93,
      "outputs": [
        {
          "output_type": "stream",
          "name": "stdout",
          "text": [
            "<class 'pandas.core.frame.DataFrame'>\n",
            "RangeIndex: 1455 entries, 0 to 1454\n",
            "Data columns (total 12 columns):\n",
            " #   Column                      Non-Null Count  Dtype  \n",
            "---  ------                      --------------  -----  \n",
            " 0   report_status               1455 non-null   object \n",
            " 1   ward                        1455 non-null   int64  \n",
            " 2   postal_code                 1455 non-null   object \n",
            " 3   year_built                  1455 non-null   int64  \n",
            " 4   primary_ptype_self          1455 non-null   object \n",
            " 5   primary_ptype_epa           1455 non-null   object \n",
            " 6   tax_record_floor_area       1455 non-null   float64\n",
            " 7   reported_gross_floor_area   1455 non-null   float64\n",
            " 8   water_use                   1455 non-null   float64\n",
            " 9   metered_areas_energy        1455 non-null   object \n",
            " 10  metered_areas_water         1455 non-null   object \n",
            " 11  log_total_site_energy_KBTU  1455 non-null   float64\n",
            "dtypes: float64(4), int64(2), object(6)\n",
            "memory usage: 136.5+ KB\n"
          ]
        }
      ]
    },
    {
      "cell_type": "code",
      "source": [
        "chicago.info()"
      ],
      "metadata": {
        "colab": {
          "base_uri": "https://localhost:8080/"
        },
        "id": "MPfDhEta9PLA",
        "outputId": "1337f23f-dbb8-4f9a-db8c-a29192f26b36"
      },
      "execution_count": 94,
      "outputs": [
        {
          "output_type": "stream",
          "name": "stdout",
          "text": [
            "<class 'pandas.core.frame.DataFrame'>\n",
            "RangeIndex: 2688 entries, 0 to 2687\n",
            "Data columns (total 5 columns):\n",
            " #   Column                                Non-Null Count  Dtype  \n",
            "---  ------                                --------------  -----  \n",
            " 0   Primary.Property.Type                 2688 non-null   object \n",
            " 1   Gross.Floor.Area...Buildings..sq.ft.  2688 non-null   float64\n",
            " 2   Year.Built                            2688 non-null   int64  \n",
            " 3   X..of.Buildings                       2688 non-null   int64  \n",
            " 4   log_total_site_energy_KBTU            2688 non-null   float64\n",
            "dtypes: float64(2), int64(2), object(1)\n",
            "memory usage: 105.1+ KB\n"
          ]
        }
      ]
    },
    {
      "cell_type": "markdown",
      "source": [
        "## Throw away data where the **target** variable is missing\n",
        "\n",
        "I will remove each row where I do not have the target variable. To do that I use `df.dropna()` and the subset argument of `df.dropna()` set to the name of the variable. The `how` should be set to \"any\" cause you want to drop the row where any values in the subset is NaN (this is a subset of one column, so it is obvious, but imagine if you were passing more than one column to the call `dropna()`"
      ],
      "metadata": {
        "id": "LjzW2m2I-dvq"
      }
    },
    {
      "cell_type": "code",
      "source": [
        "seattle[\"log_total_site_energy_KBTU\"].isna().sum()"
      ],
      "metadata": {
        "id": "aDMtT0kq_rUx",
        "colab": {
          "base_uri": "https://localhost:8080/"
        },
        "outputId": "c4e650e1-9e04-4963-ab56-0fb3d6bf4343"
      },
      "execution_count": 96,
      "outputs": [
        {
          "output_type": "execute_result",
          "data": {
            "text/plain": [
              "0"
            ]
          },
          "metadata": {},
          "execution_count": 96
        }
      ]
    },
    {
      "cell_type": "code",
      "source": [
        "dc[\"log_total_site_energy_KBTU\"].isna().sum()"
      ],
      "metadata": {
        "colab": {
          "base_uri": "https://localhost:8080/"
        },
        "id": "jG9y1F0-_ZkK",
        "outputId": "78d7a54a-2f57-4b7d-f7b9-8a3a83706751"
      },
      "execution_count": 97,
      "outputs": [
        {
          "output_type": "execute_result",
          "data": {
            "text/plain": [
              "0"
            ]
          },
          "metadata": {},
          "execution_count": 97
        }
      ]
    },
    {
      "cell_type": "code",
      "source": [
        "chicago['log_total_site_energy_KBTU'].isna().sum()"
      ],
      "metadata": {
        "colab": {
          "base_uri": "https://localhost:8080/"
        },
        "id": "uhekeeeh_icZ",
        "outputId": "bffe0c63-9bef-4398-cc89-7e824a29d05d"
      },
      "execution_count": 98,
      "outputs": [
        {
          "output_type": "execute_result",
          "data": {
            "text/plain": [
              "0"
            ]
          },
          "metadata": {},
          "execution_count": 98
        }
      ]
    },
    {
      "cell_type": "code",
      "source": [
        "original_len = seattle.shape[0]\n",
        "seattle.dropna(subset=['log_total_site_energy_KBTU'], inplace = True) #... # replace ... with your code\n",
        "\n",
        "print(\"I lost {:.2f}% of seattle data\".format((1 - (seattle.shape[0] / original_len)) * 100))\n",
        "\n",
        "original_len = dc.shape[0]\n",
        "dc.dropna(subset=['log_total_site_energy_KBTU'], inplace = True) #... # replace ... with your code\n",
        "\n",
        "print(\"I lost {:.2f}% of dc data\".format((1 - (dc.shape[0] / original_len)) * 100))\n",
        "\n",
        "original_len = chicago.shape[0]\n",
        "chicago.dropna(subset=['log_total_site_energy_KBTU'], inplace = True) #... # replace ... with your code\n",
        "\n",
        "print(\"I lost {:.2f}% of chicago data\".format((1 - (chicago.shape[0] / original_len)) * 100))\n"
      ],
      "metadata": {
        "colab": {
          "base_uri": "https://localhost:8080/"
        },
        "id": "MQC0OsUq-i0Q",
        "outputId": "79782b80-051b-42fe-f410-1daf6eebd698"
      },
      "execution_count": 100,
      "outputs": [
        {
          "output_type": "stream",
          "name": "stdout",
          "text": [
            "I lost 0.00% of seattle data\n",
            "I lost 0.00% of dc data\n",
            "I lost 0.00% of chicago data\n"
          ]
        }
      ]
    },
    {
      "cell_type": "code",
      "metadata": {
        "id": "7uQG7QcFPJUA"
      },
      "source": [
        "# isolate the target variable first (endogenous)\n",
        "y_seattle = seattle['log_total_site_energy_KBTU'].values\n",
        "y_dc = dc['log_total_site_energy_KBTU'].values\n",
        "y_chicago = chicago['log_total_site_energy_KBTU'].values\n",
        "\n",
        "# and the input variables (exogenous)\n",
        "X_seattle = seattle.drop('log_total_site_energy_KBTU', axis=1)\n",
        "X_dc = dc.drop('log_total_site_energy_KBTU', axis=1)\n",
        "X_chicago = chicago.drop('log_total_site_energy_KBTU', axis=1)\n",
        "\n"
      ],
      "execution_count": 102,
      "outputs": []
    },
    {
      "cell_type": "markdown",
      "metadata": {
        "id": "iNbDz-98ZvkM"
      },
      "source": [
        "### separate categorical and numerical values\n",
        "you will proceed to missing data imputation differently in the 2 cases"
      ]
    },
    {
      "cell_type": "code",
      "source": [
        "# I am giving you the solution but please take note of how one does this!\n",
        "X_seattle_numeric_data = X_seattle.select_dtypes(include=[np.number])\n",
        "X_seattle_categorical_data = X_seattle.select_dtypes(exclude=[np.number])\n",
        "X_dc_numeric_data = X_dc.select_dtypes(include=[np.number])\n",
        "X_dc_categorical_data = X_dc.select_dtypes(exclude=[np.number])\n",
        "X_chicago_numeric_data = X_chicago.select_dtypes(include=[np.number])\n",
        "X_chicago_categorical_data = X_chicago.select_dtypes(exclude=[np.number])"
      ],
      "metadata": {
        "id": "-XpDBDTI-gE_"
      },
      "execution_count": 103,
      "outputs": []
    },
    {
      "cell_type": "code",
      "source": [
        "X_seattle_numeric_data.shape"
      ],
      "metadata": {
        "id": "fTjcQ4Id_IWB",
        "colab": {
          "base_uri": "https://localhost:8080/"
        },
        "outputId": "349cd619-f6b6-434c-8970-b17ff2b4c99d"
      },
      "execution_count": 104,
      "outputs": [
        {
          "output_type": "execute_result",
          "data": {
            "text/plain": [
              "(3237, 9)"
            ]
          },
          "metadata": {},
          "execution_count": 104
        }
      ]
    },
    {
      "cell_type": "code",
      "source": [
        "X_dc_numeric_data.shape"
      ],
      "metadata": {
        "colab": {
          "base_uri": "https://localhost:8080/"
        },
        "id": "FIriUMe3MjaG",
        "outputId": "71df7af9-b71f-4611-d9df-a639750b6cec"
      },
      "execution_count": 105,
      "outputs": [
        {
          "output_type": "execute_result",
          "data": {
            "text/plain": [
              "(1455, 5)"
            ]
          },
          "metadata": {},
          "execution_count": 105
        }
      ]
    },
    {
      "cell_type": "code",
      "source": [
        "X_chicago_numeric_data.shape"
      ],
      "metadata": {
        "colab": {
          "base_uri": "https://localhost:8080/"
        },
        "id": "YW3hJn-QMi9K",
        "outputId": "63124e75-836c-48c1-85db-fee299d37a70"
      },
      "execution_count": 106,
      "outputs": [
        {
          "output_type": "execute_result",
          "data": {
            "text/plain": [
              "(2688, 3)"
            ]
          },
          "metadata": {},
          "execution_count": 106
        }
      ]
    },
    {
      "cell_type": "code",
      "source": [
        "X_seattle_numeric_data.head() ## is there anything suspicious? anything thas is in fact **not** a numerical variable? that will depend on how you did in TASK 1"
      ],
      "metadata": {
        "id": "_3qPUKno_aXS"
      },
      "execution_count": null,
      "outputs": []
    },
    {
      "cell_type": "code",
      "source": [
        "X_dc_numeric_data.head()"
      ],
      "metadata": {
        "id": "e1VA07A3MkgL"
      },
      "execution_count": null,
      "outputs": []
    },
    {
      "cell_type": "code",
      "source": [
        "X_chicago_numeric_data.head()"
      ],
      "metadata": {
        "id": "oCDHwDu_MkLk"
      },
      "execution_count": null,
      "outputs": []
    },
    {
      "cell_type": "code",
      "source": [
        "X_seattle_categorical_data.shape"
      ],
      "metadata": {
        "id": "4T_3UDYv_Nft",
        "colab": {
          "base_uri": "https://localhost:8080/"
        },
        "outputId": "a04e9251-e7a0-44b9-a3b9-0216323e7ced"
      },
      "execution_count": 110,
      "outputs": [
        {
          "output_type": "execute_result",
          "data": {
            "text/plain": [
              "(3237, 4)"
            ]
          },
          "metadata": {},
          "execution_count": 110
        }
      ]
    },
    {
      "cell_type": "code",
      "source": [
        "X_dc_categorical_data.shape"
      ],
      "metadata": {
        "colab": {
          "base_uri": "https://localhost:8080/"
        },
        "id": "MddHN_AvMldm",
        "outputId": "db67f114-34f3-4bad-dd00-fb67a9bdfd83"
      },
      "execution_count": 111,
      "outputs": [
        {
          "output_type": "execute_result",
          "data": {
            "text/plain": [
              "(1455, 6)"
            ]
          },
          "metadata": {},
          "execution_count": 111
        }
      ]
    },
    {
      "cell_type": "code",
      "source": [
        "X_chicago_categorical_data.shape"
      ],
      "metadata": {
        "colab": {
          "base_uri": "https://localhost:8080/"
        },
        "id": "xwNANi_kMlVf",
        "outputId": "4159d9c1-c5c0-4700-fe97-05a429489944"
      },
      "execution_count": 112,
      "outputs": [
        {
          "output_type": "execute_result",
          "data": {
            "text/plain": [
              "(2688, 1)"
            ]
          },
          "metadata": {},
          "execution_count": 112
        }
      ]
    },
    {
      "cell_type": "markdown",
      "source": [
        "## TASK 2.1: make a scatter plot to assess covariance of numerical variables"
      ],
      "metadata": {
        "id": "l5MLHK6N8Ywm"
      }
    },
    {
      "cell_type": "markdown",
      "source": [
        "### IMPORTANT!! \n",
        "\n",
        "there are going to be some **very** collinear variable - zoom in and chek them out - what are they? You will need to remove variables that are _identical_, because you obviously do not want to imput the data twice in the model - it will not improve the model and it will impact the feature importance analysis.\n",
        "\n",
        "What else looks like it should be removed? \n",
        "\n",
        "**Reason about it and explain your choices in the caption of the figure**\n",
        "\n"
      ],
      "metadata": {
        "id": "ZtXoL_JgF04s"
      }
    },
    {
      "cell_type": "code",
      "source": [
        "# THIS TAKES A LOOOONG TIME! ~10 MINUTES ON COLAB FOR ME\n",
        "import seaborn as sns\n",
        "sns.pairplot(X_seattle_numeric_data)\n",
        "# DELETE OUTPUT!"
      ],
      "metadata": {
        "id": "zsWGebVX80OQ",
        "colab": {
          "base_uri": "https://localhost:8080/",
          "height": 1000
        },
        "outputId": "dd7c4a80-49e0-4179-b34b-ead3722b9a46"
      },
      "execution_count": 115,
      "outputs": [
        {
          "output_type": "execute_result",
          "data": {
            "text/plain": [
              "<seaborn.axisgrid.PairGrid at 0x7fc6bd72eb50>"
            ]
          },
          "metadata": {},
          "execution_count": 115
        },
        {
          "output_type": "display_data",
          "data": {
            "text/plain": [
              "<Figure size 1620x1620 with 90 Axes>"
            ],
            "image/png": "[encoded data removed]"
          },
          "metadata": {
            "needs_background": "light"
          }
        }
      ]
    },
    {
      "cell_type": "code",
      "source": [
        "X_seattle_numeric_data.head()"
      ],
      "metadata": {
        "colab": {
          "base_uri": "https://localhost:8080/",
          "height": 270
        },
        "id": "OxeNOnAFWTJb",
        "outputId": "8b7054be-7d7a-42d7-cb76-b10f3c2ae8c9"
      },
      "execution_count": 113,
      "outputs": [
        {
          "output_type": "execute_result",
          "data": {
            "text/plain": [
              "     zip  council_district_code  year_built  num_buildings  num_floors  \\\n",
              "0  98101                      7        1927              1          12   \n",
              "1  98101                      7        1996              1          11   \n",
              "2  98101                      7        1969              1          41   \n",
              "3  98101                      7        1926              1          10   \n",
              "4  98121                      7        1980              1          18   \n",
              "\n",
              "   gross_floor_area_total_SF  gross_floor_area_parking_SF  \\\n",
              "0                    88434.0                            0   \n",
              "1                   103566.0                        15064   \n",
              "2                   956110.0                       196718   \n",
              "3                    61320.0                            0   \n",
              "4                   175580.0                        62000   \n",
              "\n",
              "   gross_floor_area_building_SF  gross_floor_area_property_type_first_SF  \n",
              "0                       88434.0                                  88434.0  \n",
              "1                       88502.0                                  83880.0  \n",
              "2                      759392.0                                 756493.0  \n",
              "3                       61320.0                                  61320.0  \n",
              "4                      113580.0                                 123445.0  "
            ],
            "text/html": [
              "\n",
              "  <div id=\"df-d0653260-04f0-4498-b818-9116274b6483\">\n",
              "    <div class=\"colab-df-container\">\n",
              "      <div>\n",
              "<style scoped>\n",
              "    .dataframe tbody tr th:only-of-type {\n",
              "        vertical-align: middle;\n",
              "    }\n",
              "\n",
              "    .dataframe tbody tr th {\n",
              "        vertical-align: top;\n",
              "    }\n",
              "\n",
              "    .dataframe thead th {\n",
              "        text-align: right;\n",
              "    }\n",
              "</style>\n",
              "<table border=\"1\" class=\"dataframe\">\n",
              "  <thead>\n",
              "    <tr style=\"text-align: right;\">\n",
              "      <th></th>\n",
              "      <th>zip</th>\n",
              "      <th>council_district_code</th>\n",
              "      <th>year_built</th>\n",
              "      <th>num_buildings</th>\n",
              "      <th>num_floors</th>\n",
              "      <th>gross_floor_area_total_SF</th>\n",
              "      <th>gross_floor_area_parking_SF</th>\n",
              "      <th>gross_floor_area_building_SF</th>\n",
              "      <th>gross_floor_area_property_type_first_SF</th>\n",
              "    </tr>\n",
              "  </thead>\n",
              "  <tbody>\n",
              "    <tr>\n",
              "      <th>0</th>\n",
              "      <td>98101</td>\n",
              "      <td>7</td>\n",
              "      <td>1927</td>\n",
              "      <td>1</td>\n",
              "      <td>12</td>\n",
              "      <td>88434.0</td>\n",
              "      <td>0</td>\n",
              "      <td>88434.0</td>\n",
              "      <td>88434.0</td>\n",
              "    </tr>\n",
              "    <tr>\n",
              "      <th>1</th>\n",
              "      <td>98101</td>\n",
              "      <td>7</td>\n",
              "      <td>1996</td>\n",
              "      <td>1</td>\n",
              "      <td>11</td>\n",
              "      <td>103566.0</td>\n",
              "      <td>15064</td>\n",
              "      <td>88502.0</td>\n",
              "      <td>83880.0</td>\n",
              "    </tr>\n",
              "    <tr>\n",
              "      <th>2</th>\n",
              "      <td>98101</td>\n",
              "      <td>7</td>\n",
              "      <td>1969</td>\n",
              "      <td>1</td>\n",
              "      <td>41</td>\n",
              "      <td>956110.0</td>\n",
              "      <td>196718</td>\n",
              "      <td>759392.0</td>\n",
              "      <td>756493.0</td>\n",
              "    </tr>\n",
              "    <tr>\n",
              "      <th>3</th>\n",
              "      <td>98101</td>\n",
              "      <td>7</td>\n",
              "      <td>1926</td>\n",
              "      <td>1</td>\n",
              "      <td>10</td>\n",
              "      <td>61320.0</td>\n",
              "      <td>0</td>\n",
              "      <td>61320.0</td>\n",
              "      <td>61320.0</td>\n",
              "    </tr>\n",
              "    <tr>\n",
              "      <th>4</th>\n",
              "      <td>98121</td>\n",
              "      <td>7</td>\n",
              "      <td>1980</td>\n",
              "      <td>1</td>\n",
              "      <td>18</td>\n",
              "      <td>175580.0</td>\n",
              "      <td>62000</td>\n",
              "      <td>113580.0</td>\n",
              "      <td>123445.0</td>\n",
              "    </tr>\n",
              "  </tbody>\n",
              "</table>\n",
              "</div>\n",
              "      <button class=\"colab-df-convert\" onclick=\"convertToInteractive('df-d0653260-04f0-4498-b818-9116274b6483')\"\n",
              "              title=\"Convert this dataframe to an interactive table.\"\n",
              "              style=\"display:none;\">\n",
              "        \n",
              "  <svg xmlns=\"http://www.w3.org/2000/svg\" height=\"24px\"viewBox=\"0 0 24 24\"\n",
              "       width=\"24px\">\n",
              "    <path d=\"M0 0h24v24H0V0z\" fill=\"none\"/>\n",
              "    <path d=\"M18.56 5.44l.94 2.06.94-2.06 2.06-.94-2.06-.94-.94-2.06-.94 2.06-2.06.94zm-11 1L8.5 8.5l.94-2.06 2.06-.94-2.06-.94L8.5 2.5l-.94 2.06-2.06.94zm10 10l.94 2.06.94-2.06 2.06-.94-2.06-.94-.94-2.06-.94 2.06-2.06.94z\"/><path d=\"M17.41 7.96l-1.37-1.37c-.4-.4-.92-.59-1.43-.59-.52 0-1.04.2-1.43.59L10.3 9.45l-7.72 7.72c-.78.78-.78 2.05 0 2.83L4 21.41c.39.39.9.59 1.41.59.51 0 1.02-.2 1.41-.59l7.78-7.78 2.81-2.81c.8-.78.8-2.07 0-2.86zM5.41 20L4 18.59l7.72-7.72 1.47 1.35L5.41 20z\"/>\n",
              "  </svg>\n",
              "      </button>\n",
              "      \n",
              "  <style>\n",
              "    .colab-df-container {\n",
              "      display:flex;\n",
              "      flex-wrap:wrap;\n",
              "      gap: 12px;\n",
              "    }\n",
              "\n",
              "    .colab-df-convert {\n",
              "      background-color: #E8F0FE;\n",
              "      border: none;\n",
              "      border-radius: 50%;\n",
              "      cursor: pointer;\n",
              "      display: none;\n",
              "      fill: #1967D2;\n",
              "      height: 32px;\n",
              "      padding: 0 0 0 0;\n",
              "      width: 32px;\n",
              "    }\n",
              "\n",
              "    .colab-df-convert:hover {\n",
              "      background-color: #E2EBFA;\n",
              "      box-shadow: 0px 1px 2px rgba(60, 64, 67, 0.3), 0px 1px 3px 1px rgba(60, 64, 67, 0.15);\n",
              "      fill: #174EA6;\n",
              "    }\n",
              "\n",
              "    [theme=dark] .colab-df-convert {\n",
              "      background-color: #3B4455;\n",
              "      fill: #D2E3FC;\n",
              "    }\n",
              "\n",
              "    [theme=dark] .colab-df-convert:hover {\n",
              "      background-color: #434B5C;\n",
              "      box-shadow: 0px 1px 3px 1px rgba(0, 0, 0, 0.15);\n",
              "      filter: drop-shadow(0px 1px 2px rgba(0, 0, 0, 0.3));\n",
              "      fill: #FFFFFF;\n",
              "    }\n",
              "  </style>\n",
              "\n",
              "      <script>\n",
              "        const buttonEl =\n",
              "          document.querySelector('#df-d0653260-04f0-4498-b818-9116274b6483 button.colab-df-convert');\n",
              "        buttonEl.style.display =\n",
              "          google.colab.kernel.accessAllowed ? 'block' : 'none';\n",
              "\n",
              "        async function convertToInteractive(key) {\n",
              "          const element = document.querySelector('#df-d0653260-04f0-4498-b818-9116274b6483');\n",
              "          const dataTable =\n",
              "            await google.colab.kernel.invokeFunction('convertToInteractive',\n",
              "                                                     [key], {});\n",
              "          if (!dataTable) return;\n",
              "\n",
              "          const docLinkHtml = 'Like what you see? Visit the ' +\n",
              "            '<a target=\"_blank\" href=https://colab.research.google.com/notebooks/data_table.ipynb>data table notebook</a>'\n",
              "            + ' to learn more about interactive tables.';\n",
              "          element.innerHTML = '';\n",
              "          dataTable['output_type'] = 'display_data';\n",
              "          await google.colab.output.renderOutput(dataTable, element);\n",
              "          const docLink = document.createElement('div');\n",
              "          docLink.innerHTML = docLinkHtml;\n",
              "          element.appendChild(docLink);\n",
              "        }\n",
              "      </script>\n",
              "    </div>\n",
              "  </div>\n",
              "  "
            ]
          },
          "metadata": {},
          "execution_count": 113
        }
      ]
    },
    {
      "cell_type": "code",
      "source": [
        "# which rows should you drop?\n",
        "#X_seattle_numeric_data.drop([\"Latitude\",\t\"Longitude\"], axis = 1)\n",
        "#Everything is already droped"
      ],
      "metadata": {
        "id": "zH6H4PV1GeqB"
      },
      "execution_count": null,
      "outputs": []
    },
    {
      "cell_type": "code",
      "source": [
        "X_seattle_numeric_data.describe()"
      ],
      "metadata": {
        "id": "oCLGV84IICwN"
      },
      "execution_count": null,
      "outputs": []
    },
    {
      "cell_type": "code",
      "source": [
        "# this does not have to be identical to my output as you may have dropped different variables\n",
        "print(\"there are (rows, columns) = \", X_seattle_numeric_data.shape, \"in the numerical variables\")"
      ],
      "metadata": {
        "colab": {
          "base_uri": "https://localhost:8080/"
        },
        "id": "cbChlcXUG2rI",
        "outputId": "1aa2f7b2-635e-476c-a2c7-55ce7f01dd7d"
      },
      "execution_count": 117,
      "outputs": [
        {
          "output_type": "stream",
          "name": "stdout",
          "text": [
            "there are (rows, columns) =  (3237, 9) in the numerical variables\n"
          ]
        }
      ]
    },
    {
      "cell_type": "markdown",
      "source": [
        "As they do in the original research https://github.com/Urban-Informatics-Lab/Open-Data-Benchmarking/blob/master/Lasso_RandomForest.Rmd we should transform some variables into their log values \n",
        "\n",
        "their original code (which is in R not in python!) is\n",
        "```\n",
        "x_seattle$log_total_area=log(x_seattle$gross_floor_area_total_SF)\n",
        "x_seattle$log_parking_area=log(x_seattle$gross_floor_area_parking_SF)\n",
        "x_seattle$log_bldg_area=log(x_seattle$gross_floor_area_building_SF)\n",
        "x_seattle$log_area_1=log(x_seattle$gross_floor_area_property_type_first_SF)\n",
        "\n",
        "```\n",
        "the names are a bit different\n"
      ],
      "metadata": {
        "id": "hVYsiqOK8SJp"
      }
    },
    {
      "cell_type": "code",
      "source": [
        "# note: recheck missing values \n",
        "# this is important: after I apply the log function to some variables cause log(0) = -infinity\n",
        "print(\"there are {} missing or infinity values in the numerical data\".format(X_seattle_numeric_data.isnull().sum().sum()))"
      ],
      "metadata": {
        "colab": {
          "base_uri": "https://localhost:8080/"
        },
        "id": "_1Zul4fDAiip",
        "outputId": "67dfab11-5b09-469e-f2f7-030134fd4570"
      },
      "execution_count": 118,
      "outputs": [
        {
          "output_type": "stream",
          "name": "stdout",
          "text": [
            "there are 0 missing or infinity values in the numerical data\n"
          ]
        }
      ]
    },
    {
      "cell_type": "code",
      "source": [
        "# translated to python\n",
        "#X_seattle_numeric_data[\"PropertyGFATotal\"] = np.log10(X_seattle_numeric_data[\"PropertyGFATotal\"])\n",
        "\n",
        "\n",
        "X_seattle_numeric_data[\"log_total_area\"] = np.log10(X_seattle_numeric_data[\"gross_floor_area_total_SF\"])\n",
        "X_seattle_numeric_data[\"log_parking_area\"] = np.log10(X_seattle_numeric_data[\"gross_floor_area_parking_SF\"])\n",
        "X_seattle_numeric_data[\"log_bldg_area\"] = np.log10(X_seattle_numeric_data[\"gross_floor_area_building_SF\"])\n",
        "X_seattle_numeric_data[\"log_area_1\"] = np.log10(X_seattle_numeric_data[\"gross_floor_area_property_type_first_SF\"])\n"
      ],
      "metadata": {
        "id": "ctHl1vEQAG8Z",
        "colab": {
          "base_uri": "https://localhost:8080/"
        },
        "outputId": "3e6c64cf-52c3-4178-cda7-3ca2682dec6c"
      },
      "execution_count": 120,
      "outputs": [
        {
          "output_type": "stream",
          "name": "stderr",
          "text": [
            "/usr/local/lib/python3.7/dist-packages/ipykernel_launcher.py:5: SettingWithCopyWarning: \n",
            "A value is trying to be set on a copy of a slice from a DataFrame.\n",
            "Try using .loc[row_indexer,col_indexer] = value instead\n",
            "\n",
            "See the caveats in the documentation: https://pandas.pydata.org/pandas-docs/stable/user_guide/indexing.html#returning-a-view-versus-a-copy\n",
            "  \"\"\"\n",
            "/usr/local/lib/python3.7/dist-packages/pandas/core/arraylike.py:364: RuntimeWarning: divide by zero encountered in log10\n",
            "  result = getattr(ufunc, method)(*inputs, **kwargs)\n",
            "/usr/local/lib/python3.7/dist-packages/ipykernel_launcher.py:6: SettingWithCopyWarning: \n",
            "A value is trying to be set on a copy of a slice from a DataFrame.\n",
            "Try using .loc[row_indexer,col_indexer] = value instead\n",
            "\n",
            "See the caveats in the documentation: https://pandas.pydata.org/pandas-docs/stable/user_guide/indexing.html#returning-a-view-versus-a-copy\n",
            "  \n",
            "/usr/local/lib/python3.7/dist-packages/ipykernel_launcher.py:7: SettingWithCopyWarning: \n",
            "A value is trying to be set on a copy of a slice from a DataFrame.\n",
            "Try using .loc[row_indexer,col_indexer] = value instead\n",
            "\n",
            "See the caveats in the documentation: https://pandas.pydata.org/pandas-docs/stable/user_guide/indexing.html#returning-a-view-versus-a-copy\n",
            "  import sys\n"
          ]
        }
      ]
    },
    {
      "cell_type": "code",
      "source": [
        "print(\"number of infinite values:\", (np.isinf(X_seattle_numeric_data)).sum().sum())"
      ],
      "metadata": {
        "id": "RkNEiGU5vzxz",
        "colab": {
          "base_uri": "https://localhost:8080/"
        },
        "outputId": "c55f2b94-2139-4e23-fb15-ff6f7dfd81cb"
      },
      "execution_count": 122,
      "outputs": [
        {
          "output_type": "stream",
          "name": "stdout",
          "text": [
            "number of infinite values: 2763\n"
          ]
        }
      ]
    },
    {
      "cell_type": "markdown",
      "metadata": {
        "id": "Da-93SxbMFCX"
      },
      "source": [
        "check what happened to missing values: they may have grown! because  log(0) = -infinity - fix infinities replacing them with NaN \n",
        "\n",
        "(in in https://github.com/Urban-Informatics-Lab/Open-Data-Benchmarking/blob/master/Lasso_RandomForest.Rmd they had replaced them with 0 but I object to that)"
      ]
    },
    {
      "cell_type": "code",
      "source": [
        "# this has to return 0 now\n",
        "X_numeric_data.replace(-np.inf, np.nan, inplace=True)\n",
        "print(\"number of infinite values:\", (np.isinf(X_numeric_data)).sum().sum())"
      ],
      "metadata": {
        "colab": {
          "base_uri": "https://localhost:8080/",
          "height": 200
        },
        "id": "qRz_WdUVutWc",
        "outputId": "c2d69270-2879-4cd2-b9c9-a51188f38fd1"
      },
      "execution_count": 123,
      "outputs": [
        {
          "output_type": "error",
          "ename": "NameError",
          "evalue": "ignored",
          "traceback": [
            "\u001b[0;31m---------------------------------------------------------------------------\u001b[0m",
            "\u001b[0;31mNameError\u001b[0m                                 Traceback (most recent call last)",
            "\u001b[0;32m<ipython-input-123-3b5a6de1a0f0>\u001b[0m in \u001b[0;36m<module>\u001b[0;34m\u001b[0m\n\u001b[1;32m      1\u001b[0m \u001b[0;31m# this has to return 0 now\u001b[0m\u001b[0;34m\u001b[0m\u001b[0;34m\u001b[0m\u001b[0;34m\u001b[0m\u001b[0m\n\u001b[0;32m----> 2\u001b[0;31m \u001b[0mX_numeric_data\u001b[0m\u001b[0;34m.\u001b[0m\u001b[0mreplace\u001b[0m\u001b[0;34m(\u001b[0m\u001b[0;34m-\u001b[0m\u001b[0mnp\u001b[0m\u001b[0;34m.\u001b[0m\u001b[0minf\u001b[0m\u001b[0;34m,\u001b[0m \u001b[0mnp\u001b[0m\u001b[0;34m.\u001b[0m\u001b[0mnan\u001b[0m\u001b[0;34m,\u001b[0m \u001b[0minplace\u001b[0m\u001b[0;34m=\u001b[0m\u001b[0;32mTrue\u001b[0m\u001b[0;34m)\u001b[0m\u001b[0;34m\u001b[0m\u001b[0;34m\u001b[0m\u001b[0m\n\u001b[0m\u001b[1;32m      3\u001b[0m \u001b[0mprint\u001b[0m\u001b[0;34m(\u001b[0m\u001b[0;34m\"number of infinite values:\"\u001b[0m\u001b[0;34m,\u001b[0m \u001b[0;34m(\u001b[0m\u001b[0mnp\u001b[0m\u001b[0;34m.\u001b[0m\u001b[0misinf\u001b[0m\u001b[0;34m(\u001b[0m\u001b[0mX_numeric_data\u001b[0m\u001b[0;34m)\u001b[0m\u001b[0;34m)\u001b[0m\u001b[0;34m.\u001b[0m\u001b[0msum\u001b[0m\u001b[0;34m(\u001b[0m\u001b[0;34m)\u001b[0m\u001b[0;34m.\u001b[0m\u001b[0msum\u001b[0m\u001b[0;34m(\u001b[0m\u001b[0;34m)\u001b[0m\u001b[0;34m)\u001b[0m\u001b[0;34m\u001b[0m\u001b[0;34m\u001b[0m\u001b[0m\n",
            "\u001b[0;31mNameError\u001b[0m: name 'X_numeric_data' is not defined"
          ]
        }
      ]
    },
    {
      "cell_type": "code",
      "source": [
        "print(\"the numerical data contains (rows, columns) = \", X_numeric_data.shape)\n",
        "print(\"there are {} missing values in the numerical data\".format(X_numeric_data.isnull().sum().sum()))"
      ],
      "metadata": {
        "id": "hBYQpTJrBZK4"
      },
      "execution_count": null,
      "outputs": []
    },
    {
      "cell_type": "markdown",
      "source": [
        "\n",
        "you can use `KNNImputer` on the numerical variables, but KNNImputer would fail on categorical variables so you are left with NaNs on categorical variables, which you then need to drop before you run the Random Forest\n",
        "\n",
        "\n",
        "You can impute separately the numerical and categorical variables, the numerical ones with KNNImputer and the categorical ones with SimpleImputer"
      ],
      "metadata": {
        "id": "QbpwzPij5A8z"
      }
    },
    {
      "cell_type": "markdown",
      "metadata": {
        "id": "dfQnS9eVZ7A4"
      },
      "source": [
        "## TASK 2.2 use Nearest Neighbor Imputer to impute missing values in numerical features\n",
        "\n",
        "here we are deviating from the paper. NN imputation is simpler and more common, I think it may be more useful to you in general"
      ]
    },
    {
      "cell_type": "code",
      "metadata": {
        "id": "gNLiSt1fOCz4"
      },
      "source": [
        "from sklearn.impute import KNNImputer\n",
        "\n",
        "imputer = KNNImputer(... #replace ... with your code\n",
        "Xn = ...\n",
        "Xn"
      ],
      "execution_count": null,
      "outputs": []
    },
    {
      "cell_type": "markdown",
      "metadata": {
        "id": "mW5GNpU0aFIO"
      },
      "source": [
        "## TASK 2.3 Impute missing categorial variables \n",
        "you will have to remove Nan values and replace them. \n",
        "\n",
        "You can use `sklearn.impute.SimpleImputer using strategy=\"most_frequent\"` on all variables, but you will have a naif solution for numerical imputations\n",
        "\n",
        "I prefer to replace them with \"None\" or a similar string, for which you can use the fillna method: ```df.fillna(\"None\")``` and leave it at that or with a little more effort you can input values based on nearest neighbors or some other inputation scheme. any choice goes so long as it is well described and justified with words."
      ]
    },
    {
      "cell_type": "code",
      "source": [
        "### here you replace NaN in categorical with one of the options above\n",
        "# your code here\n",
        "... #replace ... with your code"
      ],
      "metadata": {
        "id": "D0Hp7QNiwxU5"
      },
      "execution_count": null,
      "outputs": []
    },
    {
      "cell_type": "markdown",
      "source": [
        "# TASK 3 One Hot Encode the Categorical Variables\n",
        "\n",
        "Hint: Once you have done the fit and the transformation, which gives you the transformed data according to the new encoding, what you get is normally a sparse matrix. In principle there is an argument `sparse` to `OneHotEncoder` which should prevent this and give you a dense matrix, which is much easier to handle (consider asking me or looking up what is a sparse matrix!). That attribute did not work for me so once I applied the new encoding I converted the result to a dense matrix as \n",
        "`Xc = Xc.todense()`\n",
        "\n",
        "Finally, you will need to use a specific method to get the new names of the variables. Its a method of your model (which I called ohe below) and you can find it in this page here https://scikit-learn.org/stable/modules/generated/sklearn.preprocessing.OneHotEncoder.html"
      ],
      "metadata": {
        "id": "7ryRb65ux_rX"
      }
    },
    {
      "cell_type": "code",
      "source": [
        "X_categorical_data.describe()"
      ],
      "metadata": {
        "id": "TdW9a2K7zzey"
      },
      "execution_count": null,
      "outputs": []
    },
    {
      "cell_type": "code",
      "metadata": {
        "id": "BJoES_oBQBIl"
      },
      "source": [
        "from sklearn.preprocessing import OneHotEncoder\n",
        "# DELETE\n",
        "#your code here\n",
        "\n",
        "ohe = OneHotEncoder(... #replace ... with your code\n",
        "...\n",
        "Xc.shape"
      ],
      "execution_count": null,
      "outputs": []
    },
    {
      "cell_type": "code",
      "source": [
        "# there is a speific method of ohe that allows you to get the names of the features after the encoding is done\n",
        "feature_name_cat = ohe...... #replace ... with your code"
      ],
      "metadata": {
        "id": "IuLhVV3SBlPb"
      },
      "execution_count": null,
      "outputs": []
    },
    {
      "cell_type": "markdown",
      "metadata": {
        "id": "3Wd7WBC6fSSI"
      },
      "source": [
        "# Task 4 recombine your numerical and categorical imput features and split your data into training and testing"
      ]
    },
    {
      "cell_type": "code",
      "metadata": {
        "id": "eq9FKlTgOsvX"
      },
      "source": [
        "# this dont need to be the same for you\n",
        "Xn.shape"
      ],
      "execution_count": null,
      "outputs": []
    },
    {
      "cell_type": "code",
      "metadata": {
        "id": "ob2Nd1_pTeAx"
      },
      "source": [
        "# this dont need to be the same for you\n",
        "Xc.shape"
      ],
      "execution_count": null,
      "outputs": []
    },
    {
      "cell_type": "code",
      "metadata": {
        "id": "0taJGPcRTfLN"
      },
      "source": [
        "X = np.hstack([Xn, Xc])\n",
        "X.shape"
      ],
      "execution_count": null,
      "outputs": []
    },
    {
      "cell_type": "code",
      "source": [
        "print(\"The dataset has {} features (!!!)\".format(X.shape[1]))"
      ],
      "metadata": {
        "id": "Q-1tDyqg2HCC"
      },
      "execution_count": null,
      "outputs": []
    },
    {
      "cell_type": "code",
      "metadata": {
        "id": "WCUUattUUfqR"
      },
      "source": [
        "# make a train and test dataset\n",
        "from sklearn.model_selection import train_test_split\n",
        "\n",
        "X_train, X_test, y_train, y_test = ..... #replace ... with your code"
      ],
      "execution_count": null,
      "outputs": []
    },
    {
      "cell_type": "markdown",
      "metadata": {
        "id": "ao-6jRG0fdNT"
      },
      "source": [
        "# TASK 5 run a random forest REGRESSION model\n",
        "\n",
        "report the score on the tranining and test data and identify the most important features\n",
        "\n",
        "(hint: if you see \"ValueError: Input contains NaN, infinity or a value too large for dtype('float64').\" check \n",
        "1. np.isnan(Xn).sum().sum() and np.isnan(Xc).sum().sum() both return 0\n",
        "2. np.isinf(Xn).sum().sum() returns 0\n",
        "3. all the feature that had very large numbers (> 1e5) have been converted to the log of their values"
      ]
    },
    {
      "cell_type": "code",
      "metadata": {
        "id": "kEiFt_htTjNF"
      },
      "source": [
        "from sklearn.ensemble import RandomForestRegressor\n",
        "rf = RandomForestRegressor(... #replace ... with your code"
      ],
      "execution_count": null,
      "outputs": []
    },
    {
      "cell_type": "code",
      "metadata": {
        "id": "ymTuhJURT8hC"
      },
      "source": [
        "print (\"the model test accuracy is {:.2}\".format(rf.score(X_test, y_test)))"
      ],
      "execution_count": null,
      "outputs": []
    },
    {
      "cell_type": "code",
      "metadata": {
        "id": "jX2RquwBUT0a"
      },
      "source": [
        "#this is how you see the importance of the features\n",
        "rf.feature_importances_[:10]"
      ],
      "execution_count": null,
      "outputs": []
    },
    {
      "cell_type": "code",
      "metadata": {
        "id": "465vWw5gWGA3"
      },
      "source": [
        "\n",
        "feature_names = .... #replace ... with your code\n",
        "len(feature_names)"
      ],
      "execution_count": null,
      "outputs": []
    },
    {
      "cell_type": "code",
      "metadata": {
        "id": "jO9F9bMRUYgU"
      },
      "source": [
        "# plot the top ~50 features\n",
        "import pylab as plt\n",
        "\n",
        "sorted_idx = ... #replace ... with your code \n",
        "\n",
        "y_ticks = np.arange(0, len(feature_names))\n",
        "fig, ax = plt.subplots(figsize=(10,20))\n",
        "ax.barh(y_ticks, tree_feature_importances[sorted_idx])\n",
        "ax.set_yticklabels(feature_names[sorted_idx])\n",
        "ax.set_yticks(y_ticks)\n",
        "ax.set_title(\"Random Forest Feature Importances (MDI)\")\n",
        "fig.tight_layout()\n",
        "ax.set_ylim(550, len(feature_names))\n",
        "plt.show()\n",
        "\n",
        "#your plot may be different from mine"
      ],
      "execution_count": null,
      "outputs": []
    },
    {
      "cell_type": "code",
      "source": [
        "# CAPTION HERE! How is your model, How is your feature importance results? what can you notice? is it interesting? is it insightful??"
      ],
      "metadata": {
        "id": "Fv7SfQcRDZSP"
      },
      "execution_count": null,
      "outputs": []
    },
    {
      "cell_type": "markdown",
      "source": [
        "# TASK 6 do it for another city! note: the variable names wont be the same\n"
      ],
      "metadata": {
        "id": "FCZTCrn5OtCl"
      }
    },
    {
      "cell_type": "markdown",
      "metadata": {
        "id": "XZxr_mNXV5QB"
      },
      "source": [
        "# useful links and methods and functions I used: \n",
        "\n",
        "```df.dropna()``` to remove observation with missing variables\n",
        "\n",
        "```df.drop(columns, axis=1)``` to remove features (columns)\n",
        "\n",
        "\n",
        "```np.log10()``` and ```np.isinf()``` to convert to log space and find infinite values  \n",
        "\n",
        "`np.hstack([X1, X2])` to concatenate two arrays\n"
      ]
    },
    {
      "cell_type": "markdown",
      "metadata": {
        "id": "glzZInBSoLjW"
      },
      "source": [
        "one hot encoder https://scikit-learn.org/stable/modules/generated/sklearn.preprocessing.OneHotEncoder.html and https://stackabuse.com/one-hot-encoding-in-python-with-pandas-and-scikit-learn/\n"
      ]
    },
    {
      "cell_type": "markdown",
      "metadata": {
        "id": "c9_0ZFaGqRj1"
      },
      "source": [
        "KNN imputer https://scikit-learn.org/stable/modules/generated/sklearn.impute.KNNImputer.html , https://www.analyticsvidhya.com/blog/2020/07/knnimputer-a-robust-way-to-impute-missing-values-using-scikit-learn/, and \n",
        "https://machinelearningmastery.com/knn-imputation-for-missing-values-in-machine-learning/  "
      ]
    },
    {
      "cell_type": "code",
      "metadata": {
        "id": "bKLcYpBcqggC"
      },
      "source": [],
      "execution_count": null,
      "outputs": []
    }
  ]
}