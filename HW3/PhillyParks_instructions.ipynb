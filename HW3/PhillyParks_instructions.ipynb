{
  "nbformat": 4,
  "nbformat_minor": 0,
  "metadata": {
    "colab": {
      "provenance": [],
      "include_colab_link": true
    },
    "kernelspec": {
      "name": "python3",
      "display_name": "Python 3"
    }
  },
  "cells": [
    {
      "cell_type": "markdown",
      "metadata": {
        "id": "view-in-github",
        "colab_type": "text"
      },
      "source": [
        "<a href=\"https://colab.research.google.com/github/ReidelVichot/PUA2022_RVichot/blob/main/HW3/PhillyParks_instructions.ipynb\" target=\"_parent\"><img src=\"https://colab.research.google.com/assets/colab-badge.svg\" alt=\"Open In Colab\"/></a>"
      ]
    },
    {
      "cell_type": "markdown",
      "metadata": {
        "id": "8f3dS08NNI9L"
      },
      "source": [
        "# HW2 : Summary statistics\n",
        "\n",
        "this homework performs strictly an exploratory analysis of the data\n",
        "\n",
        "Consult the https://www.cin.ufpe.br/~embat/Python%20for%20Data%20Analysis.pdf Python for Data Analysis book (pandas book) chapter 7 or this digital rendition of its content here https://github.com/fedhere/PUS2022_FBianco/blob/master/HW2/PandasCh7.ipynb. \n",
        "\n",
        "Also use the code examples in the folder classdemo https://github.com/fedhere/PUS2022_FBianco/tree/master/classdemo\n",
        "\n",
        "**important**\n",
        "turn in the notebook by uploading it to your github repository in a folder called HW3. Before you uploade the notebook make sure you \n",
        "- click above: Runtime -> Restart and run all\n",
        "\n",
        "this will assure that your notebook has not bugs due to running the cells of code out of order.\n"
      ]
    },
    {
      "cell_type": "code",
      "metadata": {
        "id": "bsvHG4L8PCGj"
      },
      "source": [
        "# you should only need the packathon pandas\n",
        "import pandas as pd"
      ],
      "execution_count": 51,
      "outputs": []
    },
    {
      "cell_type": "markdown",
      "metadata": {
        "id": "_V7he_fTwTGX"
      },
      "source": [
        "## Read in the data about the Philly parks \n",
        "you can find the data at \n",
        "http://data-phl.opendata.arcgis.com/datasets/d52445160ab14380a673e5849203eb64_0.csv"
      ]
    },
    {
      "cell_type": "code",
      "metadata": {
        "id": "O1W1r9xAPWSG"
      },
      "source": [
        "pparks = pd.read_csv(\"http://data-phl.opendata.arcgis.com/datasets/d52445160ab14380a673e5849203eb64_0.csv\")"
      ],
      "execution_count": 52,
      "outputs": []
    },
    {
      "cell_type": "code",
      "source": [
        "# get the info and the statistical description of the dataframe\n",
        "pparks.info()"
      ],
      "metadata": {
        "id": "Tu-0OQ8ECQEv",
        "outputId": "019fc4bb-26f8-4554-a6f7-0e410efc964e",
        "colab": {
          "base_uri": "https://localhost:8080/"
        }
      },
      "execution_count": 53,
      "outputs": [
        {
          "output_type": "stream",
          "name": "stdout",
          "text": [
            "<class 'pandas.core.frame.DataFrame'>\n",
            "RangeIndex: 517 entries, 0 to 516\n",
            "Data columns (total 25 columns):\n",
            " #   Column                   Non-Null Count  Dtype  \n",
            "---  ------                   --------------  -----  \n",
            " 0   OBJECTID                 517 non-null    int64  \n",
            " 1   PUBLIC_NAME              517 non-null    object \n",
            " 2   PARENT_NAME              517 non-null    object \n",
            " 3   NESTED                   517 non-null    object \n",
            " 4   OFFICIAL_NAME            287 non-null    object \n",
            " 5   LABEL                    515 non-null    object \n",
            " 6   ALIAS                    356 non-null    object \n",
            " 7   DPP_ASSET_ID             517 non-null    int64  \n",
            " 8   ADDRESS_911              514 non-null    object \n",
            " 9   ZIP_CODE                 517 non-null    int64  \n",
            " 10  ADDRESS_BRT              433 non-null    object \n",
            " 11  ALIAS_ADDRESS            431 non-null    object \n",
            " 12  ACREAGE                  517 non-null    float64\n",
            " 13  PROPERTY_CLASSIFICATION  517 non-null    object \n",
            " 14  PPR_USE                  517 non-null    object \n",
            " 15  PPR_DISTRICT             517 non-null    int64  \n",
            " 16  PPR_OPS_DISTRICT         517 non-null    object \n",
            " 17  COUNCIL_DISTRICT         516 non-null    object \n",
            " 18  POLICE_DISTRICT          516 non-null    object \n",
            " 19  CITY_SCALE_MAPS          517 non-null    object \n",
            " 20  LOCAL_SCALE_MAPS         517 non-null    object \n",
            " 21  PROGRAM_SITES            517 non-null    object \n",
            " 22  COMMENTS                 146 non-null    object \n",
            " 23  Shape__Area              517 non-null    float64\n",
            " 24  Shape__Length            517 non-null    float64\n",
            "dtypes: float64(3), int64(4), object(18)\n",
            "memory usage: 101.1+ KB\n"
          ]
        }
      ]
    },
    {
      "cell_type": "code",
      "source": [
        "pparks.describe()"
      ],
      "metadata": {
        "id": "T6au_f9adoXD",
        "outputId": "1b601587-8596-49bb-bf7e-8b4193d4577c",
        "colab": {
          "base_uri": "https://localhost:8080/",
          "height": 300
        }
      },
      "execution_count": 54,
      "outputs": [
        {
          "output_type": "execute_result",
          "data": {
            "text/plain": [
              "         OBJECTID  DPP_ASSET_ID      ZIP_CODE      ACREAGE  PPR_DISTRICT  \\\n",
              "count  517.000000    517.000000    517.000000   517.000000    517.000000   \n",
              "mean   259.000000   2491.276596  19057.479691    19.619205      5.841393   \n",
              "std    149.389312   8683.813187   1188.846872   110.302249      2.875651   \n",
              "min      1.000000      0.000000      0.000000     0.019246      1.000000   \n",
              "25%    130.000000    806.000000  19122.000000     0.842380      4.000000   \n",
              "50%    259.000000   1849.000000  19132.000000     3.379144      6.000000   \n",
              "75%    388.000000   2796.000000  19143.000000     8.090364      8.000000   \n",
              "max    517.000000  99999.000000  19154.000000  1683.518683     10.000000   \n",
              "\n",
              "        Shape__Area  Shape__Length  \n",
              "count  5.170000e+02     517.000000  \n",
              "mean   1.355471e+05    1693.782638  \n",
              "std    7.624401e+05    6143.765486  \n",
              "min    1.327734e+02      57.986107  \n",
              "25%    5.813199e+03     352.459045  \n",
              "50%    2.335269e+04     689.437420  \n",
              "75%    5.596671e+04    1186.864036  \n",
              "max    1.164142e+07   91235.252213  "
            ],
            "text/html": [
              "\n",
              "  <div id=\"df-659624f6-9f23-4ebc-8ca8-c3c72556cb8f\">\n",
              "    <div class=\"colab-df-container\">\n",
              "      <div>\n",
              "<style scoped>\n",
              "    .dataframe tbody tr th:only-of-type {\n",
              "        vertical-align: middle;\n",
              "    }\n",
              "\n",
              "    .dataframe tbody tr th {\n",
              "        vertical-align: top;\n",
              "    }\n",
              "\n",
              "    .dataframe thead th {\n",
              "        text-align: right;\n",
              "    }\n",
              "</style>\n",
              "<table border=\"1\" class=\"dataframe\">\n",
              "  <thead>\n",
              "    <tr style=\"text-align: right;\">\n",
              "      <th></th>\n",
              "      <th>OBJECTID</th>\n",
              "      <th>DPP_ASSET_ID</th>\n",
              "      <th>ZIP_CODE</th>\n",
              "      <th>ACREAGE</th>\n",
              "      <th>PPR_DISTRICT</th>\n",
              "      <th>Shape__Area</th>\n",
              "      <th>Shape__Length</th>\n",
              "    </tr>\n",
              "  </thead>\n",
              "  <tbody>\n",
              "    <tr>\n",
              "      <th>count</th>\n",
              "      <td>517.000000</td>\n",
              "      <td>517.000000</td>\n",
              "      <td>517.000000</td>\n",
              "      <td>517.000000</td>\n",
              "      <td>517.000000</td>\n",
              "      <td>5.170000e+02</td>\n",
              "      <td>517.000000</td>\n",
              "    </tr>\n",
              "    <tr>\n",
              "      <th>mean</th>\n",
              "      <td>259.000000</td>\n",
              "      <td>2491.276596</td>\n",
              "      <td>19057.479691</td>\n",
              "      <td>19.619205</td>\n",
              "      <td>5.841393</td>\n",
              "      <td>1.355471e+05</td>\n",
              "      <td>1693.782638</td>\n",
              "    </tr>\n",
              "    <tr>\n",
              "      <th>std</th>\n",
              "      <td>149.389312</td>\n",
              "      <td>8683.813187</td>\n",
              "      <td>1188.846872</td>\n",
              "      <td>110.302249</td>\n",
              "      <td>2.875651</td>\n",
              "      <td>7.624401e+05</td>\n",
              "      <td>6143.765486</td>\n",
              "    </tr>\n",
              "    <tr>\n",
              "      <th>min</th>\n",
              "      <td>1.000000</td>\n",
              "      <td>0.000000</td>\n",
              "      <td>0.000000</td>\n",
              "      <td>0.019246</td>\n",
              "      <td>1.000000</td>\n",
              "      <td>1.327734e+02</td>\n",
              "      <td>57.986107</td>\n",
              "    </tr>\n",
              "    <tr>\n",
              "      <th>25%</th>\n",
              "      <td>130.000000</td>\n",
              "      <td>806.000000</td>\n",
              "      <td>19122.000000</td>\n",
              "      <td>0.842380</td>\n",
              "      <td>4.000000</td>\n",
              "      <td>5.813199e+03</td>\n",
              "      <td>352.459045</td>\n",
              "    </tr>\n",
              "    <tr>\n",
              "      <th>50%</th>\n",
              "      <td>259.000000</td>\n",
              "      <td>1849.000000</td>\n",
              "      <td>19132.000000</td>\n",
              "      <td>3.379144</td>\n",
              "      <td>6.000000</td>\n",
              "      <td>2.335269e+04</td>\n",
              "      <td>689.437420</td>\n",
              "    </tr>\n",
              "    <tr>\n",
              "      <th>75%</th>\n",
              "      <td>388.000000</td>\n",
              "      <td>2796.000000</td>\n",
              "      <td>19143.000000</td>\n",
              "      <td>8.090364</td>\n",
              "      <td>8.000000</td>\n",
              "      <td>5.596671e+04</td>\n",
              "      <td>1186.864036</td>\n",
              "    </tr>\n",
              "    <tr>\n",
              "      <th>max</th>\n",
              "      <td>517.000000</td>\n",
              "      <td>99999.000000</td>\n",
              "      <td>19154.000000</td>\n",
              "      <td>1683.518683</td>\n",
              "      <td>10.000000</td>\n",
              "      <td>1.164142e+07</td>\n",
              "      <td>91235.252213</td>\n",
              "    </tr>\n",
              "  </tbody>\n",
              "</table>\n",
              "</div>\n",
              "      <button class=\"colab-df-convert\" onclick=\"convertToInteractive('df-659624f6-9f23-4ebc-8ca8-c3c72556cb8f')\"\n",
              "              title=\"Convert this dataframe to an interactive table.\"\n",
              "              style=\"display:none;\">\n",
              "        \n",
              "  <svg xmlns=\"http://www.w3.org/2000/svg\" height=\"24px\"viewBox=\"0 0 24 24\"\n",
              "       width=\"24px\">\n",
              "    <path d=\"M0 0h24v24H0V0z\" fill=\"none\"/>\n",
              "    <path d=\"M18.56 5.44l.94 2.06.94-2.06 2.06-.94-2.06-.94-.94-2.06-.94 2.06-2.06.94zm-11 1L8.5 8.5l.94-2.06 2.06-.94-2.06-.94L8.5 2.5l-.94 2.06-2.06.94zm10 10l.94 2.06.94-2.06 2.06-.94-2.06-.94-.94-2.06-.94 2.06-2.06.94z\"/><path d=\"M17.41 7.96l-1.37-1.37c-.4-.4-.92-.59-1.43-.59-.52 0-1.04.2-1.43.59L10.3 9.45l-7.72 7.72c-.78.78-.78 2.05 0 2.83L4 21.41c.39.39.9.59 1.41.59.51 0 1.02-.2 1.41-.59l7.78-7.78 2.81-2.81c.8-.78.8-2.07 0-2.86zM5.41 20L4 18.59l7.72-7.72 1.47 1.35L5.41 20z\"/>\n",
              "  </svg>\n",
              "      </button>\n",
              "      \n",
              "  <style>\n",
              "    .colab-df-container {\n",
              "      display:flex;\n",
              "      flex-wrap:wrap;\n",
              "      gap: 12px;\n",
              "    }\n",
              "\n",
              "    .colab-df-convert {\n",
              "      background-color: #E8F0FE;\n",
              "      border: none;\n",
              "      border-radius: 50%;\n",
              "      cursor: pointer;\n",
              "      display: none;\n",
              "      fill: #1967D2;\n",
              "      height: 32px;\n",
              "      padding: 0 0 0 0;\n",
              "      width: 32px;\n",
              "    }\n",
              "\n",
              "    .colab-df-convert:hover {\n",
              "      background-color: #E2EBFA;\n",
              "      box-shadow: 0px 1px 2px rgba(60, 64, 67, 0.3), 0px 1px 3px 1px rgba(60, 64, 67, 0.15);\n",
              "      fill: #174EA6;\n",
              "    }\n",
              "\n",
              "    [theme=dark] .colab-df-convert {\n",
              "      background-color: #3B4455;\n",
              "      fill: #D2E3FC;\n",
              "    }\n",
              "\n",
              "    [theme=dark] .colab-df-convert:hover {\n",
              "      background-color: #434B5C;\n",
              "      box-shadow: 0px 1px 3px 1px rgba(0, 0, 0, 0.15);\n",
              "      filter: drop-shadow(0px 1px 2px rgba(0, 0, 0, 0.3));\n",
              "      fill: #FFFFFF;\n",
              "    }\n",
              "  </style>\n",
              "\n",
              "      <script>\n",
              "        const buttonEl =\n",
              "          document.querySelector('#df-659624f6-9f23-4ebc-8ca8-c3c72556cb8f button.colab-df-convert');\n",
              "        buttonEl.style.display =\n",
              "          google.colab.kernel.accessAllowed ? 'block' : 'none';\n",
              "\n",
              "        async function convertToInteractive(key) {\n",
              "          const element = document.querySelector('#df-659624f6-9f23-4ebc-8ca8-c3c72556cb8f');\n",
              "          const dataTable =\n",
              "            await google.colab.kernel.invokeFunction('convertToInteractive',\n",
              "                                                     [key], {});\n",
              "          if (!dataTable) return;\n",
              "\n",
              "          const docLinkHtml = 'Like what you see? Visit the ' +\n",
              "            '<a target=\"_blank\" href=https://colab.research.google.com/notebooks/data_table.ipynb>data table notebook</a>'\n",
              "            + ' to learn more about interactive tables.';\n",
              "          element.innerHTML = '';\n",
              "          dataTable['output_type'] = 'display_data';\n",
              "          await google.colab.output.renderOutput(dataTable, element);\n",
              "          const docLink = document.createElement('div');\n",
              "          docLink.innerHTML = docLinkHtml;\n",
              "          element.appendChild(docLink);\n",
              "        }\n",
              "      </script>\n",
              "    </div>\n",
              "  </div>\n",
              "  "
            ]
          },
          "metadata": {},
          "execution_count": 54
        }
      ]
    },
    {
      "cell_type": "code",
      "metadata": {
        "id": "16pd9FMlPpBA",
        "colab": {
          "base_uri": "https://localhost:8080/"
        },
        "outputId": "e88dc576-166b-4f2a-a593-4b888a9f41c0"
      },
      "source": [
        "# show the shape of the parks file dataframe\n",
        "pparks.shape"
      ],
      "execution_count": 55,
      "outputs": [
        {
          "output_type": "execute_result",
          "data": {
            "text/plain": [
              "(517, 25)"
            ]
          },
          "metadata": {},
          "execution_count": 55
        }
      ]
    },
    {
      "cell_type": "code",
      "metadata": {
        "id": "UUQSYKFj5GKi",
        "colab": {
          "base_uri": "https://localhost:8080/"
        },
        "outputId": "2c369db7-d18e-4c8b-febe-0a20330131bb"
      },
      "source": [
        "# show the column names in the dataframe\n",
        "pparks.columns"
      ],
      "execution_count": 56,
      "outputs": [
        {
          "output_type": "execute_result",
          "data": {
            "text/plain": [
              "Index(['OBJECTID', 'PUBLIC_NAME', 'PARENT_NAME', 'NESTED', 'OFFICIAL_NAME',\n",
              "       'LABEL', 'ALIAS', 'DPP_ASSET_ID', 'ADDRESS_911', 'ZIP_CODE',\n",
              "       'ADDRESS_BRT', 'ALIAS_ADDRESS', 'ACREAGE', 'PROPERTY_CLASSIFICATION',\n",
              "       'PPR_USE', 'PPR_DISTRICT', 'PPR_OPS_DISTRICT', 'COUNCIL_DISTRICT',\n",
              "       'POLICE_DISTRICT', 'CITY_SCALE_MAPS', 'LOCAL_SCALE_MAPS',\n",
              "       'PROGRAM_SITES', 'COMMENTS', 'Shape__Area', 'Shape__Length'],\n",
              "      dtype='object')"
            ]
          },
          "metadata": {},
          "execution_count": 56
        }
      ]
    },
    {
      "cell_type": "code",
      "metadata": {
        "id": "ftgUP5wA5NB2",
        "colab": {
          "base_uri": "https://localhost:8080/",
          "height": 629
        },
        "outputId": "a38d3c43-d530-47d9-e8e3-c311824fd2aa"
      },
      "source": [
        "# show the beginning of the dataframe (the first 5 rows)\n",
        "pparks.head(5)"
      ],
      "execution_count": 57,
      "outputs": [
        {
          "output_type": "execute_result",
          "data": {
            "text/plain": [
              "   OBJECTID                                     PUBLIC_NAME  \\\n",
              "0         1  William H (Billy) Markward Memorial Playground   \n",
              "1         2                                Schuylkill Banks   \n",
              "2         3                           Schuylkill River Park   \n",
              "3         4                           Frankford Boat Launch   \n",
              "4         5                            Orthodox Street Park   \n",
              "\n",
              "             PARENT_NAME NESTED  \\\n",
              "0  Schuylkill River Park      Y   \n",
              "1       Schuylkill Banks      N   \n",
              "2  Schuylkill River Park      N   \n",
              "3  Frankford Boat Launch      N   \n",
              "4   Orthodox Street Park      N   \n",
              "\n",
              "                                     OFFICIAL_NAME                  LABEL  \\\n",
              "0  William H. (Billy) Markward Memorial Playground              Markward    \n",
              "1                                              NaN       Schuylkill Banks   \n",
              "2                                              NaN  Schuylkill River Park   \n",
              "3                            Frankford Boat Launch       Frankford Launch   \n",
              "4                                              NaN               Orthodox   \n",
              "\n",
              "                                               ALIAS  DPP_ASSET_ID  \\\n",
              "0                                                NaN          1903   \n",
              "1                              Schuylkill River Park          2794   \n",
              "2                                                NaN          2992   \n",
              "3       PA Fish & Boat;Frankford Arsenal Boat Launch          3090   \n",
              "4  Orthodox Street Parcel; Bridesburg Riverfront ...          3091   \n",
              "\n",
              "        ADDRESS_911  ZIP_CODE  ... PPR_DISTRICT PPR_OPS_DISTRICT  \\\n",
              "0    400 S TANEY ST     19146  ...            7             5, 7   \n",
              "1    400 S TANEY ST     19103  ...            7             5, 7   \n",
              "2    400 S TANEY ST     19146  ...            7             5, 7   \n",
              "3    5625 TACONY ST     19137  ...            2                2   \n",
              "4  3101 ORTHODOX ST     19137  ...            5                2   \n",
              "\n",
              "   COUNCIL_DISTRICT POLICE_DISTRICT CITY_SCALE_MAPS  LOCAL_SCALE_MAPS  \\\n",
              "0                 2               9               Y                 Y   \n",
              "1              2, 5           9, 17               Y                 Y   \n",
              "2                 2               9               Y                 Y   \n",
              "3                 6              15               Y                 Y   \n",
              "4                 6              15               N                 N   \n",
              "\n",
              "  PROGRAM_SITES                                           COMMENTS  \\\n",
              "0             Y                                                NaN   \n",
              "1             N    Bill 160113 (4/14/16) -South of South St Bridge   \n",
              "2             N                                                NaN   \n",
              "3             N                                                NaN   \n",
              "4             N  Officially acquired from PAID in 10/2019. Doc ...   \n",
              "\n",
              "     Shape__Area Shape__Length  \n",
              "0   23295.664062    892.868012  \n",
              "1  101477.171875   9300.670275  \n",
              "2   27216.929688    799.048584  \n",
              "3   78515.335938   1585.376114  \n",
              "4   72926.187500   1304.901416  \n",
              "\n",
              "[5 rows x 25 columns]"
            ],
            "text/html": [
              "\n",
              "  <div id=\"df-d5591da7-9b5b-407c-a760-75a3a60b4424\">\n",
              "    <div class=\"colab-df-container\">\n",
              "      <div>\n",
              "<style scoped>\n",
              "    .dataframe tbody tr th:only-of-type {\n",
              "        vertical-align: middle;\n",
              "    }\n",
              "\n",
              "    .dataframe tbody tr th {\n",
              "        vertical-align: top;\n",
              "    }\n",
              "\n",
              "    .dataframe thead th {\n",
              "        text-align: right;\n",
              "    }\n",
              "</style>\n",
              "<table border=\"1\" class=\"dataframe\">\n",
              "  <thead>\n",
              "    <tr style=\"text-align: right;\">\n",
              "      <th></th>\n",
              "      <th>OBJECTID</th>\n",
              "      <th>PUBLIC_NAME</th>\n",
              "      <th>PARENT_NAME</th>\n",
              "      <th>NESTED</th>\n",
              "      <th>OFFICIAL_NAME</th>\n",
              "      <th>LABEL</th>\n",
              "      <th>ALIAS</th>\n",
              "      <th>DPP_ASSET_ID</th>\n",
              "      <th>ADDRESS_911</th>\n",
              "      <th>ZIP_CODE</th>\n",
              "      <th>...</th>\n",
              "      <th>PPR_DISTRICT</th>\n",
              "      <th>PPR_OPS_DISTRICT</th>\n",
              "      <th>COUNCIL_DISTRICT</th>\n",
              "      <th>POLICE_DISTRICT</th>\n",
              "      <th>CITY_SCALE_MAPS</th>\n",
              "      <th>LOCAL_SCALE_MAPS</th>\n",
              "      <th>PROGRAM_SITES</th>\n",
              "      <th>COMMENTS</th>\n",
              "      <th>Shape__Area</th>\n",
              "      <th>Shape__Length</th>\n",
              "    </tr>\n",
              "  </thead>\n",
              "  <tbody>\n",
              "    <tr>\n",
              "      <th>0</th>\n",
              "      <td>1</td>\n",
              "      <td>William H (Billy) Markward Memorial Playground</td>\n",
              "      <td>Schuylkill River Park</td>\n",
              "      <td>Y</td>\n",
              "      <td>William H. (Billy) Markward Memorial Playground</td>\n",
              "      <td>Markward</td>\n",
              "      <td>NaN</td>\n",
              "      <td>1903</td>\n",
              "      <td>400 S TANEY ST</td>\n",
              "      <td>19146</td>\n",
              "      <td>...</td>\n",
              "      <td>7</td>\n",
              "      <td>5, 7</td>\n",
              "      <td>2</td>\n",
              "      <td>9</td>\n",
              "      <td>Y</td>\n",
              "      <td>Y</td>\n",
              "      <td>Y</td>\n",
              "      <td>NaN</td>\n",
              "      <td>23295.664062</td>\n",
              "      <td>892.868012</td>\n",
              "    </tr>\n",
              "    <tr>\n",
              "      <th>1</th>\n",
              "      <td>2</td>\n",
              "      <td>Schuylkill Banks</td>\n",
              "      <td>Schuylkill Banks</td>\n",
              "      <td>N</td>\n",
              "      <td>NaN</td>\n",
              "      <td>Schuylkill Banks</td>\n",
              "      <td>Schuylkill River Park</td>\n",
              "      <td>2794</td>\n",
              "      <td>400 S TANEY ST</td>\n",
              "      <td>19103</td>\n",
              "      <td>...</td>\n",
              "      <td>7</td>\n",
              "      <td>5, 7</td>\n",
              "      <td>2, 5</td>\n",
              "      <td>9, 17</td>\n",
              "      <td>Y</td>\n",
              "      <td>Y</td>\n",
              "      <td>N</td>\n",
              "      <td>Bill 160113 (4/14/16) -South of South St Bridge</td>\n",
              "      <td>101477.171875</td>\n",
              "      <td>9300.670275</td>\n",
              "    </tr>\n",
              "    <tr>\n",
              "      <th>2</th>\n",
              "      <td>3</td>\n",
              "      <td>Schuylkill River Park</td>\n",
              "      <td>Schuylkill River Park</td>\n",
              "      <td>N</td>\n",
              "      <td>NaN</td>\n",
              "      <td>Schuylkill River Park</td>\n",
              "      <td>NaN</td>\n",
              "      <td>2992</td>\n",
              "      <td>400 S TANEY ST</td>\n",
              "      <td>19146</td>\n",
              "      <td>...</td>\n",
              "      <td>7</td>\n",
              "      <td>5, 7</td>\n",
              "      <td>2</td>\n",
              "      <td>9</td>\n",
              "      <td>Y</td>\n",
              "      <td>Y</td>\n",
              "      <td>N</td>\n",
              "      <td>NaN</td>\n",
              "      <td>27216.929688</td>\n",
              "      <td>799.048584</td>\n",
              "    </tr>\n",
              "    <tr>\n",
              "      <th>3</th>\n",
              "      <td>4</td>\n",
              "      <td>Frankford Boat Launch</td>\n",
              "      <td>Frankford Boat Launch</td>\n",
              "      <td>N</td>\n",
              "      <td>Frankford Boat Launch</td>\n",
              "      <td>Frankford Launch</td>\n",
              "      <td>PA Fish &amp; Boat;Frankford Arsenal Boat Launch</td>\n",
              "      <td>3090</td>\n",
              "      <td>5625 TACONY ST</td>\n",
              "      <td>19137</td>\n",
              "      <td>...</td>\n",
              "      <td>2</td>\n",
              "      <td>2</td>\n",
              "      <td>6</td>\n",
              "      <td>15</td>\n",
              "      <td>Y</td>\n",
              "      <td>Y</td>\n",
              "      <td>N</td>\n",
              "      <td>NaN</td>\n",
              "      <td>78515.335938</td>\n",
              "      <td>1585.376114</td>\n",
              "    </tr>\n",
              "    <tr>\n",
              "      <th>4</th>\n",
              "      <td>5</td>\n",
              "      <td>Orthodox Street Park</td>\n",
              "      <td>Orthodox Street Park</td>\n",
              "      <td>N</td>\n",
              "      <td>NaN</td>\n",
              "      <td>Orthodox</td>\n",
              "      <td>Orthodox Street Parcel; Bridesburg Riverfront ...</td>\n",
              "      <td>3091</td>\n",
              "      <td>3101 ORTHODOX ST</td>\n",
              "      <td>19137</td>\n",
              "      <td>...</td>\n",
              "      <td>5</td>\n",
              "      <td>2</td>\n",
              "      <td>6</td>\n",
              "      <td>15</td>\n",
              "      <td>N</td>\n",
              "      <td>N</td>\n",
              "      <td>N</td>\n",
              "      <td>Officially acquired from PAID in 10/2019. Doc ...</td>\n",
              "      <td>72926.187500</td>\n",
              "      <td>1304.901416</td>\n",
              "    </tr>\n",
              "  </tbody>\n",
              "</table>\n",
              "<p>5 rows × 25 columns</p>\n",
              "</div>\n",
              "      <button class=\"colab-df-convert\" onclick=\"convertToInteractive('df-d5591da7-9b5b-407c-a760-75a3a60b4424')\"\n",
              "              title=\"Convert this dataframe to an interactive table.\"\n",
              "              style=\"display:none;\">\n",
              "        \n",
              "  <svg xmlns=\"http://www.w3.org/2000/svg\" height=\"24px\"viewBox=\"0 0 24 24\"\n",
              "       width=\"24px\">\n",
              "    <path d=\"M0 0h24v24H0V0z\" fill=\"none\"/>\n",
              "    <path d=\"M18.56 5.44l.94 2.06.94-2.06 2.06-.94-2.06-.94-.94-2.06-.94 2.06-2.06.94zm-11 1L8.5 8.5l.94-2.06 2.06-.94-2.06-.94L8.5 2.5l-.94 2.06-2.06.94zm10 10l.94 2.06.94-2.06 2.06-.94-2.06-.94-.94-2.06-.94 2.06-2.06.94z\"/><path d=\"M17.41 7.96l-1.37-1.37c-.4-.4-.92-.59-1.43-.59-.52 0-1.04.2-1.43.59L10.3 9.45l-7.72 7.72c-.78.78-.78 2.05 0 2.83L4 21.41c.39.39.9.59 1.41.59.51 0 1.02-.2 1.41-.59l7.78-7.78 2.81-2.81c.8-.78.8-2.07 0-2.86zM5.41 20L4 18.59l7.72-7.72 1.47 1.35L5.41 20z\"/>\n",
              "  </svg>\n",
              "      </button>\n",
              "      \n",
              "  <style>\n",
              "    .colab-df-container {\n",
              "      display:flex;\n",
              "      flex-wrap:wrap;\n",
              "      gap: 12px;\n",
              "    }\n",
              "\n",
              "    .colab-df-convert {\n",
              "      background-color: #E8F0FE;\n",
              "      border: none;\n",
              "      border-radius: 50%;\n",
              "      cursor: pointer;\n",
              "      display: none;\n",
              "      fill: #1967D2;\n",
              "      height: 32px;\n",
              "      padding: 0 0 0 0;\n",
              "      width: 32px;\n",
              "    }\n",
              "\n",
              "    .colab-df-convert:hover {\n",
              "      background-color: #E2EBFA;\n",
              "      box-shadow: 0px 1px 2px rgba(60, 64, 67, 0.3), 0px 1px 3px 1px rgba(60, 64, 67, 0.15);\n",
              "      fill: #174EA6;\n",
              "    }\n",
              "\n",
              "    [theme=dark] .colab-df-convert {\n",
              "      background-color: #3B4455;\n",
              "      fill: #D2E3FC;\n",
              "    }\n",
              "\n",
              "    [theme=dark] .colab-df-convert:hover {\n",
              "      background-color: #434B5C;\n",
              "      box-shadow: 0px 1px 3px 1px rgba(0, 0, 0, 0.15);\n",
              "      filter: drop-shadow(0px 1px 2px rgba(0, 0, 0, 0.3));\n",
              "      fill: #FFFFFF;\n",
              "    }\n",
              "  </style>\n",
              "\n",
              "      <script>\n",
              "        const buttonEl =\n",
              "          document.querySelector('#df-d5591da7-9b5b-407c-a760-75a3a60b4424 button.colab-df-convert');\n",
              "        buttonEl.style.display =\n",
              "          google.colab.kernel.accessAllowed ? 'block' : 'none';\n",
              "\n",
              "        async function convertToInteractive(key) {\n",
              "          const element = document.querySelector('#df-d5591da7-9b5b-407c-a760-75a3a60b4424');\n",
              "          const dataTable =\n",
              "            await google.colab.kernel.invokeFunction('convertToInteractive',\n",
              "                                                     [key], {});\n",
              "          if (!dataTable) return;\n",
              "\n",
              "          const docLinkHtml = 'Like what you see? Visit the ' +\n",
              "            '<a target=\"_blank\" href=https://colab.research.google.com/notebooks/data_table.ipynb>data table notebook</a>'\n",
              "            + ' to learn more about interactive tables.';\n",
              "          element.innerHTML = '';\n",
              "          dataTable['output_type'] = 'display_data';\n",
              "          await google.colab.output.renderOutput(dataTable, element);\n",
              "          const docLink = document.createElement('div');\n",
              "          docLink.innerHTML = docLinkHtml;\n",
              "          element.appendChild(docLink);\n",
              "        }\n",
              "      </script>\n",
              "    </div>\n",
              "  </div>\n",
              "  "
            ]
          },
          "metadata": {},
          "execution_count": 57
        }
      ]
    },
    {
      "cell_type": "code",
      "metadata": {
        "id": "fskIVgPM3ZnC",
        "colab": {
          "base_uri": "https://localhost:8080/",
          "height": 629
        },
        "outputId": "cc58c180-095a-4b85-bdea-220be7854582"
      },
      "source": [
        "# show the end of the dataframe (the last 5 rows)\n",
        "pparks.tail(5)"
      ],
      "execution_count": 58,
      "outputs": [
        {
          "output_type": "execute_result",
          "data": {
            "text/plain": [
              "     OBJECTID                               PUBLIC_NAME  \\\n",
              "512       513  Officer Robert Hayes Memorial Playground   \n",
              "513       514                 Benjamin Franklin Parkway   \n",
              "514       515                    Winter Street Greenway   \n",
              "515       516                 61st and Cobbs Creek Park   \n",
              "516       517                 Lawrence Court Breezeways   \n",
              "\n",
              "                                  PARENT_NAME NESTED  \\\n",
              "512  Officer Robert Hayes Memorial Playground      N   \n",
              "513                 Benjamin Franklin Parkway      N   \n",
              "514                 Benjamin Franklin Parkway      Y   \n",
              "515                          Cobbs Creek Park      Y   \n",
              "516                 Lawrence Court Breezeways      N   \n",
              "\n",
              "                                OFFICIAL_NAME                   LABEL  \\\n",
              "512  Officer Robert Hayes Memorial Playground                   Hayes   \n",
              "513                 Benjamin Franklin Parkway  Benjamin Franklin Pkwy   \n",
              "514                                       NaN         Winter Greenway   \n",
              "515                                       NaN    61st and Cobbs Creek   \n",
              "516                                       NaN      Lawrence Breezeway   \n",
              "\n",
              "                                                 ALIAS  DPP_ASSET_ID  \\\n",
              "512                              Swenson Park, Conwell          1923   \n",
              "513                                        The Parkway          1226   \n",
              "514  Rob Stuart Memorial Dog Park; Winter Street Gr...             0   \n",
              "515                                                             3481   \n",
              "516                            Lawrence Court Walkways          3867   \n",
              "\n",
              "            ADDRESS_911  ZIP_CODE  ... PPR_DISTRICT PPR_OPS_DISTRICT  \\\n",
              "512   9949 PRESIDENT ST     19115  ...            1                1   \n",
              "513   BENJ FRANKLIN PKY         0  ...            7                5   \n",
              "514   BENJ FRANKLIN PKY         0  ...            7                5   \n",
              "515  61ST & COBBS CREEK     19143  ...            8                8   \n",
              "516     335 LAWRENCE CT     19106  ...           10                5   \n",
              "\n",
              "     COUNCIL_DISTRICT POLICE_DISTRICT CITY_SCALE_MAPS  LOCAL_SCALE_MAPS  \\\n",
              "512                10               7               Y                 Y   \n",
              "513                 5               9               Y                 Y   \n",
              "514                 5               9               N                 Y   \n",
              "515                 3              18               Y                 Y   \n",
              "516                 1               6               N                 Y   \n",
              "\n",
              "    PROGRAM_SITES                                           COMMENTS  \\\n",
              "512             Y                                                NaN   \n",
              "513             N  22nd and Hamilton 'wedge' added (Street Legal ...   \n",
              "514             N  Named in 2021. Winter (21st-22nd) has a dog pa...   \n",
              "515             Y                                                NaN   \n",
              "516             N                                                NaN   \n",
              "\n",
              "       Shape__Area Shape__Length  \n",
              "512  139660.027344   1698.902277  \n",
              "513  103066.453125   9195.466911  \n",
              "514    5386.812500    679.857371  \n",
              "515   35596.937500   1037.395645  \n",
              "516    1945.863281    394.259401  \n",
              "\n",
              "[5 rows x 25 columns]"
            ],
            "text/html": [
              "\n",
              "  <div id=\"df-4b268f28-e230-4479-b937-e22bacfbccb8\">\n",
              "    <div class=\"colab-df-container\">\n",
              "      <div>\n",
              "<style scoped>\n",
              "    .dataframe tbody tr th:only-of-type {\n",
              "        vertical-align: middle;\n",
              "    }\n",
              "\n",
              "    .dataframe tbody tr th {\n",
              "        vertical-align: top;\n",
              "    }\n",
              "\n",
              "    .dataframe thead th {\n",
              "        text-align: right;\n",
              "    }\n",
              "</style>\n",
              "<table border=\"1\" class=\"dataframe\">\n",
              "  <thead>\n",
              "    <tr style=\"text-align: right;\">\n",
              "      <th></th>\n",
              "      <th>OBJECTID</th>\n",
              "      <th>PUBLIC_NAME</th>\n",
              "      <th>PARENT_NAME</th>\n",
              "      <th>NESTED</th>\n",
              "      <th>OFFICIAL_NAME</th>\n",
              "      <th>LABEL</th>\n",
              "      <th>ALIAS</th>\n",
              "      <th>DPP_ASSET_ID</th>\n",
              "      <th>ADDRESS_911</th>\n",
              "      <th>ZIP_CODE</th>\n",
              "      <th>...</th>\n",
              "      <th>PPR_DISTRICT</th>\n",
              "      <th>PPR_OPS_DISTRICT</th>\n",
              "      <th>COUNCIL_DISTRICT</th>\n",
              "      <th>POLICE_DISTRICT</th>\n",
              "      <th>CITY_SCALE_MAPS</th>\n",
              "      <th>LOCAL_SCALE_MAPS</th>\n",
              "      <th>PROGRAM_SITES</th>\n",
              "      <th>COMMENTS</th>\n",
              "      <th>Shape__Area</th>\n",
              "      <th>Shape__Length</th>\n",
              "    </tr>\n",
              "  </thead>\n",
              "  <tbody>\n",
              "    <tr>\n",
              "      <th>512</th>\n",
              "      <td>513</td>\n",
              "      <td>Officer Robert Hayes Memorial Playground</td>\n",
              "      <td>Officer Robert Hayes Memorial Playground</td>\n",
              "      <td>N</td>\n",
              "      <td>Officer Robert Hayes Memorial Playground</td>\n",
              "      <td>Hayes</td>\n",
              "      <td>Swenson Park, Conwell</td>\n",
              "      <td>1923</td>\n",
              "      <td>9949 PRESIDENT ST</td>\n",
              "      <td>19115</td>\n",
              "      <td>...</td>\n",
              "      <td>1</td>\n",
              "      <td>1</td>\n",
              "      <td>10</td>\n",
              "      <td>7</td>\n",
              "      <td>Y</td>\n",
              "      <td>Y</td>\n",
              "      <td>Y</td>\n",
              "      <td>NaN</td>\n",
              "      <td>139660.027344</td>\n",
              "      <td>1698.902277</td>\n",
              "    </tr>\n",
              "    <tr>\n",
              "      <th>513</th>\n",
              "      <td>514</td>\n",
              "      <td>Benjamin Franklin Parkway</td>\n",
              "      <td>Benjamin Franklin Parkway</td>\n",
              "      <td>N</td>\n",
              "      <td>Benjamin Franklin Parkway</td>\n",
              "      <td>Benjamin Franklin Pkwy</td>\n",
              "      <td>The Parkway</td>\n",
              "      <td>1226</td>\n",
              "      <td>BENJ FRANKLIN PKY</td>\n",
              "      <td>0</td>\n",
              "      <td>...</td>\n",
              "      <td>7</td>\n",
              "      <td>5</td>\n",
              "      <td>5</td>\n",
              "      <td>9</td>\n",
              "      <td>Y</td>\n",
              "      <td>Y</td>\n",
              "      <td>N</td>\n",
              "      <td>22nd and Hamilton 'wedge' added (Street Legal ...</td>\n",
              "      <td>103066.453125</td>\n",
              "      <td>9195.466911</td>\n",
              "    </tr>\n",
              "    <tr>\n",
              "      <th>514</th>\n",
              "      <td>515</td>\n",
              "      <td>Winter Street Greenway</td>\n",
              "      <td>Benjamin Franklin Parkway</td>\n",
              "      <td>Y</td>\n",
              "      <td>NaN</td>\n",
              "      <td>Winter Greenway</td>\n",
              "      <td>Rob Stuart Memorial Dog Park; Winter Street Gr...</td>\n",
              "      <td>0</td>\n",
              "      <td>BENJ FRANKLIN PKY</td>\n",
              "      <td>0</td>\n",
              "      <td>...</td>\n",
              "      <td>7</td>\n",
              "      <td>5</td>\n",
              "      <td>5</td>\n",
              "      <td>9</td>\n",
              "      <td>N</td>\n",
              "      <td>Y</td>\n",
              "      <td>N</td>\n",
              "      <td>Named in 2021. Winter (21st-22nd) has a dog pa...</td>\n",
              "      <td>5386.812500</td>\n",
              "      <td>679.857371</td>\n",
              "    </tr>\n",
              "    <tr>\n",
              "      <th>515</th>\n",
              "      <td>516</td>\n",
              "      <td>61st and Cobbs Creek Park</td>\n",
              "      <td>Cobbs Creek Park</td>\n",
              "      <td>Y</td>\n",
              "      <td>NaN</td>\n",
              "      <td>61st and Cobbs Creek</td>\n",
              "      <td></td>\n",
              "      <td>3481</td>\n",
              "      <td>61ST &amp; COBBS CREEK</td>\n",
              "      <td>19143</td>\n",
              "      <td>...</td>\n",
              "      <td>8</td>\n",
              "      <td>8</td>\n",
              "      <td>3</td>\n",
              "      <td>18</td>\n",
              "      <td>Y</td>\n",
              "      <td>Y</td>\n",
              "      <td>Y</td>\n",
              "      <td>NaN</td>\n",
              "      <td>35596.937500</td>\n",
              "      <td>1037.395645</td>\n",
              "    </tr>\n",
              "    <tr>\n",
              "      <th>516</th>\n",
              "      <td>517</td>\n",
              "      <td>Lawrence Court Breezeways</td>\n",
              "      <td>Lawrence Court Breezeways</td>\n",
              "      <td>N</td>\n",
              "      <td>NaN</td>\n",
              "      <td>Lawrence Breezeway</td>\n",
              "      <td>Lawrence Court Walkways</td>\n",
              "      <td>3867</td>\n",
              "      <td>335 LAWRENCE CT</td>\n",
              "      <td>19106</td>\n",
              "      <td>...</td>\n",
              "      <td>10</td>\n",
              "      <td>5</td>\n",
              "      <td>1</td>\n",
              "      <td>6</td>\n",
              "      <td>N</td>\n",
              "      <td>Y</td>\n",
              "      <td>N</td>\n",
              "      <td>NaN</td>\n",
              "      <td>1945.863281</td>\n",
              "      <td>394.259401</td>\n",
              "    </tr>\n",
              "  </tbody>\n",
              "</table>\n",
              "<p>5 rows × 25 columns</p>\n",
              "</div>\n",
              "      <button class=\"colab-df-convert\" onclick=\"convertToInteractive('df-4b268f28-e230-4479-b937-e22bacfbccb8')\"\n",
              "              title=\"Convert this dataframe to an interactive table.\"\n",
              "              style=\"display:none;\">\n",
              "        \n",
              "  <svg xmlns=\"http://www.w3.org/2000/svg\" height=\"24px\"viewBox=\"0 0 24 24\"\n",
              "       width=\"24px\">\n",
              "    <path d=\"M0 0h24v24H0V0z\" fill=\"none\"/>\n",
              "    <path d=\"M18.56 5.44l.94 2.06.94-2.06 2.06-.94-2.06-.94-.94-2.06-.94 2.06-2.06.94zm-11 1L8.5 8.5l.94-2.06 2.06-.94-2.06-.94L8.5 2.5l-.94 2.06-2.06.94zm10 10l.94 2.06.94-2.06 2.06-.94-2.06-.94-.94-2.06-.94 2.06-2.06.94z\"/><path d=\"M17.41 7.96l-1.37-1.37c-.4-.4-.92-.59-1.43-.59-.52 0-1.04.2-1.43.59L10.3 9.45l-7.72 7.72c-.78.78-.78 2.05 0 2.83L4 21.41c.39.39.9.59 1.41.59.51 0 1.02-.2 1.41-.59l7.78-7.78 2.81-2.81c.8-.78.8-2.07 0-2.86zM5.41 20L4 18.59l7.72-7.72 1.47 1.35L5.41 20z\"/>\n",
              "  </svg>\n",
              "      </button>\n",
              "      \n",
              "  <style>\n",
              "    .colab-df-container {\n",
              "      display:flex;\n",
              "      flex-wrap:wrap;\n",
              "      gap: 12px;\n",
              "    }\n",
              "\n",
              "    .colab-df-convert {\n",
              "      background-color: #E8F0FE;\n",
              "      border: none;\n",
              "      border-radius: 50%;\n",
              "      cursor: pointer;\n",
              "      display: none;\n",
              "      fill: #1967D2;\n",
              "      height: 32px;\n",
              "      padding: 0 0 0 0;\n",
              "      width: 32px;\n",
              "    }\n",
              "\n",
              "    .colab-df-convert:hover {\n",
              "      background-color: #E2EBFA;\n",
              "      box-shadow: 0px 1px 2px rgba(60, 64, 67, 0.3), 0px 1px 3px 1px rgba(60, 64, 67, 0.15);\n",
              "      fill: #174EA6;\n",
              "    }\n",
              "\n",
              "    [theme=dark] .colab-df-convert {\n",
              "      background-color: #3B4455;\n",
              "      fill: #D2E3FC;\n",
              "    }\n",
              "\n",
              "    [theme=dark] .colab-df-convert:hover {\n",
              "      background-color: #434B5C;\n",
              "      box-shadow: 0px 1px 3px 1px rgba(0, 0, 0, 0.15);\n",
              "      filter: drop-shadow(0px 1px 2px rgba(0, 0, 0, 0.3));\n",
              "      fill: #FFFFFF;\n",
              "    }\n",
              "  </style>\n",
              "\n",
              "      <script>\n",
              "        const buttonEl =\n",
              "          document.querySelector('#df-4b268f28-e230-4479-b937-e22bacfbccb8 button.colab-df-convert');\n",
              "        buttonEl.style.display =\n",
              "          google.colab.kernel.accessAllowed ? 'block' : 'none';\n",
              "\n",
              "        async function convertToInteractive(key) {\n",
              "          const element = document.querySelector('#df-4b268f28-e230-4479-b937-e22bacfbccb8');\n",
              "          const dataTable =\n",
              "            await google.colab.kernel.invokeFunction('convertToInteractive',\n",
              "                                                     [key], {});\n",
              "          if (!dataTable) return;\n",
              "\n",
              "          const docLinkHtml = 'Like what you see? Visit the ' +\n",
              "            '<a target=\"_blank\" href=https://colab.research.google.com/notebooks/data_table.ipynb>data table notebook</a>'\n",
              "            + ' to learn more about interactive tables.';\n",
              "          element.innerHTML = '';\n",
              "          dataTable['output_type'] = 'display_data';\n",
              "          await google.colab.output.renderOutput(dataTable, element);\n",
              "          const docLink = document.createElement('div');\n",
              "          docLink.innerHTML = docLinkHtml;\n",
              "          element.appendChild(docLink);\n",
              "        }\n",
              "      </script>\n",
              "    </div>\n",
              "  </div>\n",
              "  "
            ]
          },
          "metadata": {},
          "execution_count": 58
        }
      ]
    },
    {
      "cell_type": "markdown",
      "metadata": {
        "id": "EyfxxJTQ1oKR"
      },
      "source": [
        "## meausre the central tendency of the Philly park sizes\n",
        "measure the mean and the median and compare them"
      ]
    },
    {
      "cell_type": "code",
      "metadata": {
        "id": "Z57bH4c99E_k",
        "outputId": "9cf52f74-5f45-4fe3-d1b9-83b47ab47b19",
        "colab": {
          "base_uri": "https://localhost:8080/"
        }
      },
      "source": [
        "meanps = pparks[\"ACREAGE\"].mean()\n",
        "print(meanps)\n"
      ],
      "execution_count": 59,
      "outputs": [
        {
          "output_type": "stream",
          "name": "stdout",
          "text": [
            "19.619205270754357\n"
          ]
        }
      ]
    },
    {
      "cell_type": "code",
      "metadata": {
        "id": "Sa8T8XRv9HNW",
        "outputId": "7ae74317-1866-4f88-8cdd-4e9f2ae35899",
        "colab": {
          "base_uri": "https://localhost:8080/"
        }
      },
      "source": [
        "# show the median size of the dataframe \n",
        "# are they the same? \n",
        "medianps = pparks[\"ACREAGE\"].median()\n",
        "print (medianps)\n",
        "\n",
        "#No they are not the same. "
      ],
      "execution_count": 73,
      "outputs": [
        {
          "output_type": "stream",
          "name": "stdout",
          "text": [
            "3.37914443\n"
          ]
        }
      ]
    },
    {
      "cell_type": "markdown",
      "metadata": {
        "id": "tMGgOIF374IN"
      },
      "source": [
        "what can you conclude from \n",
        " the values of the mean and median you extracted? (discuss in a text cell below)"
      ]
    },
    {
      "cell_type": "markdown",
      "source": [
        "hint: to plot a line over the histogram use ```pl.axvline(x=myx)``` and pass to this function \n",
        "the x value corresponding to the mean and to the median (in my example that would be called myx). \n",
        "As a default, this will plot a line that spanns the whole y range"
      ],
      "metadata": {
        "id": "UK4duyfabVzT"
      }
    },
    {
      "cell_type": "markdown",
      "source": [
        "hint: you can import the plotting package matplotlib.pylab and call pylab functions as \n",
        "```pl.plot()```\n",
        "```pl.axvline()```\n",
        "```pl.xlabel```\n",
        "\n",
        "or you can create a figure with the first command starting from the pandas dataframe as\n",
        "```ax = pparks[\"ACREAGE\"].hist()```\n",
        "\n",
        "and then use methods specific of the axis object ```ax```: ```ax.plot()``` ```ax.axvline()``` ```ax.set_xlabel```\n",
        "\n",
        "most of the commands are the same or have small differences (e.g. ```ax.set_xlabel``` instead of ```pl.xlabel```)"
      ],
      "metadata": {
        "id": "HVSWdlklbbZ2"
      }
    },
    {
      "cell_type": "code",
      "metadata": {
        "id": "JFjko-wE5dKu",
        "colab": {
          "base_uri": "https://localhost:8080/",
          "height": 279
        },
        "outputId": "ebd0d11b-a0f6-4ec1-e3a0-ec0c863ff27c"
      },
      "source": [
        "# visualize a histogram of the park size. \n",
        "# you can use the method of the ACREAGE column .hist()\n",
        "# choose an appropriate number of bins with the argument bins=\n",
        "# overplot on the histogram the mean and the median of the distribution\n",
        "\n",
        "ax = pparks[\"ACREAGE\"].hist(bins=30)\n",
        "                            \n",
        "\n",
        "ax.axvline(x=meanps, label=\"mean\", color=\"r\")\n",
        "ax.axvline(x=medianps,label=\"median\", color=\"b\")\n",
        "\n",
        "ax.set_xlabel(\"Area of Parks in Acres\")\n",
        "ax.set_ylabel(\"Occurrence\")\n",
        "ax.legend(); #to get the legend to render pass to axvline the argument label=\"...\" with ... being whatever you want displayed"
      ],
      "execution_count": 74,
      "outputs": [
        {
          "output_type": "display_data",
          "data": {
            "text/plain": [
              "<Figure size 432x288 with 1 Axes>"
            ],
            "image/png": "[encoded data removed]"
          },
          "metadata": {
            "needs_background": "light"
          }
        }
      ]
    },
    {
      "cell_type": "markdown",
      "metadata": {
        "id": "CIT4FVfp00jW"
      },
      "source": [
        "\n",
        "Figure Caption: Imagine that the reader has no access to my instructions, or to the code. What does this figure show? what should the reader note about the figure? \n"
      ]
    },
    {
      "cell_type": "markdown",
      "source": [
        "Figure Caption:\n",
        "This figure shows the distribution of the area in acres of the parks in Philadelphia. "
      ],
      "metadata": {
        "id": "uqmep0kaSZ-p"
      }
    },
    {
      "cell_type": "code",
      "source": [
        "pparks_adj = pparks[pparks[\"ACREAGE\"]<250]"
      ],
      "metadata": {
        "id": "hL9HxTQcU3wq"
      },
      "execution_count": 79,
      "outputs": []
    },
    {
      "cell_type": "code",
      "source": [
        "#The Figure above is very skewed due to the excistence of several outliers. \n",
        "#I will remove the outliers in order to have a better understanding of the data.\n",
        "ax = pparks_adj[\"ACREAGE\"].hist(bins=30)\n",
        "                            \n",
        "\n",
        "ax.axvline(x=meanps, label=\"mean\", color=\"r\")\n",
        "ax.axvline(x=medianps,label=\"median\", color=\"b\")\n",
        "\n",
        "ax.set_xlabel(\"Area of Parks in Acres\")\n",
        "ax.set_ylabel(\"Occurrence\")\n",
        "ax.legend(); #to get the legend to render pass to axvline the argument label=\"...\" with ... being whatever you want displayed"
      ],
      "metadata": {
        "colab": {
          "base_uri": "https://localhost:8080/",
          "height": 279
        },
        "id": "_DoJet1PTZD5",
        "outputId": "65248bf8-c825-416e-8cc5-7283d9b04283"
      },
      "execution_count": 81,
      "outputs": [
        {
          "output_type": "display_data",
          "data": {
            "text/plain": [
              "<Figure size 432x288 with 1 Axes>"
            ],
            "image/png": "[encoded data removed]"
          },
          "metadata": {
            "needs_background": "light"
          }
        }
      ]
    },
    {
      "cell_type": "markdown",
      "source": [
        "For the Figure correction, the graphic did not improve a lot. The mean is very influenced by the outliers."
      ],
      "metadata": {
        "id": "I7k3gpimeIoq"
      }
    },
    {
      "cell_type": "markdown",
      "metadata": {
        "id": "VlJDAh6s1ESG"
      },
      "source": [
        "## what is the spread of park sizes?\n",
        "calculate the standard deviation of the park sized"
      ]
    },
    {
      "cell_type": "code",
      "metadata": {
        "id": "oFarBw6i2GFG",
        "colab": {
          "base_uri": "https://localhost:8080/"
        },
        "outputId": "f2b242ea-86be-48b9-f8aa-3c9e1c256240"
      },
      "source": [
        "stdps = pparks[\"ACREAGE\"].std()\n",
        "print(stdps)"
      ],
      "execution_count": 83,
      "outputs": [
        {
          "output_type": "stream",
          "name": "stdout",
          "text": [
            "110.30224917686694\n"
          ]
        }
      ]
    },
    {
      "cell_type": "markdown",
      "metadata": {
        "id": "3av2lwsDx3vu"
      },
      "source": [
        "## select only a subset of the parks: the pasks smaller than 10 acres\n",
        "(you can do it similarly to the way we removed \"Unknown\" from the criminal arrests data in class: set a condition and use it to index the dataframe)\n",
        "\n",
        "calculate the mean and median and plot a histogram of the park sized with the mean and median indicated on the plot"
      ]
    },
    {
      "cell_type": "code",
      "metadata": {
        "id": "3lWmW957-NLa",
        "colab": {
          "base_uri": "https://localhost:8080/",
          "height": 279
        },
        "outputId": "ad396742-68f0-46b6-91fc-827a26fd2a26"
      },
      "source": [
        "# if you need help with this step do ask me about boolean arrays used as indices\n",
        "# and slicing of arrays and series! remember we have a slack channel #hw2\n",
        "ax = pparks[pparks[\"ACREAGE\"]<10][\"ACREAGE\"].hist(bins=30)\n",
        "mean = pparks[pparks[\"ACREAGE\"]<10][\"ACREAGE\"].mean()\n",
        "median = pparks[pparks[\"ACREAGE\"]<10][\"ACREAGE\"].median()\n",
        "ax.axvline(x=mean, label=\"mean\", color=\"r\")\n",
        "ax.axvline(x=median,label=\"median\", color=\"b\")\n",
        "ax.set_xlabel(\"Area of Parks in Acres < 10\")\n",
        "ax.set_ylabel(\"Occurrence\")\n",
        "ax.legend();"
      ],
      "execution_count": 91,
      "outputs": [
        {
          "output_type": "display_data",
          "data": {
            "text/plain": [
              "<Figure size 432x288 with 1 Axes>"
            ],
            "image/png": "[encoded data removed]"
          },
          "metadata": {
            "needs_background": "light"
          }
        }
      ]
    },
    {
      "cell_type": "markdown",
      "metadata": {
        "id": "34a6oAaM1DJG"
      },
      "source": [
        "\n",
        "Figure Caption: Imagine that the reader has no access to my instructions, or to the code. What does this figure show? what should the reader note about the figure?\n"
      ]
    },
    {
      "cell_type": "markdown",
      "source": [
        "Figure Caption:\n",
        "This figure shows the distribution of the area in acres of the parks in Philadelphia that have an area under 10 acres."
      ],
      "metadata": {
        "id": "726cxowyhpqG"
      }
    },
    {
      "cell_type": "markdown",
      "metadata": {
        "id": "vPDVrnGb3xwF"
      },
      "source": [
        "\n",
        "the parks listed in each row are in some cases subsets of larger parks. The \"parent\" park is listed under PARENT_NAME. \n",
        "\n",
        "The challenge is to visualize the distribution of sizes of the  parent parks. To do that you have to aggregate the parks based on the \"PARENT_NAME\" value and sum the size of the parks. The methods of the dataframe you want to use are \n",
        "```.groupby()```\n",
        "and \n",
        "```.sum()```"
      ]
    },
    {
      "cell_type": "code",
      "metadata": {
        "id": "ukYunCxr-TwY",
        "colab": {
          "base_uri": "https://localhost:8080/",
          "height": 279
        },
        "outputId": "d959cc59-f4d0-4992-dc5a-ea66185082b0"
      },
      "source": [
        "ax = pparks.groupby(\"PARENT_NAME\")[\"ACREAGE\"].sum().hist(bins=30)\n",
        "ax.set_xlabel(\"Area of Parks in Acres Grouped by Parent Park\")\n",
        "ax.set_ylabel(\"Occurrence\");"
      ],
      "execution_count": 102,
      "outputs": [
        {
          "output_type": "display_data",
          "data": {
            "text/plain": [
              "<Figure size 432x288 with 1 Axes>"
            ],
            "image/png": "[encoded data removed]"
          },
          "metadata": {
            "needs_background": "light"
          }
        }
      ]
    },
    {
      "cell_type": "markdown",
      "metadata": {
        "id": "BGEayx7x5xdl"
      },
      "source": [
        "Figure Caption: This figure shows the distribution of area of the parks grouped by parent park. The difference between this figure and the previous one is that for this figure, the data is aggregated by parent park."
      ]
    },
    {
      "cell_type": "markdown",
      "metadata": {
        "id": "OdMYUhIK7NY9"
      },
      "source": [
        "What could you measure about this new dataset obtained by grouping the data by PARENT_NAME that would allow you to investigate further the difference in the two dataset? "
      ]
    },
    {
      "cell_type": "code",
      "source": [
        "pparks.groupby(\"PARENT_NAME\")[\"ACREAGE\"].sum().mean()"
      ],
      "metadata": {
        "colab": {
          "base_uri": "https://localhost:8080/"
        },
        "id": "EVplKh8MqKRw",
        "outputId": "7a96a1da-de31-41fe-8c86-5d94c7c8f05a"
      },
      "execution_count": 104,
      "outputs": [
        {
          "output_type": "execute_result",
          "data": {
            "text/plain": [
              "25.67880791134177"
            ]
          },
          "metadata": {},
          "execution_count": 104
        }
      ]
    },
    {
      "cell_type": "code",
      "metadata": {
        "id": "jJ4gWgoV77vj",
        "colab": {
          "base_uri": "https://localhost:8080/",
          "height": 296
        },
        "outputId": "9e410818-3e3d-4faa-a0b4-3ebfcd9771c3"
      },
      "source": [
        "ax = pparks.groupby(\"PARENT_NAME\")[\"ACREAGE\"].sum().hist()\n",
        "mean = pparks.groupby(\"PARENT_NAME\")[\"ACREAGE\"].sum().mean()\n",
        "median = pparks.groupby(\"PARENT_NAME\")[\"ACREAGE\"].sum().median()\n",
        "ax.axvline(x=mean, label=\"mean\", color=\"r\")\n",
        "ax.axvline(x=median,label=\"median\", color=\"b\")\n",
        "ax.set_xlabel(\"Area of Parks in Acres Grouped by Parent Park\")\n",
        "ax.set_ylabel(\"Occurrence\")\n",
        "ax.legend();\n",
        "# We can measure the mean and median in order to better understand the distribution of parks' sizes when grouped by parent park.\n",
        "print (r\"the mean is %s and the median is %s\" % (mean, median))"
      ],
      "execution_count": 109,
      "outputs": [
        {
          "output_type": "stream",
          "name": "stdout",
          "text": [
            "the mean is 25.67880791134177 and the median is 2.90762604\n"
          ]
        },
        {
          "output_type": "display_data",
          "data": {
            "text/plain": [
              "<Figure size 432x288 with 1 Axes>"
            ],
            "image/png": "[encoded data removed]"
          },
          "metadata": {
            "needs_background": "light"
          }
        }
      ]
    },
    {
      "cell_type": "code",
      "source": [],
      "metadata": {
        "id": "LDyALXvXqbck"
      },
      "execution_count": null,
      "outputs": []
    }
  ]
}